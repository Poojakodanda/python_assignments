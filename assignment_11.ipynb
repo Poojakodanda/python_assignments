{
 "cells": [
  {
   "cell_type": "raw",
   "id": "3c6a3e42",
   "metadata": {},
   "source": [
    "1. Create an assert statement that throws an AssertionError if the variable spam is a negative integer."
   ]
  },
  {
   "cell_type": "code",
   "execution_count": 8,
   "id": "f6957bb8",
   "metadata": {},
   "outputs": [
    {
     "name": "stdout",
     "output_type": "stream",
     "text": [
      "plaese enter a positive integer-3\n",
      "the variable is negative integer\n"
     ]
    }
   ],
   "source": [
    "try:\n",
    "    spam=int(input(\"plaese enter a positive integer\"))\n",
    "    assert spam>0\n",
    "    print(\"the variable is positive integer\")\n",
    "except AssertionError:\n",
    "    print(\"the variable is negative integer\")"
   ]
  },
  {
   "cell_type": "raw",
   "id": "7e35e883",
   "metadata": {},
   "source": [
    "2. Write an assert statement that triggers an AssertionError if the variables eggs and bacon contain strings that are the same as each other, even if their cases are different (that is, 'hello' and 'hello' are considered the same, and 'goodbye' and 'GOODbye' are also considered the same)."
   ]
  },
  {
   "cell_type": "code",
   "execution_count": 10,
   "id": "b690db97",
   "metadata": {},
   "outputs": [
    {
     "name": "stdout",
     "output_type": "stream",
     "text": [
      "please enter a string: hello\n",
      "please enter a string: baby\n",
      "The eggs and bacon variable are not same\n"
     ]
    }
   ],
   "source": [
    "eggs=input('please enter a string: ' )\n",
    "bacon=input('please enter a string: ')\n",
    "try:\n",
    "    assert eggs.lower()!=bacon.lower()\n",
    "    print(\"The eggs and bacon variable are not same\")\n",
    "except AssertionError:\n",
    "    print(\"The eggs and bacon variable are same\")"
   ]
  },
  {
   "cell_type": "code",
   "execution_count": null,
   "id": "a5700995",
   "metadata": {},
   "outputs": [],
   "source": []
  },
  {
   "cell_type": "code",
   "execution_count": null,
   "id": "f6f19848",
   "metadata": {},
   "outputs": [],
   "source": []
  },
  {
   "cell_type": "code",
   "execution_count": null,
   "id": "b3a9b4db",
   "metadata": {},
   "outputs": [],
   "source": []
  },
  {
   "cell_type": "code",
   "execution_count": null,
   "id": "988bf88c",
   "metadata": {},
   "outputs": [],
   "source": []
  }
 ],
 "metadata": {
  "kernelspec": {
   "display_name": "Python 3 (ipykernel)",
   "language": "python",
   "name": "python3"
  },
  "language_info": {
   "codemirror_mode": {
    "name": "ipython",
    "version": 3
   },
   "file_extension": ".py",
   "mimetype": "text/x-python",
   "name": "python",
   "nbconvert_exporter": "python",
   "pygments_lexer": "ipython3",
   "version": "3.10.9"
  }
 },
 "nbformat": 4,
 "nbformat_minor": 5
}
