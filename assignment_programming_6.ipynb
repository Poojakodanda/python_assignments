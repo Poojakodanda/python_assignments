{
 "cells": [
  {
   "cell_type": "raw",
   "id": "6d8fc28b",
   "metadata": {},
   "source": [
    "1. Write a Python Program to Display Fibonacci Sequence using Recursion ?"
   ]
  },
  {
   "cell_type": "code",
   "execution_count": 1,
   "id": "b8b97781",
   "metadata": {},
   "outputs": [
    {
     "name": "stdout",
     "output_type": "stream",
     "text": [
      "Enter the length of series : 6\n",
      " 0, 1, 3, 5, 8, 13, 21, 34, "
     ]
    }
   ],
   "source": [
    "def fibonacci(n,a,b):\n",
    "    if n == 0:\n",
    "        return 1\n",
    "    else:\n",
    "        result = a+b\n",
    "        print(result, end = \", \")\n",
    "        fibonacci(n-1,b,result)\n",
    "\n",
    "n = int(input(\"Enter the length of series : \"))\n",
    "print(\" 0, 1\", end = \", \")\n",
    "fibonacci(n, 1 ,2)"
   ]
  },
  {
   "cell_type": "raw",
   "id": "6b84c839",
   "metadata": {},
   "source": [
    "2. Write a Python Program to Find Factorial of a Number using Recursion ?"
   ]
  },
  {
   "cell_type": "code",
   "execution_count": 2,
   "id": "344aaddc",
   "metadata": {},
   "outputs": [
    {
     "name": "stdout",
     "output_type": "stream",
     "text": [
      "Enter a number : 7\n",
      "The factorial of 7 is 5040\n"
     ]
    }
   ],
   "source": [
    "def factorial(n):\n",
    "    if (n < 1):\n",
    "        return 1\n",
    "    else:\n",
    "        return n*factorial(n-1)\n",
    "    \n",
    "n = int(input(\"Enter a number : \"))\n",
    "value = factorial(n)\n",
    "print(f\"The factorial of {n} is {value}\")"
   ]
  },
  {
   "cell_type": "code",
   "execution_count": 3,
   "id": "7b98fd15",
   "metadata": {},
   "outputs": [
    {
     "name": "stdout",
     "output_type": "stream",
     "text": [
      "Enter a number : 9\n",
      "The factorial of 9 is 362880\n"
     ]
    }
   ],
   "source": [
    "n = int(input(\"Enter a number : \"))\n",
    "value = factorial(n)\n",
    "print(f\"The factorial of {n} is {value}\")"
   ]
  },
  {
   "cell_type": "raw",
   "id": "7cdaf7d2",
   "metadata": {},
   "source": [
    "3. Write a Python Program to Calculate your Body Mass Index ?"
   ]
  },
  {
   "cell_type": "code",
   "execution_count": 5,
   "id": "351292e4",
   "metadata": {},
   "outputs": [
    {
     "name": "stdout",
     "output_type": "stream",
     "text": [
      "Enter your weight(kgs) : 55\n",
      "Enter your height(mts) : 5.5\n",
      " BMI is 1.8181818181818181 and report is Underweight\n"
     ]
    }
   ],
   "source": [
    "def BMI():\n",
    "    weight = float(input(\"Enter your weight(kgs) : \"))\n",
    "    height = float(input(\"Enter your height(mts) : \"))\n",
    "    bmi = weight/pow(height,2)\n",
    "    if (bmi <18.5):\n",
    "        report = \"Underweight\"\n",
    "    elif (bmi>= 18.5 and bmi <24.9):\n",
    "        report = \"Healthy\"\n",
    "    elif (bmi>= 24.9 and bmi < 30):\n",
    "        report = \"Overweight\"\n",
    "    elif (bmi >= 30):\n",
    "        report = \"Obesity\"\n",
    "    print(f\" BMI is {bmi} and report is {report}\")\n",
    "    \n",
    "BMI()"
   ]
  },
  {
   "cell_type": "raw",
   "id": "11562b26",
   "metadata": {},
   "source": [
    "4. Write a Python Program to Calculate the Natural Logarithm of any Number ?"
   ]
  },
  {
   "cell_type": "code",
   "execution_count": 8,
   "id": "111ccdb6",
   "metadata": {},
   "outputs": [
    {
     "name": "stdout",
     "output_type": "stream",
     "text": [
      "Enter a number : 6\n",
      "1.791759469228055\n"
     ]
    }
   ],
   "source": [
    "import math\n",
    "def natural_log():\n",
    "    n = eval(input(\"Enter a number : \"))\n",
    "    print(math.log(n))\n",
    "        \n",
    "natural_log()"
   ]
  },
  {
   "cell_type": "raw",
   "id": "fdaeaf6d",
   "metadata": {},
   "source": [
    "5. Write a Python Program for Cube sum of first n Natural Numbers ?"
   ]
  },
  {
   "cell_type": "code",
   "execution_count": null,
   "id": "112bbb03",
   "metadata": {},
   "outputs": [],
   "source": [
    "def cube_natural_number():\n",
    "    n = int(input(\"Enter the number of natural numbers : \"))\n",
    "    result = pow(((n*(n+1))/2),2)\n",
    "    print(f\"The cube sum of First {n} natura\")"
   ]
  },
  {
   "cell_type": "code",
   "execution_count": null,
   "id": "07cb01c7",
   "metadata": {},
   "outputs": [],
   "source": [
    "def cubeOfNaturalNumbers():\n",
    "    in_num = int(input(\"Enter the no of Natural Numbers: \"))\n",
    "    result = pow(((in_num * (in_num +1))/2),2)\n",
    "    print(f'The Cube Sum of First {in_num} Natural Numbers is {result}')\n",
    "\n",
    "cubeOfNaturalNumbers()"
   ]
  }
 ],
 "metadata": {
  "kernelspec": {
   "display_name": "Python 3 (ipykernel)",
   "language": "python",
   "name": "python3"
  },
  "language_info": {
   "codemirror_mode": {
    "name": "ipython",
    "version": 3
   },
   "file_extension": ".py",
   "mimetype": "text/x-python",
   "name": "python",
   "nbconvert_exporter": "python",
   "pygments_lexer": "ipython3",
   "version": "3.10.9"
  }
 },
 "nbformat": 4,
 "nbformat_minor": 5
}
