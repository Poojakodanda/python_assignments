{
 "cells": [
  {
   "cell_type": "markdown",
   "id": "6ee05194",
   "metadata": {},
   "source": [
    "Q1. In Python 3.X, what are the names and functions of string object types?\n",
    "\n",
    "Ans: The following are the names and functions of string object types in Python 3.X\n",
    "\n",
    "1. <stirng>.isdecimal() -> Returns True if all characters in a string are decimal.\n",
    "2. <string>.isalnum() -> Returns True if all characters in the string are AlphaNumeric.\n",
    "3. <string>.istitle() -> Returns True if first character in a string is in Uppercase.\n",
    "4. <string>.partition(<sub_string>) -> Splits string at first occurance of sub string and returns a tuple of 3 elements.\n",
    "5. <string>.rpartition(<sub_string>) -> Splits string at last occurance of sub string and returns a tuple of 3 elements.\n",
    "6. <string>.isidentifier() -> Returns True if give string is a valid identifier name.\n",
    "7. len(<string>) -> Returns the length of the given string.\n",
    "8. <string>.index(<sub_string>) -> Returns the lowest index of substring if substring is found in the string.\n",
    "9. <string>.rindex(<sub_string>) -> Returns the highest index of substring if substring is found in the string.\n",
    "10. max(<string>) -> Returns the highest Alphabetical Character in the string as per ASCII.\n",
    "11. min(<string>) -> Returns the lowest Alphabetical Character in the string as per ASCII.\n",
    "12. <string>.splitlines() -> Returns a list of lines in the string.\n",
    "13. <string>.capitalize() -> Returns the string with first character capitalized.\n",
    "14. <string>.upper() -> Returns the string with all characters in uppercase.\n",
    "15. <string>.lower() -> Returns the string with all characters in lowercase\n",
    "16. <string>.casefold() -> Returns the string in lowercase which can be used for caseless comparisions.\n",
    "17. <string>.expandtabs(no_of_spaces) -> Replaces tabs in a string with specified no of spaces default is 8\n",
    "18. <string>.find(<sub_string>) -> Returns lowest index of substring if substring is found in the string else returns -1.\n",
    "19. <string>.rfind(<sub_string>) -> Returns highest index of substring if substring is found in the string else returns -1.\n",
    "20. <string>.count(<char>) -> Returns the no of occurances of the char in the given string.\n",
    "21. <string>.split(<sep>) -> Returns list of words seperated by given sep else seperated by whitespace.\n",
    "22. <string>.rsplit(<sep>) -> Returns list of words seperated by given sep else seperated by whitespace scanning from end.\n",
    "23. <string>.lstrip() -> Returns a copy of where leading whitespaces are removed.\n",
    "24. <string>.rstrip() -> Returns a copy of where trailed whitespaces are removed.\n",
    "25. <string>.strip() -> Returns a copy of where both leading and trailing whitespaces are removed.\n",
    "26. <string>.swapcase() -> Swaps lowercase characters with uppercase and vice versa.\n",
    "27. <sep>.join(<list>) -> Concatenates a list or tuple of words with intervening occuernces of sep.\n",
    "28. <string>.translate(<mapping_table>) -> translates the characters using table.\n",
    "29. <string>.maketrans(<dict>) -> Creating a mapping translation tbale usable for. \n",
    "    \n",
    "30. <string>.translate(<mapping_table>)\n",
    "31. <string>.replace(<char_1>,<char_2>) -> Replace all occurances of char_1 with char_2 in string.\n",
    "32. <string>.encode() -> Encodes string into any encoding supported by python. Default encoding is UTF-8.\n",
    "33. <string>.ljust(<no_of_spaces>) -> Left-justify in a field of given width.\n",
    "34. <string>.rjust(<no_of_spaces>) -> Right-justify in a field of given width.\n",
    "35. <string>.center(<no_of_spaces>) -> Center-justify in a field of given width.\n",
    "36. <stirng>.zfill(<length>) -> Zfill adds zeros to the begining of string until the specified length is reached."
   ]
  },
  {
   "cell_type": "code",
   "execution_count": 5,
   "id": "9763acd8",
   "metadata": {},
   "outputs": [
    {
     "name": "stdout",
     "output_type": "stream",
     "text": [
      "True\n",
      "True\n",
      "False\n",
      "('Life is beautiful, i want to enjoy this ', 'life', '')\n",
      "('Life is beautiful, i want to enjoy this ', 'life', '')\n",
      "True\n",
      "13\n",
      "4\n",
      "13\n",
      "w\n",
      " \n",
      "['Ineuron ', ' Full Stack ', ' Data Science ', ' Course ']\n",
      "Life is beautiful\n",
      "LIFE IS BEAUTIFUL\n",
      "charvee\n",
      "life is beautiful\n",
      "Data science    Data Analyst\n",
      "4\n",
      "13\n",
      "2\n",
      "['i', 'euro', '']\n",
      "['i', 'euro', '']\n",
      "pooja \n",
      " pooja\n",
      "pooja\n",
      "eXPLORATORY dATA aNALYSIS\n",
      "pooja_charvee_vedhanth\n",
      "Hello world\n",
      "Hello world!\n",
      "I2euro2\n",
      "b'Life is beautiful'\n",
      "life      \n",
      "      life\n",
      "   life   \n",
      "000000life\n"
     ]
    }
   ],
   "source": [
    "print('1234567890'.isdecimal())\n",
    "print('Pooja123'.isalnum())\n",
    "print('Ineuron Full Stack Data science'.istitle())\n",
    "print('Life is beautiful, i want to enjoy this life'.partition('life'))\n",
    "print('Life is beautiful, i want to enjoy this life'.rpartition('life'))\n",
    "print('Pooja'.isidentifier())\n",
    "print(len('Pooja Charvee'))\n",
    "print('vedhanth Gowda'.index('a'))\n",
    "print('vedhanth Gowda'.rindex('a'))\n",
    "print(max('vedhanth Gowda'))\n",
    "print(min('vedhanth Gowda'))\n",
    "print('Ineuron \\n Full Stack \\n Data Science \\n Course '.splitlines())\n",
    "print('life is beautiful'.capitalize())\n",
    "print('life is beautiful'.upper())\n",
    "print('CHARVEE'.lower())\n",
    "print('life is BEautiful'.casefold())\n",
    "print('Data science\\tData Analyst'.expandtabs(8))\n",
    "print('vedhanth Gowda'.find('a'))\n",
    "print('vedhanth Gowda'.rfind('a'))\n",
    "print('vedhanth Gowda'.count('a'))\n",
    "print('ineuron'.split('n'))\n",
    "print('ineuron'.rsplit('n'))\n",
    "print(' pooja '.lstrip())\n",
    "print(' pooja '.rstrip())\n",
    "print(' pooja '.strip())\n",
    "print('Exploratory Data Analysis'.swapcase())\n",
    "print('_'.join(['pooja','charvee','vedhanth']))\n",
    "\n",
    "mydict = {83:  80}\n",
    "print(\"Hello world\".translate(mydict))\n",
    "\n",
    "txt = \"Hello world!\"\n",
    "mytable = txt.maketrans(\"S\", \"P\")\n",
    "print(txt.translate(mytable))\n",
    "\n",
    "print('Ineuron'.replace('n','2'))\n",
    "print('Life is beautiful'.encode())\n",
    "print('life'.ljust(10))\n",
    "print('life'.rjust(10))\n",
    "print('life'.center(10))\n",
    "print('life'.zfill(10))"
   ]
  },
  {
   "cell_type": "markdown",
   "id": "321d1dab",
   "metadata": {},
   "source": [
    "Q2. How do the string forms in Python 3.X vary in terms of operations?\n",
    "\n",
    "Ans: In Python3 default format of strings is Unicode Whereas in Pyton2 we need to explicitly mention Unicode value using u."
   ]
  },
  {
   "cell_type": "markdown",
   "id": "53bb2338",
   "metadata": {},
   "source": [
    "Q3. In Python 3.X, how do you put non-ASCII Unicode characters in a string?\n",
    "\n",
    "Ans: In Python 3.x unidecode() method from unidecode library can be used to put non-ASCII Unicode Characters in a string."
   ]
  },
  {
   "cell_type": "code",
   "execution_count": 6,
   "id": "5c236db5",
   "metadata": {},
   "outputs": [
    {
     "name": "stdout",
     "output_type": "stream",
     "text": [
      "kozuscek\n",
      "aap niice apnii bhaassaa aur inputt upkrnn cuneN aur likhnaa aarNbh kreN\n",
      "Xie Xie Ni \n",
      "arigatou. \n",
      "ulybat'sia Vladimir Putin\n"
     ]
    }
   ],
   "source": [
    "from unidecode import unidecode\n",
    "print(unidecode(u'ko\\u017eu\\u0161\\u010dek'))\n",
    "print(unidecode(\"आप नीचे अपनी भाषा और इनपुट उपकरण चुनें और लिखना आरंभ करें\"))\n",
    "print(unidecode(\"谢谢你\"))\n",
    "print(unidecode(\"ありがとう。\"))\n",
    "print(unidecode(\"улыбаться Владимир Путин\"))"
   ]
  },
  {
   "cell_type": "markdown",
   "id": "50457681",
   "metadata": {},
   "source": [
    "Q4. In Python 3.X, what are the key differences between text-mode and binary-mode files?\n",
    "\n",
    "Ans: The major difference between these two is that a text file contains textual information in the form of alphabets, digits and special characters or symbols. On the other hand, a binary file contains bytes or a compiled version of a text file.\n",
    "\n",
    "When a file is opened in text mode, reading its data automatically decodes its content (as per the platform default or as per provided encoding), and returns it as a str; writing operation takes a str, and automatically encodes it before transferring to the file. Text mode files also support universal end-of-line translation, and encoding specification arguments.\n",
    "\n",
    "When a file is opened in binary mode by adding a b to the mode string argument in the open() call, reading its data does not decode it in any way, and simply returns its content raw and unchanged, as a bytes object; writing takes a bytes object and transfers it to the file unchanged. Binary-mode files also accept a bytearray object for the content to be written to the file."
   ]
  },
  {
   "cell_type": "markdown",
   "id": "2f9bf509",
   "metadata": {},
   "source": [
    "Q5. How can you interpret a Unicode text file containing text encoded in a different encoding than your platform's default?\n",
    "\n",
    "Ans: Use of encode() and decode() method can be used to you interpret a Unicode text file containing text encoded in a different encoding than your platform's default, by default encoding parameter is UTF-8"
   ]
  },
  {
   "cell_type": "markdown",
   "id": "568f83af",
   "metadata": {},
   "source": [
    "Q6. What is the best way to make a Unicode text file in a particular encoding format?\n",
    "\n",
    "Ans: Use str.encode() and file.write() to make a Unicode text file in a particular encoding format, default encoding format is UTF-18.\n",
    "\n",
    "1. Call str.encode(encoding) with encoding set to utf8 to encode str.\n",
    "2. Call open(file, mode) to open a file with mode set to wb . wb writes to files in binary mode & preserves UTF-8format.\n",
    "3. Call file.write(data) to write data to the file."
   ]
  },
  {
   "cell_type": "code",
   "execution_count": 7,
   "id": "f1822817",
   "metadata": {},
   "outputs": [
    {
     "name": "stdout",
     "output_type": "stream",
     "text": [
      "b'\\xd1\\x83\\xd0\\xbb\\xd1\\x8b\\xd0\\xb1\\xd0\\xb0\\xd1\\x82\\xd1\\x8c\\xd1\\x81\\xd1\\x8f \\xd0\\x92\\xd0\\xbb\\xd0\\xb0\\xd0\\xb4\\xd0\\xb8\\xd0\\xbc\\xd0\\xb8\\xd1\\x80 \\xd0\\x9f\\xd1\\x83\\xd1\\x82\\xd0\\xb8\\xd0\\xbd'\n",
      "\n",
      "b'\\xd1\\x83\\xd0\\xbb\\xd1\\x8b\\xd0\\xb1\\xd0\\xb0\\xd1\\x82\\xd1\\x8c\\xd1\\x81\\xd1\\x8f \\xd0\\x92\\xd0\\xbb\\xd0\\xb0\\xd0\\xb4\\xd0\\xb8\\xd0\\xbc\\xd0\\xb8\\xd1\\x80 \\xd0\\x9f\\xd1\\x83\\xd1\\x82\\xd0\\xb8\\xd0\\xbd'\n"
     ]
    }
   ],
   "source": [
    "unicode_text = u\"улыбаться Владимир Путин\"\n",
    "encoded_unicode_text = unicode_text.encode(\"utf-8\")\n",
    "print(encoded_unicode_text,end=\"\\n\\n\")\n",
    "\n",
    "w_file = open(\"w_file.txt\",\"wb\")\n",
    "w_file.write(encoded_unicode_text)\n",
    "w_file.close()\n",
    "\n",
    "r_file = open(\"w_file.txt\",\"rb\")\n",
    "data = r_file.read()\n",
    "print(data)"
   ]
  },
  {
   "cell_type": "markdown",
   "id": "fc4c6b30",
   "metadata": {},
   "source": [
    "Q7. What qualifies ASCII text as a form of Unicode text?\n",
    "\n",
    "Ans: Unicode represents most written languages in the world. ASCII has its equivalent in Unicode. The difference between ASCII and Unicode is that ASCII represents lowercase letters (a-z), uppercase letters (A-Z), digits (0–9) and symbols such as punctuation marks while Unicode represents letters of English, Arabic, Greek etc. mathematical symbols, historical scripts, emoji covering a wide range of characters than ASCII."
   ]
  },
  {
   "cell_type": "markdown",
   "id": "4ec46c51",
   "metadata": {},
   "source": [
    "Q8. How much of an effect does the change in string types in Python 3.X have on your code?\n",
    "\n",
    "Ans: Python 3 stores strings as Unicode by default whereas Python 2 requires you to mark a string with a u if you want to store it as Unicode. Unicode strings are more versatile than ASCII strings, which are the Python 3.X default, as they can store letters from foreign languages as well as emoji and the standard Roman letters and numerals."
   ]
  }
 ],
 "metadata": {
  "kernelspec": {
   "display_name": "Python 3 (ipykernel)",
   "language": "python",
   "name": "python3"
  },
  "language_info": {
   "codemirror_mode": {
    "name": "ipython",
    "version": 3
   },
   "file_extension": ".py",
   "mimetype": "text/x-python",
   "name": "python",
   "nbconvert_exporter": "python",
   "pygments_lexer": "ipython3",
   "version": "3.10.9"
  }
 },
 "nbformat": 4,
 "nbformat_minor": 5
}
