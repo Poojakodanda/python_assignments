{
 "cells": [
  {
   "cell_type": "markdown",
   "id": "c3ad03c1",
   "metadata": {},
   "source": [
    "1.Create a function that takes a number as an argument and returns True or False depending on whether the number is symmetrical or not. A number is symmetrical when it is the same as its reverse.\n",
    "Examples:\n",
    "is_symmetrical(7227) ➞ True\n",
    "is_symmetrical(12567) ➞ False\n",
    "is_symmetrical(44444444) ➞ True\n",
    "is_symmetrical(9939) ➞ False\n",
    "is_symmetrical(1112111) ➞ True"
   ]
  },
  {
   "cell_type": "code",
   "execution_count": 1,
   "id": "9256fb90",
   "metadata": {},
   "outputs": [
    {
     "name": "stdout",
     "output_type": "stream",
     "text": [
      "2345432 --> True\n"
     ]
    }
   ],
   "source": [
    "def is_symmetrical(n):\n",
    "    if str(n)==str(n)[::-1]:\n",
    "        print(f'{n} --> {True}')\n",
    "    else:\n",
    "        print(f'{n} --> {False}')\n",
    "        \n",
    "is_symmetrical(2345432)"
   ]
  },
  {
   "cell_type": "code",
   "execution_count": 3,
   "id": "0a7191fe",
   "metadata": {},
   "outputs": [
    {
     "name": "stdout",
     "output_type": "stream",
     "text": [
      "abcdcba --> True\n"
     ]
    }
   ],
   "source": [
    "is_symmetrical('abcdcba')"
   ]
  },
  {
   "cell_type": "code",
   "execution_count": 4,
   "id": "26754c29",
   "metadata": {},
   "outputs": [
    {
     "name": "stdout",
     "output_type": "stream",
     "text": [
      "256457658 --> False\n"
     ]
    }
   ],
   "source": [
    "is_symmetrical(256457658)"
   ]
  },
  {
   "cell_type": "markdown",
   "id": "11e75f8e",
   "metadata": {},
   "source": [
    "2.Given a string of numbers separated by a comma and space, return the product of the numbers.\n",
    "Examples:\n",
    "multiply_nums(\"2, 3\") ➞ 6\n",
    "multiply_nums(\"1, 2, 3, 4\") ➞ 24\n",
    "multiply_nums(\"54, 75, 453, 0\") ➞ 0\n",
    "multiply_nums(\"10, -2\") ➞ -20"
   ]
  },
  {
   "cell_type": "code",
   "execution_count": 8,
   "id": "89f8b366",
   "metadata": {},
   "outputs": [
    {
     "name": "stdout",
     "output_type": "stream",
     "text": [
      "2, 3, 4, 5, 6 --> 720\n"
     ]
    }
   ],
   "source": [
    "def multiply_nums(string):\n",
    "    out_string = string.replace(' ','').split(\",\")\n",
    "    out_num = 1\n",
    "    for i in (out_string):\n",
    "        out_num = out_num*int(i)\n",
    "    print(f'{string} --> {out_num}')\n",
    "    \n",
    "multiply_nums('2, 3, 4, 5, 6')"
   ]
  },
  {
   "cell_type": "code",
   "execution_count": 9,
   "id": "0e8bd50d",
   "metadata": {},
   "outputs": [
    {
     "name": "stdout",
     "output_type": "stream",
     "text": [
      "3, 4, 12, 67, 89 --> 858672\n"
     ]
    }
   ],
   "source": [
    "multiply_nums('3, 4, 12, 67, 89')"
   ]
  },
  {
   "cell_type": "markdown",
   "id": "7a6bace6",
   "metadata": {},
   "source": [
    "3.Create a function that squares every digit of a number.\n",
    "Examples:\n",
    "square_digits(9119) ➞ 811181\n",
    "square_digits(2483) ➞ 416649\n",
    "square_digits(3212) ➞ 9414\n",
    "\n",
    "Notes:\n",
    "The function receives an integer and must return an integer."
   ]
  },
  {
   "cell_type": "code",
   "execution_count": 10,
   "id": "6138441a",
   "metadata": {},
   "outputs": [
    {
     "name": "stdout",
     "output_type": "stream",
     "text": [
      "1234 --> 14916\n"
     ]
    }
   ],
   "source": [
    "def square_digits(n):\n",
    "    list1 = [str(int(i)**2) for i in str(n)]\n",
    "    output = ''.join(list1)\n",
    "    print(f'{n} --> {output}')\n",
    "    \n",
    "square_digits(1234)"
   ]
  },
  {
   "cell_type": "code",
   "execution_count": 11,
   "id": "0a83d0af",
   "metadata": {},
   "outputs": [
    {
     "name": "stdout",
     "output_type": "stream",
     "text": [
      "3456 --> 9162536\n"
     ]
    }
   ],
   "source": [
    "square_digits(3456)"
   ]
  },
  {
   "cell_type": "markdown",
   "id": "8e70bfcc",
   "metadata": {},
   "source": [
    "4.Create a function that sorts a list and removes all duplicate items from it.\n",
    "Examples:\n",
    "setify([1, 3, 3, 5, 5]) ➞ [1, 3, 5]\n",
    "setify([4, 4, 4, 4]) ➞ [4]\n",
    "setify([5, 7, 8, 9, 10, 15]) ➞ [5, 7, 8, 9, 10, 15]\n",
    "setify([3, 3, 3, 2, 1]) ➞ [1, 2, 3]"
   ]
  },
  {
   "cell_type": "code",
   "execution_count": 14,
   "id": "32e2184a",
   "metadata": {},
   "outputs": [
    {
     "name": "stdout",
     "output_type": "stream",
     "text": [
      "[1, 2, 3, 4, 23, 4, 2] --> [1, 2, 3, 4, 23]\n"
     ]
    }
   ],
   "source": [
    "def setify(list1):\n",
    "    out = sorted(set(list1))\n",
    "    print(f'{list1} --> {out}')\n",
    "    \n",
    "setify([1,2,3,4,23,4,2])"
   ]
  },
  {
   "cell_type": "markdown",
   "id": "c656d35f",
   "metadata": {},
   "source": [
    "5.Create a function that returns the mean of all digits.\n",
    "Examples:\n",
    "mean(42) ➞ 3\n",
    "mean(12345) ➞ 3\n",
    "mean(666) ➞ 6\n",
    "\n",
    "Notes:\n",
    "1.The mean of all digits is the sum of digits / how many digits there are (e.g. mean of digits in 512 is (5+1+2)/3(number of digits) = 8/3=2).\n",
    "2.The mean will always be an integer."
   ]
  },
  {
   "cell_type": "code",
   "execution_count": 23,
   "id": "58ae9f8f",
   "metadata": {},
   "outputs": [
    {
     "name": "stdout",
     "output_type": "stream",
     "text": [
      "mean of 234 is 3\n"
     ]
    }
   ],
   "source": [
    "def mean(n):\n",
    "    sum = 0\n",
    "    for i in str(n):\n",
    "        sum = sum+int(i)\n",
    "    mean = int(sum/len(str(n)))\n",
    "    print(f'mean of {n} is {mean}')\n",
    "          \n",
    "mean(234)"
   ]
  }
 ],
 "metadata": {
  "kernelspec": {
   "display_name": "Python 3 (ipykernel)",
   "language": "python",
   "name": "python3"
  },
  "language_info": {
   "codemirror_mode": {
    "name": "ipython",
    "version": 3
   },
   "file_extension": ".py",
   "mimetype": "text/x-python",
   "name": "python",
   "nbconvert_exporter": "python",
   "pygments_lexer": "ipython3",
   "version": "3.10.9"
  }
 },
 "nbformat": 4,
 "nbformat_minor": 5
}
