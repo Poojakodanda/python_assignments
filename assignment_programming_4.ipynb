{
 "cells": [
  {
   "cell_type": "raw",
   "id": "2c65b3fa",
   "metadata": {},
   "source": [
    "1.Write a Python Program to find the factorial of a number ?"
   ]
  },
  {
   "cell_type": "code",
   "execution_count": 4,
   "id": "bd5251c1",
   "metadata": {},
   "outputs": [
    {
     "name": "stdout",
     "output_type": "stream",
     "text": [
      "Enter a number : 8\n",
      "The factorial of 8 is 40320\n"
     ]
    }
   ],
   "source": [
    "def factorial(n):\n",
    "    if n<1:\n",
    "        return 1\n",
    "    else:\n",
    "        return n*factorial(n-1)\n",
    "    \n",
    "n = int(input('Enter a number : '))\n",
    "value = factorial(n)\n",
    "print(f'The factorial of {n} is {value}')"
   ]
  },
  {
   "cell_type": "raw",
   "id": "b0503b49",
   "metadata": {},
   "source": [
    "2.Write a Python Program to display the multiplication table ?"
   ]
  },
  {
   "cell_type": "code",
   "execution_count": 6,
   "id": "9616c8a6",
   "metadata": {},
   "outputs": [
    {
     "name": "stdout",
     "output_type": "stream",
     "text": [
      "10 X 1 = 10\n",
      "10 X 2 = 20\n",
      "10 X 3 = 30\n",
      "10 X 4 = 40\n",
      "10 X 5 = 50\n",
      "10 X 6 = 60\n",
      "10 X 7 = 70\n",
      "10 X 8 = 80\n",
      "10 X 9 = 90\n",
      "10 X 10 = 100\n"
     ]
    }
   ],
   "source": [
    "def table(base, entries):\n",
    "    for i in range(1, entries+1):\n",
    "        print(f'{base} X {i} = {base*i}')\n",
    "        \n",
    "table(10,10)"
   ]
  },
  {
   "cell_type": "raw",
   "id": "765ae703",
   "metadata": {},
   "source": [
    "3.Write a Python Program to print the fibonacci sequence ?"
   ]
  },
  {
   "cell_type": "code",
   "execution_count": 7,
   "id": "aacd396c",
   "metadata": {},
   "outputs": [
    {
     "name": "stdout",
     "output_type": "stream",
     "text": [
      "0\n",
      "1\n",
      "1\n",
      "2\n",
      "3\n",
      "5\n",
      "8\n",
      "13\n",
      "21\n",
      "34\n"
     ]
    }
   ],
   "source": [
    "def fibo(n):                 #fibonacci series\n",
    "    a=0\n",
    "    b=1\n",
    "    l=[]\n",
    "    for i in range(n):\n",
    "        print(a)\n",
    "        a,b=b,a+b   \n",
    "        \n",
    "        \n",
    "fibo(10)"
   ]
  },
  {
   "cell_type": "raw",
   "id": "02a6e44e",
   "metadata": {},
   "source": [
    "4.Write a Python Program to check Armstrong number ?"
   ]
  },
  {
   "cell_type": "code",
   "execution_count": 28,
   "id": "435cbd52",
   "metadata": {},
   "outputs": [
    {
     "name": "stdout",
     "output_type": "stream",
     "text": [
      "enter a number :407\n",
      "407 is a armstrong number\n"
     ]
    }
   ],
   "source": [
    "def check_armstrong():\n",
    "    num=input('enter a number :')\n",
    "    sum=0\n",
    "    order=len(num)\n",
    "    for i in range(len(num)):\n",
    "        sum=sum+int(num[i])**order\n",
    "    if num == str(sum):\n",
    "        print(f'{num} is a armstrong number')\n",
    "    else:\n",
    "        print(f'{num} is not a armstrong number')\n",
    "        \n",
    "check_armstrong()        "
   ]
  },
  {
   "cell_type": "code",
   "execution_count": 29,
   "id": "1d6e2327",
   "metadata": {},
   "outputs": [
    {
     "name": "stdout",
     "output_type": "stream",
     "text": [
      "enter a number :27\n",
      "27 is not a armstrong number\n"
     ]
    }
   ],
   "source": [
    "check_armstrong()"
   ]
  },
  {
   "cell_type": "raw",
   "id": "ceeed6b6",
   "metadata": {},
   "source": [
    "5.Write a Python Program to Find Armstrong number in an interval ?"
   ]
  },
  {
   "cell_type": "code",
   "execution_count": 4,
   "id": "c091dccc",
   "metadata": {},
   "outputs": [
    {
     "name": "stdout",
     "output_type": "stream",
     "text": [
      "153\n",
      "370\n",
      "371\n",
      "407\n"
     ]
    }
   ],
   "source": [
    "def armstrong(start, end):\n",
    "    for i in range(start, end):\n",
    "        num=str(i)\n",
    "        sum=0\n",
    "        order=len(num)\n",
    "        for i in range(len(num)):\n",
    "            sum=sum+int(num[i])**order\n",
    "        if num == str(sum):\n",
    "            print(num)\n",
    "armstrong(100,1000)"
   ]
  },
  {
   "cell_type": "raw",
   "id": "316f9541",
   "metadata": {},
   "source": [
    "6.Write a Python Program to sum of natural numbers ?"
   ]
  },
  {
   "cell_type": "code",
   "execution_count": 6,
   "id": "75477f9b",
   "metadata": {},
   "outputs": [
    {
     "name": "stdout",
     "output_type": "stream",
     "text": [
      "sum of 100 natural numbers is 5050.0\n"
     ]
    }
   ],
   "source": [
    "def sum_natural_num(n):\n",
    "    sum= n*((n+1)/2)\n",
    "    print(f'sum of {n} natural numbers is {sum}')\n",
    "\n",
    "sum_natural_num(100)"
   ]
  }
 ],
 "metadata": {
  "kernelspec": {
   "display_name": "Python 3 (ipykernel)",
   "language": "python",
   "name": "python3"
  },
  "language_info": {
   "codemirror_mode": {
    "name": "ipython",
    "version": 3
   },
   "file_extension": ".py",
   "mimetype": "text/x-python",
   "name": "python",
   "nbconvert_exporter": "python",
   "pygments_lexer": "ipython3",
   "version": "3.10.9"
  }
 },
 "nbformat": 4,
 "nbformat_minor": 5
}
