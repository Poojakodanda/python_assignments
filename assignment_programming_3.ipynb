{
 "cells": [
  {
   "cell_type": "raw",
   "id": "1905a952",
   "metadata": {},
   "source": [
    "1.Write a Python program to check if a Number is Positive, Negative or Zero ?"
   ]
  },
  {
   "cell_type": "code",
   "execution_count": 1,
   "id": "60b001ab",
   "metadata": {},
   "outputs": [
    {
     "name": "stdout",
     "output_type": "stream",
     "text": [
      "9 is positive number\n"
     ]
    }
   ],
   "source": [
    "def check_num(num):\n",
    "    if num>0:\n",
    "        print(f'{num} is positive number')\n",
    "    elif num<0:\n",
    "        print(f'{num} is negative number')\n",
    "    elif num==0:\n",
    "        print(f'{num} entered number is zero')\n",
    "        \n",
    "check_num(9)"
   ]
  },
  {
   "cell_type": "code",
   "execution_count": 2,
   "id": "7b483e93",
   "metadata": {},
   "outputs": [
    {
     "name": "stdout",
     "output_type": "stream",
     "text": [
      "-4 is negative number\n"
     ]
    }
   ],
   "source": [
    "check_num(-4)"
   ]
  },
  {
   "cell_type": "code",
   "execution_count": 3,
   "id": "8a68b868",
   "metadata": {},
   "outputs": [
    {
     "name": "stdout",
     "output_type": "stream",
     "text": [
      "0 entered number is zero\n"
     ]
    }
   ],
   "source": [
    "check_num(0)"
   ]
  },
  {
   "cell_type": "raw",
   "id": "1d0a8b79",
   "metadata": {},
   "source": [
    "2.Write a Python program to check if a Number is Odd or Even ?"
   ]
  },
  {
   "cell_type": "code",
   "execution_count": 4,
   "id": "499ef52a",
   "metadata": {},
   "outputs": [
    {
     "name": "stdout",
     "output_type": "stream",
     "text": [
      "4 entered number is even number\n"
     ]
    }
   ],
   "source": [
    "def even_odd(num):\n",
    "    if num%2==0:\n",
    "        print(f'{num} entered number is even number')\n",
    "    elif num%2!=0:\n",
    "        print(f'{num} entered number is odd number')\n",
    "\n",
    "even_odd(4)      "
   ]
  },
  {
   "cell_type": "code",
   "execution_count": 5,
   "id": "18019916",
   "metadata": {},
   "outputs": [
    {
     "name": "stdout",
     "output_type": "stream",
     "text": [
      "9 entered number is odd number\n"
     ]
    }
   ],
   "source": [
    "even_odd(9)"
   ]
  },
  {
   "cell_type": "raw",
   "id": "861d018b",
   "metadata": {},
   "source": [
    "3.Write a Python program to check Leap Year ?"
   ]
  },
  {
   "cell_type": "code",
   "execution_count": 7,
   "id": "bffac4d1",
   "metadata": {},
   "outputs": [
    {
     "name": "stdout",
     "output_type": "stream",
     "text": [
      "2023 is not a leap year\n"
     ]
    }
   ],
   "source": [
    "def leap_year(year):\n",
    "    if (year%4==0 and year%100!=0 or year%400==0):\n",
    "        print(f'{year} is leap year')\n",
    "    else:\n",
    "        print(f'{year} is not a leap year')\n",
    "\n",
    "leap_year(2023)"
   ]
  },
  {
   "cell_type": "code",
   "execution_count": 8,
   "id": "ecc72ffa",
   "metadata": {},
   "outputs": [
    {
     "name": "stdout",
     "output_type": "stream",
     "text": [
      "2000 is leap year\n"
     ]
    }
   ],
   "source": [
    "leap_year(2000)"
   ]
  },
  {
   "cell_type": "raw",
   "id": "973a98db",
   "metadata": {},
   "source": [
    "4.Write a Python program to check Prime Number ?"
   ]
  },
  {
   "cell_type": "code",
   "execution_count": 9,
   "id": "91edc729",
   "metadata": {},
   "outputs": [
    {
     "name": "stdout",
     "output_type": "stream",
     "text": [
      "7 is a prime number\n"
     ]
    }
   ],
   "source": [
    "def check_prime(num):\n",
    "    flag = False\n",
    "    for i in range(2,num):\n",
    "        if num%i ==0:\n",
    "            flag = True\n",
    "            break\n",
    "            \n",
    "    if (not flag):\n",
    "        print(f'{num} is a prime number')\n",
    "    else:\n",
    "        print(f'{num} is not a prime number')\n",
    "        \n",
    "        \n",
    "check_prime(7)\n",
    "    "
   ]
  },
  {
   "cell_type": "code",
   "execution_count": 10,
   "id": "3f890138",
   "metadata": {},
   "outputs": [
    {
     "name": "stdout",
     "output_type": "stream",
     "text": [
      "4 is not a prime number\n"
     ]
    }
   ],
   "source": [
    "check_prime(4)"
   ]
  },
  {
   "cell_type": "raw",
   "id": "afb960a8",
   "metadata": {},
   "source": [
    "5.Write a Python program to print all Prime Numbers in an interval of 1-10000 ?"
   ]
  },
  {
   "cell_type": "code",
   "execution_count": 18,
   "id": "98d62067",
   "metadata": {},
   "outputs": [
    {
     "name": "stdout",
     "output_type": "stream",
     "text": [
      "[1, 2, 3, 5, 7, 11, 13, 17, 19, 23, 29, 31, 37, 41, 43, 47, 53, 59, 61, 67, 71, 73, 79, 83, 89, 97]\n"
     ]
    }
   ],
   "source": [
    "prime_list=[]\n",
    "\n",
    "def prime_number():\n",
    "   \n",
    "    for i in range(1,100):\n",
    "        flag = False\n",
    "        for j in range(2,i):\n",
    "            if (i%j == 0):\n",
    "                flag = True\n",
    "        if (not flag):\n",
    "            prime_list.append(i)\n",
    "            \n",
    "prime_number()\n",
    "print(prime_list)\n",
    "        "
   ]
  }
 ],
 "metadata": {
  "kernelspec": {
   "display_name": "Python 3 (ipykernel)",
   "language": "python",
   "name": "python3"
  },
  "language_info": {
   "codemirror_mode": {
    "name": "ipython",
    "version": 3
   },
   "file_extension": ".py",
   "mimetype": "text/x-python",
   "name": "python",
   "nbconvert_exporter": "python",
   "pygments_lexer": "ipython3",
   "version": "3.10.9"
  }
 },
 "nbformat": 4,
 "nbformat_minor": 5
}
