{
 "cells": [
  {
   "cell_type": "raw",
   "id": "40648d32",
   "metadata": {},
   "source": [
    "1. What advantages do Excel spreadsheets have over CSV spreadsheets?"
   ]
  },
  {
   "cell_type": "raw",
   "id": "26dc495d",
   "metadata": {},
   "source": [
    "Ans: The Advantages of Excel over CSV are:\n",
    "\n",
    "Excel (XLS and XLSX), information is in tabular form in rows and columns. file formats are better for storing and analysing complex data.\n",
    "An Excel not only stores data but can also do operations on the data using macros, formulas etc.\n",
    "excel enables users to identify trends and organize and sort data into meaningful categories.\n",
    "\n",
    "CSV files are plain-text files, the data is in text format separated by commas.  Does not contain formatting, formulas, macros, etc. It is also known as flat files"
   ]
  },
  {
   "cell_type": "raw",
   "id": "93ee8434",
   "metadata": {},
   "source": [
    "2.What do you pass to csv.reader() and csv.writer() to create reader and writer objects?"
   ]
  },
  {
   "cell_type": "code",
   "execution_count": 6,
   "id": "ae85f809",
   "metadata": {},
   "outputs": [
    {
     "name": "stdout",
     "output_type": "stream",
     "text": [
      "['order_id', 'order_date', 'ship_date', 'ship_mode', 'customer_name', 'segment', 'state', 'country', 'market', 'region', 'product_id', 'category', 'sub_category', 'product_name', 'sales', 'quantity', 'discount', 'profit', 'shipping_cost', 'order_priority', 'year']\n",
      "['AG-2011-2040', '1/1/2011', '1/6/2011', 'Standard Class', 'Toby Braunhardt', 'Consumer', 'Constantine', 'Algeria', 'Africa', 'Africa', 'OFF-TEN-10000025', 'Office Supplies', 'Storage', 'Tenex Lockers, Blue', '408', '2', '0', '106.14', ' 35.46 ', 'Medium', '2011']\n",
      "['IN-2011-47883', '1/1/2011', '1/8/2011', 'Standard Class', 'Joseph Holt', 'Consumer', 'New South Wales', 'Australia', 'APAC', 'Oceania', 'OFF-SU-10000618', 'Office Supplies', 'Supplies', 'Acme Trimmer, High Speed', '120', '3', '0.1', '36.036', ' 9.72 ', 'Medium', '2011']\n",
      "['HU-2011-1220', '1/1/2011', '1/5/2011', 'Second Class', 'Annie Thurman', 'Consumer', 'Budapest', 'Hungary', 'EMEA', 'EMEA', 'OFF-TEN-10001585', 'Office Supplies', 'Storage', 'Tenex Box, Single Width', '66', '4', '0', '29.64', ' 8.17 ', 'High', '2011']\n",
      "['IT-2011-3647632', '1/1/2011', '1/5/2011', 'Second Class', 'Eugene Moren', 'Home Office', 'Stockholm', 'Sweden', 'EU', 'North', 'OFF-PA-10001492', 'Office Supplies', 'Paper', 'Enermax Note Cards, Premium', '45', '3', '0.5', '-26.055', ' 4.82 ', 'High', '2011']\n",
      "['IN-2011-47883', '1/1/2011', '1/8/2011', 'Standard Class', 'Joseph Holt', 'Consumer', 'New South Wales', 'Australia', 'APAC', 'Oceania', 'FUR-FU-10003447', 'Furniture', 'Furnishings', 'Eldon Light Bulb, Duo Pack', '114', '5', '0.1', '37.77', ' 4.70 ', 'Medium', '2011']\n",
      "['IN-2011-47883', '1/1/2011', '1/8/2011', 'Standard Class', 'Joseph Holt', 'Consumer', 'New South Wales', 'Australia', 'APAC', 'Oceania', 'OFF-PA-10001968', 'Office Supplies', 'Paper', 'Eaton Computer Printout Paper, 8.5 x 11', '55', '2', '0.1', '15.342', ' 1.80 ', 'Medium', '2011']\n",
      "['CA-2011-1510', '1/2/2011', '1/6/2011', 'Standard Class', 'Magdelene Morse', 'Consumer', 'Ontario', 'Canada', 'Canada', 'Canada', 'TEC-OKI-10002750', 'Technology', 'Machines', 'Okidata Inkjet, Wireless', '314', '1', '0', '3.12', ' 24.10 ', 'Medium', '2011']\n",
      "['IN-2011-79397', '1/3/2011', '1/3/2011', 'Same Day', 'Kean Nguyen', 'Corporate', 'New South Wales', 'Australia', 'APAC', 'Oceania', 'OFF-AP-10000304', 'Office Supplies', 'Appliances', 'Hoover Microwave, White', '276', '1', '0.1', '110.412', ' 125.32 ', 'Critical', '2011']\n",
      "['ID-2011-80230', '1/3/2011', '1/9/2011', 'Standard Class', 'Ken Lonsdale', 'Consumer', 'Auckland', 'New Zealand', 'APAC', 'Oceania', 'TEC-CO-10004182', 'Technology', 'Copiers', 'Hewlett Wireless Fax, Laser', '912', '4', '0.4', '-319.464', '107.1', 'Low', '2011']\n",
      "['IZ-2011-4680', '1/3/2011', '1/7/2011', 'Standard Class', 'Lindsay Williams', 'Corporate', 'Ninawa', 'Iraq', 'EMEA', 'EMEA', 'FUR-NOV-10002791', 'Furniture', 'Chairs', 'Novimex Swivel Stool, Set of Two', '667', '4', '0', '253.32', ' 81.26 ', 'High', '2011']\n",
      "['IN-2011-65159', '1/3/2011', '1/7/2011', 'Second Class', 'Larry Blacks', 'Consumer', 'National Capital', 'Philippines', 'APAC', 'Southeast Asia', 'OFF-ST-10003020', 'Office Supplies', 'Storage', 'Tenex Lockers, Industrial', '338', '3', '0.45', '-122.8005', ' 33.75 ', 'High', '2011']\n",
      "['IN-2011-65159', '1/3/2011', '1/7/2011', 'Second Class', 'Larry Blacks', 'Consumer', 'National Capital', 'Philippines', 'APAC', 'Southeast Asia', 'FUR-TA-10002797', 'Furniture', 'Tables', 'Chromcraft Round Table, Adjustable Height', '211', '1', '0.55', '-70.3995', ' 21.32 ', 'High', '2011']\n",
      "['ES-2011-4869686', '1/3/2011', '1/7/2011', 'Standard Class', 'Dorothy Dickinson', 'Consumer', 'England', 'United Kingdom', 'EU', 'North', 'FUR-BO-10000728', 'Furniture', 'Bookcases', 'Dania Corner Shelving, Traditional', '854', '7', '0', '290.43', ' 12.56 ', 'Medium', '2011']\n",
      "['IN-2011-33652', '1/3/2011', '1/9/2011', 'Standard Class', 'Dennis Pardue', 'Home Office', 'Sarawak', 'Malaysia', 'APAC', 'Southeast Asia', 'TEC-CO-10000594', 'Technology', 'Copiers', 'Hewlett Fax and Copier, Laser', '193', '1', '0', '50.13', ' 10.40 ', 'Medium', '2011']\n",
      "['ID-2011-80230', '1/3/2011', '1/9/2011', 'Standard Class', 'Ken Lonsdale', 'Consumer', 'Auckland', 'New Zealand', 'APAC', 'Oceania', 'FUR-CH-10000214', 'Furniture', 'Chairs', 'Hon Rocking Chair, Set of Two', '159', '2', '0.4', '-95.676', '10.07', 'Low', '2011']\n",
      "['MX-2011-160234', '1/3/2011', '1/7/2011', 'Standard Class', 'Stewart Visinsky', 'Consumer', 'Guatemala', 'Guatemala', 'LATAM', 'Central', 'TEC-PH-10002647', 'Technology', 'Phones', 'Nokia Headset, VoIP', '195', '4', '0', '44.88', ' 8.43 ', 'Medium', '2011']\n",
      "['IR-2011-770', '1/3/2011', '1/7/2011', 'Standard Class', \"Jas O'Carroll\", 'Consumer', 'Yazd', 'Iran', 'EMEA', 'EMEA', 'OFF-BRE-10003081', 'Office Supplies', 'Appliances', 'Breville Coffee Grinder, Black', '123', '2', '0', '42.9', ' 8.41 ', 'Medium', '2011']\n",
      "['ID-2011-80230', '1/3/2011', '1/9/2011', 'Standard Class', 'Ken Lonsdale', 'Consumer', 'Auckland', 'New Zealand', 'APAC', 'Oceania', 'TEC-AC-10002881', 'Technology', 'Accessories', 'Belkin Numeric Keypad, Bluetooth', '69', '2', '0.4', '3.42', '8.34', 'Low', '2011']\n",
      "['ID-2011-80230', '1/3/2011', '1/9/2011', 'Standard Class', 'Ken Lonsdale', 'Consumer', 'Auckland', 'New Zealand', 'APAC', 'Oceania', 'FUR-CH-10000666', 'Furniture', 'Chairs', 'SAFCO Chairmat, Black', '69', '2', '0.4', '-26.412', '8.17', 'Low', '2011']\n",
      "['ID-2011-12596', '1/3/2011', '1/8/2011', 'Standard Class', 'Chris McAfee', 'Consumer', 'Nakhon Ratchasima', 'Thailand', 'APAC', 'Southeast Asia', 'OFF-ST-10002066', 'Office Supplies', 'Storage', 'Smead File Cart, Blue', '135', '2', '0.47', '-45.9018', ' 7.74 ', 'Medium', '2011']\n",
      "['IN-2011-79397', '1/3/2011', '1/3/2011', 'Same Day', 'Kean Nguyen', 'Corporate', 'New South Wales', 'Australia', 'APAC', 'Oceania', 'OFF-LA-10003396', 'Office Supplies', 'Labels', 'Avery Color Coded Labels, Laser Printer Compatible', '36', '3', '0.1', '4.743', ' 7.46 ', 'Critical', '2011']\n",
      "['IR-2011-7690', '1/3/2011', '1/8/2011', 'Second Class', 'Nat Gilpin', 'Corporate', 'Razavi Khorasan', 'Iran', 'EMEA', 'EMEA', 'OFF-BIC-10000582', 'Office Supplies', 'Art', 'BIC Sketch Pad, Water Color', '52', '1', '0', '7.77', ' 5.91 ', 'High', '2011']\n",
      "['IR-2011-770', '1/3/2011', '1/7/2011', 'Standard Class', \"Jas O'Carroll\", 'Consumer', 'Yazd', 'Iran', 'EMEA', 'EMEA', 'OFF-ROG-10004393', 'Office Supplies', 'Storage', 'Rogers Folders, Industrial', '62', '2', '0', '8.7', ' 5.16 ', 'Medium', '2011']\n",
      "['TZ-2011-7370', '1/3/2011', '1/8/2011', 'Standard Class', 'Jack Garza', 'Consumer', 'Dar Es Salaam', 'Tanzania', 'Africa', 'Africa', 'OFF-STI-10000388', 'Office Supplies', 'Supplies', 'Stiletto Scissors, Serrated', '81', '4', '0', '26.76', ' 5.11 ', 'Medium', '2011']\n",
      "['IZ-2011-4680', '1/3/2011', '1/7/2011', 'Standard Class', 'Lindsay Williams', 'Corporate', 'Ninawa', 'Iraq', 'EMEA', 'EMEA', 'OFF-CAM-10004338', 'Office Supplies', 'Envelopes', 'Cameo Interoffice Envelope, Set of 50', '47', '1', '0', '17.07', ' 3.57 ', 'High', '2011']\n",
      "['IN-2011-65159', '1/3/2011', '1/7/2011', 'Second Class', 'Larry Blacks', 'Consumer', 'National Capital', 'Philippines', 'APAC', 'Southeast Asia', 'OFF-FA-10002569', 'Office Supplies', 'Fasteners', 'Stockwell Staples, Metal', '6', '1', '0.45', '0.546', ' 0.80 ', 'High', '2011']\n",
      "['IR-2011-770', '1/3/2011', '1/7/2011', 'Standard Class', \"Jas O'Carroll\", 'Consumer', 'Yazd', 'Iran', 'EMEA', 'EMEA', 'OFF-ADV-10000213', 'Office Supplies', 'Fasteners', 'Advantus Rubber Bands, Metal', '17', '1', '0', '4.17', ' 0.54 ', 'Medium', '2011']\n",
      "['MX-2011-111255', '1/4/2011', '1/9/2011', 'Second Class', 'Russell Applegate', 'Consumer', 'Parana', 'Brazil', 'LATAM', 'South', 'FUR-BO-10001498', 'Furniture', 'Bookcases', 'Dania Classic Bookcase, Pine', '1,648', '6', '0', '609.84', ' 109.13 ', 'Medium', '2011']\n",
      "['MX-2011-140641', '1/4/2011', '1/9/2011', 'Standard Class', 'Maya Herman', 'Corporate', 'YucatÂ\\xa0n', 'Mexico', 'LATAM', 'North', 'TEC-AC-10001082', 'Technology', 'Accessories', 'Enermax Keyboard, Bluetooth', '223', '4', '0', '13.28', ' 42.28 ', 'High', '2011']\n",
      "['MX-2011-158771', '1/4/2011', '1/11/2011', 'Standard Class', 'Beth Thompson', 'Home Office', 'Granma', 'Cuba', 'LATAM', 'Caribbean', 'OFF-EN-10000857', 'Office Supplies', 'Envelopes', 'Jiffy Interoffice Envelope, Set of 50', '186', '6', '0', '3.6', ' 16.39 ', 'Medium', '2011']\n",
      "['ES-2011-4939443', '1/4/2011', '1/8/2011', 'Standard Class', 'Arthur Prichep', 'Consumer', 'RhÂ“ne-Alpes', 'France', 'EU', 'Central', 'OFF-AR-10001546', 'Office Supplies', 'Art', 'Binney & Smith Sketch Pad, Easy-Erase', '140', '3', '0', '20.88', ' 10.78 ', 'Medium', '2011']\n",
      "['MX-2011-111255', '1/4/2011', '1/9/2011', 'Second Class', 'Russell Applegate', 'Consumer', 'Parana', 'Brazil', 'LATAM', 'South', 'OFF-SU-10003629', 'Office Supplies', 'Supplies', 'Fiskars Letter Opener, Easy Grip', '149', '8', '0', '28.16', ' 10.38 ', 'Medium', '2011']\n",
      "['MX-2011-140641', '1/4/2011', '1/9/2011', 'Standard Class', 'Maya Herman', 'Corporate', 'YucatÂ\\xa0n', 'Mexico', 'LATAM', 'North', 'TEC-CO-10002998', 'Technology', 'Copiers', 'Sharp Ink, Laser', '166', '2', '0.002', '49.42824', ' 9.54 ', 'High', '2011']\n",
      "['US-2011-136007', '1/4/2011', '1/11/2011', 'Standard Class', 'Beth Thompson', 'Home Office', 'Alagoas', 'Brazil', 'LATAM', 'South', 'OFF-EN-10004956', 'Office Supplies', 'Envelopes', 'Jiffy Interoffice Envelope, Set of 50', '74', '6', '0.6', '-107.856', ' 7.04 ', 'Medium', '2011']\n",
      "['MX-2011-159373', '1/4/2011', '1/8/2011', 'Standard Class', 'Arthur Wiediger', 'Home Office', 'Santiago de Cuba', 'Cuba', 'LATAM', 'Caribbean', 'FUR-CH-10004827', 'Furniture', 'Chairs', 'SAFCO Chairmat, Black', '38', '1', '0', '6.88', ' 4.25 ', 'Medium', '2011']\n",
      "['MX-2011-159373', '1/4/2011', '1/8/2011', 'Standard Class', 'Arthur Wiediger', 'Home Office', 'Santiago de Cuba', 'Cuba', 'LATAM', 'Caribbean', 'TEC-AC-10003081', 'Technology', 'Accessories', 'Memorex Mouse, USB', '38', '2', '0', '2.24', ' 3.94 ', 'Medium', '2011']\n",
      "['MX-2011-159373', '1/4/2011', '1/8/2011', 'Standard Class', 'Arthur Wiediger', 'Home Office', 'Santiago de Cuba', 'Cuba', 'LATAM', 'Caribbean', 'OFF-EN-10002816', 'Office Supplies', 'Envelopes', 'Kraft Peel and Seal, Recycled', '39', '3', '0', '7.68', ' 3.51 ', 'Medium', '2011']\n",
      "['IT-2011-2942451', '1/4/2011', '1/9/2011', 'Standard Class', 'Grant Thornton', 'Corporate', 'England', 'United Kingdom', 'EU', 'North', 'OFF-AR-10002485', 'Office Supplies', 'Art', 'Boston Markers, Easy-Erase', '27', '2', '0.5', '-21.9', ' 2.11 ', 'Medium', '2011']\n",
      "['CA-2011-103800', '1/4/2011', '1/8/2011', 'Standard Class', 'Darren Powers', 'Consumer', 'Texas', 'United States', 'US', 'Central', 'OFF-PA-10000174', 'Office Supplies', 'Paper', 'Message Book, Wirebound, Four 5 1/2\" X 4\" Forms/Pg., 200 Dupl. Sets/Book', '16', '2', '0.2', '5.5512', ' 1.82 ', 'High', '2011']\n",
      "['IN-2011-33036', '1/4/2011', '1/8/2011', 'Standard Class', 'Bradley Drucker', 'Consumer', 'Tottori', 'Japan', 'APAC', 'North Asia', 'OFF-LA-10000784', 'Office Supplies', 'Labels', 'Harbour Creations File Folder Labels, 5000 Label Set', '27', '3', '0', '13.68', ' 1.54 ', 'Medium', '2011']\n",
      "['IT-2011-2942451', '1/4/2011', '1/9/2011', 'Standard Class', 'Grant Thornton', 'Corporate', 'England', 'United Kingdom', 'EU', 'North', 'OFF-ST-10001426', 'Office Supplies', 'Storage', 'Eldon Folders, Single Width', '17', '2', '0.5', '-1.05', ' 0.90 ', 'Medium', '2011']\n",
      "['SU-2011-5190', '1/4/2011', '1/8/2011', 'Standard Class', 'Jasper Cacioppo', 'Consumer', 'Khartoum', 'Sudan', 'Africa', 'Africa', 'OFF-BOS-10004950', 'Office Supplies', 'Art', 'Boston Pens, Fluorescent', '15', '1', '0', '2.61', ' 0.82 ', 'Medium', '2011']\n",
      "['SU-2011-5190', '1/4/2011', '1/8/2011', 'Standard Class', 'Jasper Cacioppo', 'Consumer', 'Khartoum', 'Sudan', 'Africa', 'Africa', 'OFF-AVE-10003279', 'Office Supplies', 'Binders', 'Avery Hole Reinforcements, Durable', '6', '1', '0', '2.1', ' 0.51 ', 'Medium', '2011']\n",
      "['MX-2011-109267', '1/5/2011', '1/9/2011', 'Standard Class', 'Jennifer Halladay', 'Consumer', 'Veracruz', 'Mexico', 'LATAM', 'North', 'OFF-AP-10004245', 'Office Supplies', 'Appliances', 'Hoover Stove, Black', '3,029', '8', '0', '999.36', ' 191.20 ', 'Medium', '2011']\n",
      "['ES-2011-3848439', '1/5/2011', '1/7/2011', 'First Class', 'Michael Granlund', 'Home Office', 'RhÂ“ne-Alpes', 'France', 'EU', 'Central', 'OFF-AR-10001291', 'Office Supplies', 'Art', 'Sanford Canvas, Fluorescent', '207', '4', '0', '76.56', ' 20.64 ', 'Medium', '2011']\n",
      "['ES-2011-3848439', '1/5/2011', '1/7/2011', 'First Class', 'Michael Granlund', 'Home Office', 'RhÂ“ne-Alpes', 'France', 'EU', 'Central', 'OFF-AR-10000833', 'Office Supplies', 'Art', 'Binney & Smith Pencil Sharpener, Water Color', '90', '3', '0', '20.52', ' 15.27 ', 'Medium', '2011']\n",
      "['CA-2011-112326', '1/5/2011', '1/9/2011', 'Standard Class', 'Phillina Ober', 'Home Office', 'Illinois', 'United States', 'US', 'Central', 'OFF-ST-10002743', 'Office Supplies', 'Storage', 'SAFCO Boltless Steel Shelving', '273', '3', '0.2', '-64.7748', ' 13.59 ', 'High', '2011']\n",
      "['IN-2011-27681', '1/5/2011', '1/11/2011', 'Standard Class', 'Shaun Weien', 'Consumer', 'Taipei City', 'Taiwan', 'APAC', 'North Asia', 'FUR-FU-10000394', 'Furniture', 'Furnishings', 'Rubbermaid Photo Frame, Durable', '49', '1', '0', '22.92', ' 5.82 ', 'Low', '2011']\n",
      "['CA-2011-112326', '1/5/2011', '1/9/2011', 'Standard Class', 'Phillina Ober', 'Home Office', 'Illinois', 'United States', 'US', 'Central', 'OFF-LA-10003223', 'Office Supplies', 'Labels', 'Avery 508', '12', '3', '0.2', '4.2717', ' 0.99 ', 'High', '2011']\n",
      "['CA-2011-112326', '1/5/2011', '1/9/2011', 'Standard Class', 'Phillina Ober', 'Home Office', 'Illinois', 'United States', 'US', 'Central', 'OFF-BI-10004094', 'Office Supplies', 'Binders', 'GBC Standard Plastic Binding Systems Combs', '4', '2', '0.8', '-5.487', ' 0.55 ', 'High', '2011']\n",
      "['ES-2011-5496179', '1/6/2011', '1/9/2011', 'Second Class', 'Shahid Hopkins', 'Consumer', 'Ile-de-France', 'France', 'EU', 'Central', 'FUR-FU-10000468', 'Furniture', 'Furnishings', 'Advantus Frame, Durable', '324', '3', '0', '35.64', ' 39.98 ', 'High', '2011']\n",
      "['IN-2011-29963', '1/6/2011', '1/10/2011', 'Standard Class', 'Brosina Hoffman', 'Consumer', 'Sumatera Barat', 'Indonesia', 'APAC', 'Southeast Asia', 'OFF-ST-10000344', 'Office Supplies', 'Storage', 'Fellowes Box, Industrial', '50', '3', '0.17', '6.0084', ' 6.20 ', 'High', '2011']\n",
      "['ID-2011-41632', '1/6/2011', '1/13/2011', 'Standard Class', 'Robert Dilbeck', 'Home Office', 'Ho ChÂ¡ Minh City', 'Vietnam', 'APAC', 'Southeast Asia', 'OFF-ST-10001631', 'Office Supplies', 'Storage', 'Tenex Trays, Blue', '90', '2', '0.17', '29.2686', ' 3.62 ', 'Medium', '2011']\n",
      "['IN-2011-29963', '1/6/2011', '1/10/2011', 'Standard Class', 'Brosina Hoffman', 'Consumer', 'Sumatera Barat', 'Indonesia', 'APAC', 'Southeast Asia', 'OFF-FA-10000549', 'Office Supplies', 'Fasteners', 'Advantus Staples, Metal', '41', '7', '0.47', '-27.0942', ' 2.63 ', 'High', '2011']\n",
      "['ID-2011-41632', '1/6/2011', '1/13/2011', 'Standard Class', 'Robert Dilbeck', 'Home Office', 'Ho ChÂ¡ Minh City', 'Vietnam', 'APAC', 'Southeast Asia', 'OFF-PA-10003407', 'Office Supplies', 'Paper', 'Enermax Memo Slips, Recycled', '39', '3', '0.17', '11.5893', ' 2.45 ', 'Medium', '2011']\n",
      "['AO-2011-4910', '1/6/2011', '1/11/2011', 'Standard Class', 'Grace Kelly', 'Corporate', 'Luanda', 'Angola', 'Africa', 'Africa', 'TEC-LOG-10003079', 'Technology', 'Accessories', 'Logitech Flash Drive, Erganomic', '28', '1', '0', '12.72', ' 2.00 ', 'Medium', '2011']\n",
      "['IN-2011-76107', '1/6/2011', '1/10/2011', 'Standard Class', 'Khloe Miller', 'Consumer', 'Jilin', 'China', 'APAC', 'North Asia', 'OFF-EN-10002166', 'Office Supplies', 'Envelopes', 'Cameo Manila Envelope, with clear poly window', '31', '1', '0', '13.11', ' 1.96 ', 'High', '2011']\n",
      "['CA-2011-141817', '1/6/2011', '1/13/2011', 'Standard Class', 'Mick Brown', 'Consumer', 'Pennsylvania', 'United States', 'US', 'East', 'OFF-AR-10003478', 'Office Supplies', 'Art', 'Avery Hi-Liter EverBold Pen Style Fluorescent Highlighters, 4/Pack', '20', '3', '0.2', '4.884', ' 1.85 ', 'Low', '2011']\n",
      "['CA-2011-167199', '1/7/2011', '1/11/2011', 'Standard Class', 'Maria Etezadi', 'Home Office', 'Kentucky', 'United States', 'US', 'South', 'FUR-CH-10004063', 'Furniture', 'Chairs', \"Global Deluxe High-Back Manager's Chair\", '2,574', '9', '0', '746.4078', ' 258.99 ', 'High', '2011']\n",
      "['CA-2011-167199', '1/7/2011', '1/11/2011', 'Standard Class', 'Maria Etezadi', 'Home Office', 'Kentucky', 'United States', 'US', 'South', 'OFF-BI-10004632', 'Office Supplies', 'Binders', 'Ibico Hi-Tech Manual Binding System', '610', '2', '0', '274.491', ' 88.07 ', 'High', '2011']\n",
      "['CA-2011-167199', '1/7/2011', '1/11/2011', 'Standard Class', 'Maria Etezadi', 'Home Office', 'Kentucky', 'United States', 'US', 'South', 'TEC-PH-10004977', 'Technology', 'Phones', 'GE 30524EE4', '392', '2', '0', '113.6742', ' 62.37 ', 'High', '2011']\n",
      "['MZ-2011-1260', '1/7/2011', '1/10/2011', 'First Class', 'Stewart Visinsky', 'Consumer', 'Niassa', 'Mozambique', 'Africa', 'Africa', 'OFF-ELD-10001694', 'Office Supplies', 'Storage', 'Eldon File Cart, Single Width', '256', '2', '0', '46.02', ' 52.46 ', 'High', '2011']\n",
      "['ID-2011-58670', '1/7/2011', '1/11/2011', 'Standard Class', 'Maribeth Schnelling', 'Consumer', 'National Capital', 'Philippines', 'APAC', 'Southeast Asia', 'TEC-MA-10000868', 'Technology', 'Machines', 'Panasonic Phone, Wireless', '445', '7', '0.25', '-136.71', ' 46.97 ', 'High', '2011']\n",
      "['ID-2011-58670', '1/7/2011', '1/11/2011', 'Standard Class', 'Maribeth Schnelling', 'Consumer', 'National Capital', 'Philippines', 'APAC', 'Southeast Asia', 'TEC-AC-10003413', 'Technology', 'Accessories', 'Logitech Router, Programmable', '274', '2', '0.45', '-44.838', ' 42.19 ', 'High', '2011']\n",
      "['ES-2011-5433855', '1/7/2011', '1/8/2011', 'First Class', 'Dave Poirier', 'Corporate', \"Provence-Alpes-CÂ“te d'Azur\", 'France', 'EU', 'Central', 'OFF-ST-10004855', 'Office Supplies', 'Storage', 'Smead Lockers, Industrial', '716', '4', '0.1', '143.16', ' 32.46 ', 'Medium', '2011']\n",
      "['ID-2011-58670', '1/7/2011', '1/11/2011', 'Standard Class', 'Maribeth Schnelling', 'Consumer', 'National Capital', 'Philippines', 'APAC', 'Southeast Asia', 'TEC-MA-10004482', 'Technology', 'Machines', 'Panasonic Card Printer, White', '388', '3', '0.25', '25.8075', ' 26.20 ', 'High', '2011']\n",
      "['LE-2011-9590', '1/7/2011', '1/11/2011', 'Standard Class', 'Harry Marie', 'Corporate', 'Beirut', 'Lebanon', 'EMEA', 'EMEA', 'TEC-HP -10000464', 'Technology', 'Copiers', 'HP Fax and Copier, Color', '174', '1', '0', '71.46', ' 23.84 ', 'High', '2011']\n",
      "['CA-2011-167199', '1/7/2011', '1/11/2011', 'Standard Class', 'Maria Etezadi', 'Home Office', 'Kentucky', 'United States', 'US', 'South', 'TEC-PH-10004539', 'Technology', 'Phones', 'Wireless Extenders zBoost YX545 SOHO Signal Booster', '756', '4', '0', '204.1092', ' 13.82 ', 'High', '2011']\n",
      "['MZ-2011-1260', '1/7/2011', '1/10/2011', 'First Class', 'Stewart Visinsky', 'Consumer', 'Niassa', 'Mozambique', 'Africa', 'Africa', 'OFF-STA-10004885', 'Office Supplies', 'Art', 'Stanley Sketch Pad, Easy-Erase', '45', '1', '0', '8.49', ' 13.70 ', 'High', '2011']\n",
      "['ES-2011-5433855', '1/7/2011', '1/8/2011', 'First Class', 'Dave Poirier', 'Corporate', \"Provence-Alpes-CÂ“te d'Azur\", 'France', 'EU', 'Central', 'OFF-FA-10002071', 'Office Supplies', 'Fasteners', 'Accos Thumb Tacks, Assorted Sizes', '33', '3', '0', '2.25', ' 9.73 ', 'Medium', '2011']\n",
      "['ES-2011-5433855', '1/7/2011', '1/8/2011', 'First Class', 'Dave Poirier', 'Corporate', \"Provence-Alpes-CÂ“te d'Azur\", 'France', 'EU', 'Central', 'FUR-BO-10000265', 'Furniture', 'Bookcases', 'Bush Floating Shelf Set, Pine', '155', '1', '0.1', '36.228', ' 5.72 ', 'Medium', '2011']\n",
      "['CA-2011-130813', '1/7/2011', '1/9/2011', 'Second Class', 'Lycoris Saunders', 'Consumer', 'California', 'United States', 'US', 'West', 'OFF-PA-10002005', 'Office Supplies', 'Paper', 'Xerox 225', '19', '3', '0', '9.3312', ' 4.37 ', 'High', '2011']\n",
      "['AG-2011-7230', '1/7/2011', '1/11/2011', 'Standard Class', 'Alyssa Crouse', 'Corporate', 'Alger', 'Algeria', 'Africa', 'Africa', 'OFF-STA-10000244', 'Office Supplies', 'Art', 'Stanley Sketch Pad, Fluorescent', '91', '2', '0', '14.58', ' 4.36 ', 'Medium', '2011']\n",
      "['MX-2011-135629', '1/7/2011', '1/7/2011', 'Same Day', 'Dorothy Dickinson', 'Consumer', 'S?o Paulo', 'Brazil', 'LATAM', 'South', 'OFF-FA-10001871', 'Office Supplies', 'Fasteners', 'Stockwell Rubber Bands, Bulk Pack', '43', '4', '0', '6', ' 3.94 ', 'High', '2011']\n",
      "['MX-2011-135629', '1/7/2011', '1/7/2011', 'Same Day', 'Dorothy Dickinson', 'Consumer', 'S?o Paulo', 'Brazil', 'LATAM', 'South', 'OFF-BI-10000136', 'Office Supplies', 'Binders', 'Ibico Index Tab, Durable', '19', '3', '0', '2.4', ' 3.69 ', 'High', '2011']\n",
      "['CA-2011-106054', '1/7/2011', '1/8/2011', 'First Class', \"Jack O'Briant\", 'Corporate', 'Georgia', 'United States', 'US', 'South', 'OFF-AR-10002399', 'Office Supplies', 'Art', 'Dixon Prang Watercolor Pencils, 10-Color Set with Brush', '13', '3', '0', '5.2398', ' 3.51 ', 'Critical', '2011']\n",
      "['ID-2011-58670', '1/7/2011', '1/11/2011', 'Standard Class', 'Maribeth Schnelling', 'Consumer', 'National Capital', 'Philippines', 'APAC', 'Southeast Asia', 'OFF-AR-10003684', 'Office Supplies', 'Art', 'BIC Sketch Pad, Fluorescent', '27', '1', '0.45', '-4.494', ' 3.21 ', 'High', '2011']\n",
      "['LE-2011-9590', '1/7/2011', '1/11/2011', 'Standard Class', 'Harry Marie', 'Corporate', 'Beirut', 'Lebanon', 'EMEA', 'EMEA', 'FUR-ADV-10000847', 'Furniture', 'Furnishings', 'Advantus Stacking Tray, Black', '26', '1', '0', '7.38', ' 2.88 ', 'High', '2011']\n",
      "['CA-2011-167199', '1/7/2011', '1/11/2011', 'Standard Class', 'Maria Etezadi', 'Home Office', 'Kentucky', 'United States', 'US', 'South', 'OFF-FA-10001883', 'Office Supplies', 'Fasteners', 'Alliance Super-Size Bands, Assorted Sizes', '31', '4', '0', '0.3112', ' 2.19 ', 'High', '2011']\n",
      "['CA-2011-167199', '1/7/2011', '1/11/2011', 'Standard Class', 'Maria Etezadi', 'Home Office', 'Kentucky', 'United States', 'US', 'South', 'OFF-PA-10000955', 'Office Supplies', 'Paper', 'Southworth 25% Cotton Granite Paper & Envelopes', '7', '1', '0', '3.0084', ' 1.13 ', 'High', '2011']\n",
      "['ID-2011-28752', '1/7/2011', '1/12/2011', 'Standard Class', 'Adam Bellavance', 'Home Office', 'Singapore', 'Singapore', 'APAC', 'Southeast Asia', 'OFF-LA-10002875', 'Office Supplies', 'Labels', 'Novimex Shipping Labels, Adjustable', '18', '2', '0', '5.46', ' 0.89 ', 'Medium', '2011']\n",
      "['CA-2011-167199', '1/7/2011', '1/11/2011', 'Standard Class', 'Maria Etezadi', 'Home Office', 'Kentucky', 'United States', 'US', 'South', 'OFF-AR-10001662', 'Office Supplies', 'Art', 'Rogers Handheld Barrel Pencil Sharpener', '5', '2', '0', '1.4796', ' 0.52 ', 'High', '2011']\n",
      "['IT-2011-5134922', '1/7/2011', '1/10/2011', 'First Class', 'Joy Smith', 'Consumer', 'Groningen', 'Netherlands', 'EU', 'Central', 'OFF-AR-10000316', 'Office Supplies', 'Art', 'Stanley Pens, Blue', '5', '1', '0.5', '-0.105', ' 0.28 ', 'Medium', '2011']\n",
      "['AO-2011-1670', '1/8/2011', '1/13/2011', 'Standard Class', 'Henia Zydlo', 'Consumer', 'Benguela', 'Angola', 'Africa', 'Africa', 'FUR-IKE-10001539', 'Furniture', 'Bookcases', 'Ikea Classic Bookcase, Pine', '2,479', '6', '0', '49.5', ' 349.87 ', 'High', '2011']\n",
      "['IN-2011-19330', '1/8/2011', '1/12/2011', 'Second Class', 'Nicole Fjeld', 'Home Office', 'Yunnan', 'China', 'APAC', 'North Asia', 'TEC-MA-10002468', 'Technology', 'Machines', 'Panasonic Inkjet, White', '2,174', '7', '0', '260.82', ' 275.52 ', 'Medium', '2011']\n",
      "['IT-2011-4546695', '1/8/2011', '1/14/2011', 'Standard Class', 'Darren Powers', 'Consumer', 'Midi-PyrÂ‚nÂ‚es', 'France', 'EU', 'Central', 'FUR-BO-10003103', 'Furniture', 'Bookcases', 'Ikea Classic Bookcase, Metal', '987', '6', '0.6', '-1011.636', ' 65.64 ', 'Medium', '2011']\n",
      "['MX-2011-121202', '1/8/2011', '1/13/2011', 'Second Class', 'Christopher Martinez', 'Consumer', 'Guatemala', 'Guatemala', 'LATAM', 'Central', 'OFF-ST-10002471', 'Office Supplies', 'Storage', 'Smead Lockers, Single Width', '397', '3', '0', '182.52', ' 33.67 ', 'Medium', '2011']\n",
      "['CA-2011-105417', '1/8/2011', '1/13/2011', 'Standard Class', 'Vivek Sundaresam', 'Consumer', 'Texas', 'United States', 'US', 'Central', 'FUR-FU-10004864', 'Furniture', 'Furnishings', 'Howard Miller 14-1/2\" Diameter Chrome Round Wall Clock', '77', '3', '0.6', '-53.7096', ' 6.69 ', 'Medium', '2011']\n",
      "['MX-2011-121202', '1/8/2011', '1/13/2011', 'Second Class', 'Christopher Martinez', 'Consumer', 'Guatemala', 'Guatemala', 'LATAM', 'Central', 'OFF-BI-10002937', 'Office Supplies', 'Binders', 'Wilson Jones Binder Covers, Clear', '50', '7', '0', '20.3', ' 5.66 ', 'Medium', '2011']\n",
      "['IT-2011-4546695', '1/8/2011', '1/14/2011', 'Standard Class', 'Darren Powers', 'Consumer', 'Midi-PyrÂ‚nÂ‚es', 'France', 'EU', 'Central', 'OFF-AR-10000110', 'Office Supplies', 'Art', 'Binney & Smith Sketch Pad, Blue', '116', '5', '0.5', '-55.65', ' 3.91 ', 'Medium', '2011']\n",
      "['NI-2011-4770', '1/8/2011', '1/11/2011', 'Second Class', 'Joe Elijah', 'Consumer', 'Lagos', 'Nigeria', 'Africa', 'Africa', 'OFF-AVE-10000608', 'Office Supplies', 'Binders', 'Avery Index Tab, Economy', '5', '2', '0.7', '-4.542', ' 0.82 ', 'High', '2011']\n",
      "['CA-2011-105417', '1/8/2011', '1/13/2011', 'Standard Class', 'Vivek Sundaresam', 'Consumer', 'Texas', 'United States', 'US', 'Central', 'OFF-BI-10003708', 'Office Supplies', 'Binders', 'Acco Four Pocket Poly Ring Binder with Label Holder, Smoke, 1\"', '10', '7', '0.8', '-18.2525', ' 0.63 ', 'Medium', '2011']\n",
      "['ID-2011-20814', '1/9/2011', '1/13/2011', 'Standard Class', 'Ed Braxton', 'Corporate', 'Jawa Timur', 'Indonesia', 'APAC', 'Southeast Asia', 'TEC-PH-10001730', 'Technology', 'Phones', 'Motorola Signal Booster, Full Size', '240', '2', '0.17', '-11.6028', ' 34.99 ', 'High', '2011']\n",
      "['IN-2011-69366', '1/9/2011', '1/14/2011', 'Standard Class', 'Alejandro Grove', 'Consumer', 'KiÂˆn Giang', 'Vietnam', 'APAC', 'Southeast Asia', 'TEC-AC-10000354', 'Technology', 'Accessories', 'Belkin Numeric Keypad, USB', '177', '6', '0.47', '-156.6792', ' 17.09 ', 'Medium', '2011']\n",
      "['ID-2011-46483', '1/9/2011', '1/13/2011', 'Standard Class', 'Sample Company A', 'Home Office', 'Calabarzon', 'Philippines', 'APAC', 'Southeast Asia', 'OFF-ST-10001342', 'Office Supplies', 'Storage', 'Fellowes Trays, Blue', '158', '5', '0.45', '-2.9775', ' 10.08 ', 'High', '2011']\n",
      "['IN-2011-69366', '1/9/2011', '1/14/2011', 'Standard Class', 'Alejandro Grove', 'Consumer', 'KiÂˆn Giang', 'Vietnam', 'APAC', 'Southeast Asia', 'TEC-PH-10003823', 'Technology', 'Phones', 'Apple Headset, Full Size', '124', '2', '0.17', '32.793', ' 7.93 ', 'Medium', '2011']\n",
      "['ID-2011-46483', '1/9/2011', '1/13/2011', 'Standard Class', 'Sample Company A', 'Home Office', 'Calabarzon', 'Philippines', 'APAC', 'Southeast Asia', 'OFF-FA-10000577', 'Office Supplies', 'Fasteners', 'Stockwell Push Pins, 12 Pack', '52', '7', '0.45', '4.5885', ' 5.55 ', 'High', '2011']\n",
      "['IN-2011-69366', '1/9/2011', '1/14/2011', 'Standard Class', 'Alejandro Grove', 'Consumer', 'KiÂˆn Giang', 'Vietnam', 'APAC', 'Southeast Asia', 'OFF-LA-10000668', 'Office Supplies', 'Labels', 'Smead Removable Labels, Adjustable', '45', '5', '0.17', '17.8935', ' 3.31 ', 'Medium', '2011']\n",
      "['ID-2011-46483', '1/9/2011', '1/13/2011', 'Standard Class', 'Sample Company A', 'Home Office', 'Calabarzon', 'Philippines', 'APAC', 'Southeast Asia', 'OFF-PA-10003405', 'Office Supplies', 'Paper', 'Green Bar Memo Slips, Premium', '9', '1', '0.45', '-1.7175', ' 0.69 ', 'High', '2011']\n",
      "['IN-2011-69366', '1/9/2011', '1/14/2011', 'Standard Class', 'Alejandro Grove', 'Consumer', 'KiÂˆn Giang', 'Vietnam', 'APAC', 'Southeast Asia', 'OFF-BI-10003874', 'Office Supplies', 'Binders', 'Avery Index Tab, Clear', '10', '2', '0.17', '0.0714', ' 0.25 ', 'Medium', '2011']\n",
      "['IN-2011-61302', '1/10/2011', '1/11/2011', 'First Class', 'Dan Lawera', 'Consumer', 'Queensland', 'Australia', 'APAC', 'Oceania', 'TEC-PH-10004664', 'Technology', 'Phones', 'Nokia Smart Phone, with Caller ID', '2,875', '5', '0.1', '511.095', ' 665.27 ', 'Medium', '2011']\n",
      "['HU-2011-1380', '1/10/2011', '1/10/2011', 'Same Day', 'Elpida Rittenbach', 'Corporate', 'Budapest', 'Hungary', 'EMEA', 'EMEA', 'FUR-IKE-10002894', 'Furniture', 'Bookcases', 'Ikea Library with Doors, Traditional', '363', '1', '0', '159.87', ' 134.59 ', 'Critical', '2011']\n",
      "['HU-2011-1380', '1/10/2011', '1/10/2011', 'Same Day', 'Elpida Rittenbach', 'Corporate', 'Budapest', 'Hungary', 'EMEA', 'EMEA', 'TEC-CAN-10004354', 'Technology', 'Copiers', 'Canon Ink, Laser', '589', '4', '0', '276.6', ' 114.15 ', 'Critical', '2011']\n",
      "['EG-2011-4260', '1/10/2011', '1/12/2011', 'Second Class', 'Sanjit Jacobs', 'Home Office', 'Al Qahirah', 'Egypt', 'Africa', 'Africa', 'FUR-CHR-10004803', 'Furniture', 'Tables', 'Chromcraft Wood Table, Fully Assembled', '968', '2', '0', '445.26', ' 80.13 ', 'High', '2011']\n",
      "['HU-2011-1380', '1/10/2011', '1/10/2011', 'Same Day', 'Elpida Rittenbach', 'Corporate', 'Budapest', 'Hungary', 'EMEA', 'EMEA', 'OFF-SAN-10003226', 'Office Supplies', 'Paper', 'SanDisk Message Books, Recycled', '142', '6', '0', '63.9', ' 67.79 ', 'Critical', '2011']\n",
      "['HU-2011-1380', '1/10/2011', '1/10/2011', 'Same Day', 'Elpida Rittenbach', 'Corporate', 'Budapest', 'Hungary', 'EMEA', 'EMEA', 'OFF-SAN-10000874', 'Office Supplies', 'Art', 'Sanford Pencil Sharpener, Fluorescent', '155', '6', '0', '54.18', ' 58.32 ', 'Critical', '2011']\n",
      "['HU-2011-1380', '1/10/2011', '1/10/2011', 'Same Day', 'Elpida Rittenbach', 'Corporate', 'Budapest', 'Hungary', 'EMEA', 'EMEA', 'TEC-EPS-10000774', 'Technology', 'Machines', 'Epson Phone, Red', '156', '2', '0', '23.4', ' 52.91 ', 'Critical', '2011']\n",
      "['AG-2011-1070', '1/10/2011', '1/15/2011', 'Second Class', 'Tiffany House', 'Corporate', 'Constantine', 'Algeria', 'Africa', 'Africa', 'OFF-HOO-10001783', 'Office Supplies', 'Appliances', 'Hoover Microwave, Red', '309', '1', '0', '61.71', ' 31.41 ', 'Medium', '2011']\n",
      "['US-2011-101091', '1/10/2011', '1/16/2011', 'Standard Class', 'Jocasta Rupert', 'Consumer', 'Carabobo', 'Venezuela', 'LATAM', 'South', 'TEC-CO-10001818', 'Technology', 'Copiers', 'Sharp Wireless Fax, Digital', '425', '3', '0.402', '-278.79024', ' 26.72 ', 'Medium', '2011']\n",
      "['HU-2011-1380', '1/10/2011', '1/10/2011', 'Same Day', 'Elpida Rittenbach', 'Corporate', 'Budapest', 'Hungary', 'EMEA', 'EMEA', 'OFF-EAT-10002068', 'Office Supplies', 'Paper', 'Eaton Note Cards, Premium', '53', '2', '0', '0', ' 16.06 ', 'Critical', '2011']\n",
      "['IT-2011-3659171', '1/10/2011', '1/14/2011', 'Standard Class', 'Greg Guthrie', 'Corporate', 'England', 'United Kingdom', 'EU', 'North', 'OFF-ST-10004695', 'Office Supplies', 'Storage', 'Fellowes File Cart, Blue', '206', '3', '0.5', '-41.265', ' 14.65 ', 'Medium', '2011']\n",
      "['HU-2011-1380', '1/10/2011', '1/10/2011', 'Same Day', 'Elpida Rittenbach', 'Corporate', 'Budapest', 'Hungary', 'EMEA', 'EMEA', 'OFF-CAM-10001249', 'Office Supplies', 'Envelopes', 'Cameo Mailers, with clear poly window', '42', '1', '0', '1.65', ' 13.08 ', 'Critical', '2011']\n",
      "['MX-2011-140697', '1/10/2011', '1/15/2011', 'Standard Class', 'Paul MacIntyre', 'Consumer', 'MÂ‚xico', 'Mexico', 'LATAM', 'North', 'OFF-ST-10002251', 'Office Supplies', 'Storage', 'Fellowes Shelving, Wire Frame', '114', '3', '0', '56.88', ' 8.93 ', 'Medium', '2011']\n",
      "['IN-2011-13065', '1/10/2011', '1/11/2011', 'First Class', \"Patrick O'Donnell\", 'Consumer', 'Guangxi', 'China', 'APAC', 'North Asia', 'OFF-SU-10003559', 'Office Supplies', 'Supplies', 'Kleencut Ruler, Steel', '26', '2', '0', '5.4', ' 5.86 ', 'High', '2011']\n"
     ]
    },
    {
     "ename": "UnicodeDecodeError",
     "evalue": "'charmap' codec can't decode byte 0x81 in position 7721: character maps to <undefined>",
     "output_type": "error",
     "traceback": [
      "\u001b[1;31m---------------------------------------------------------------------------\u001b[0m",
      "\u001b[1;31mUnicodeDecodeError\u001b[0m                        Traceback (most recent call last)",
      "Cell \u001b[1;32mIn[6], line 4\u001b[0m\n\u001b[0;32m      2\u001b[0m \u001b[38;5;28;01mwith\u001b[39;00m \u001b[38;5;28mopen\u001b[39m(\u001b[38;5;124mr\u001b[39m\u001b[38;5;124m\"\u001b[39m\u001b[38;5;124mC:\u001b[39m\u001b[38;5;124m\\\u001b[39m\u001b[38;5;124mUsers\u001b[39m\u001b[38;5;124m\\\u001b[39m\u001b[38;5;124mSampath Kumar\u001b[39m\u001b[38;5;124m\\\u001b[39m\u001b[38;5;124mDownloads\u001b[39m\u001b[38;5;124m\\\u001b[39m\u001b[38;5;124msales_data_final.csv\u001b[39m\u001b[38;5;124m\"\u001b[39m,\u001b[38;5;124m'\u001b[39m\u001b[38;5;124mr\u001b[39m\u001b[38;5;124m'\u001b[39m) \u001b[38;5;28;01mas\u001b[39;00m file:\n\u001b[0;32m      3\u001b[0m     csv_file \u001b[38;5;241m=\u001b[39m csv\u001b[38;5;241m.\u001b[39mreader(file,delimiter\u001b[38;5;241m=\u001b[39m\u001b[38;5;124m'\u001b[39m\u001b[38;5;124m,\u001b[39m\u001b[38;5;124m'\u001b[39m)\n\u001b[1;32m----> 4\u001b[0m     \u001b[38;5;28;01mfor\u001b[39;00m i \u001b[38;5;129;01min\u001b[39;00m csv_file:\n\u001b[0;32m      5\u001b[0m         \u001b[38;5;28mprint\u001b[39m(i)\n",
      "File \u001b[1;32m~\\anaconda3\\lib\\encodings\\cp1252.py:23\u001b[0m, in \u001b[0;36mIncrementalDecoder.decode\u001b[1;34m(self, input, final)\u001b[0m\n\u001b[0;32m     22\u001b[0m \u001b[38;5;28;01mdef\u001b[39;00m \u001b[38;5;21mdecode\u001b[39m(\u001b[38;5;28mself\u001b[39m, \u001b[38;5;28minput\u001b[39m, final\u001b[38;5;241m=\u001b[39m\u001b[38;5;28;01mFalse\u001b[39;00m):\n\u001b[1;32m---> 23\u001b[0m     \u001b[38;5;28;01mreturn\u001b[39;00m \u001b[43mcodecs\u001b[49m\u001b[38;5;241;43m.\u001b[39;49m\u001b[43mcharmap_decode\u001b[49m\u001b[43m(\u001b[49m\u001b[38;5;28;43minput\u001b[39;49m\u001b[43m,\u001b[49m\u001b[38;5;28;43mself\u001b[39;49m\u001b[38;5;241;43m.\u001b[39;49m\u001b[43merrors\u001b[49m\u001b[43m,\u001b[49m\u001b[43mdecoding_table\u001b[49m\u001b[43m)\u001b[49m[\u001b[38;5;241m0\u001b[39m]\n",
      "\u001b[1;31mUnicodeDecodeError\u001b[0m: 'charmap' codec can't decode byte 0x81 in position 7721: character maps to <undefined>"
     ]
    }
   ],
   "source": [
    "import csv\n",
    "with open(r\"C:\\Users\\Sampath Kumar\\Downloads\\sales_data_final.csv\",'r') as file:\n",
    "    csv_file = csv.reader(file,delimiter=',')\n",
    "    for i in csv_file:\n",
    "        print(i)"
   ]
  },
  {
   "cell_type": "code",
   "execution_count": 11,
   "id": "d368ac9a",
   "metadata": {},
   "outputs": [
    {
     "name": "stdout",
     "output_type": "stream",
     "text": [
      "<_csv.reader object at 0x0000025C96184700>\n"
     ]
    }
   ],
   "source": [
    "import csv\n",
    "f= open(r\"C:\\Users\\Sampath Kumar\\Downloads\\sales_data_final.csv\",'r')\n",
    "ro = csv.reader(f, delimiter = ',')\n",
    "print(ro)\n",
    "f.close()"
   ]
  },
  {
   "cell_type": "code",
   "execution_count": 13,
   "id": "fcd98646",
   "metadata": {},
   "outputs": [],
   "source": [
    "import csv\n",
    "f=open(r\"C:\\Users\\Sampath Kumar\\Downloads\\sales_data_final.csv\",'w')\n",
    "wo=csv.writer(f,delimiter=',')\n",
    "wo.writerow([6,4,2,0])\n",
    "f.close()"
   ]
  },
  {
   "cell_type": "raw",
   "id": "e71c4cca",
   "metadata": {},
   "source": [
    "3. What modes do File objects for reader and writer objects need to be opened in?"
   ]
  },
  {
   "cell_type": "raw",
   "id": "57df3e57",
   "metadata": {},
   "source": [
    "Ans: r: Opens a file for reading only\n",
    "r+: Opens a file for both reading and writing\n",
    "w: Opens a file for writing only\n",
    "w+: Open a file for writing and reading.\n",
    "a: Opens a file for appending\n",
    "a+: Opens a file for both appending and reading"
   ]
  },
  {
   "cell_type": "raw",
   "id": "61800a61",
   "metadata": {},
   "source": [
    "4. What method takes a list argument and writes it to a CSV file?"
   ]
  },
  {
   "cell_type": "raw",
   "id": "f0d92b4c",
   "metadata": {},
   "source": [
    "Ans: They are writerow() and writerows(). writerow() method writes a single row at a time. Whereas writerows() method is used to write multiple rows at a time."
   ]
  },
  {
   "cell_type": "code",
   "execution_count": 16,
   "id": "976e44ea",
   "metadata": {},
   "outputs": [],
   "source": [
    "import csv\n",
    "f= open(r\"C:\\Users\\Sampath Kumar\\Downloads\\sales_data_final.csv\",'w')\n",
    "wo = csv.writer(f, delimiter=',')\n",
    "wo.writerow(['a','b','c','d'])\n",
    "f.close()\n",
    "        "
   ]
  },
  {
   "cell_type": "code",
   "execution_count": 20,
   "id": "46c7f833",
   "metadata": {},
   "outputs": [],
   "source": [
    "import csv\n",
    "rows=[['a','b','c','d'],\n",
    "            [1,2,3,4],\n",
    "            [\"!\",\"@\",\"#\",\"$\"]]\n",
    "\n",
    "f= open(r\"C:\\Users\\Sampath Kumar\\Downloads\\sales_data_final.csv\",'w')\n",
    "wo = csv.writer(f, delimiter=',')\n",
    "wo.writerows(rows)\n",
    "f.close()\n",
    "        "
   ]
  },
  {
   "cell_type": "raw",
   "id": "55ec5cf0",
   "metadata": {},
   "source": [
    "5. What do the keyword arguments delimiter and line terminator do?"
   ]
  },
  {
   "cell_type": "raw",
   "id": "ad44489f",
   "metadata": {},
   "source": [
    "Ans:\n",
    "Here ',' is Delimiter. We can use any Character as per our needs if required. \n",
    "Similarly Line Terminator comes at end of line by default it is newline and can be changed accourding to Requirement."
   ]
  },
  {
   "cell_type": "code",
   "execution_count": 21,
   "id": "826b40cc",
   "metadata": {},
   "outputs": [],
   "source": [
    "import csv\n",
    "f=open(r\"C:\\Users\\Sampath Kumar\\Downloads\\sales_data_final.csv\",'w')\n",
    "wo=csv.writer(f, delimiter='@', lineterminator='\\n\\n')\n",
    "\n",
    "# changed delimiter = @\n",
    "# changed lineterminator = \\n\\n"
   ]
  },
  {
   "cell_type": "raw",
   "id": "86ae7838",
   "metadata": {},
   "source": [
    "6. What function takes a string of JSON data and returns a Python data structure?"
   ]
  },
  {
   "cell_type": "raw",
   "id": "86f90f64",
   "metadata": {},
   "source": [
    "Ans: json.loads() method takes a string of JSON data and returns a Python data structure(dictionary)"
   ]
  },
  {
   "cell_type": "code",
   "execution_count": 22,
   "id": "55de9810",
   "metadata": {},
   "outputs": [
    {
     "name": "stdout",
     "output_type": "stream",
     "text": [
      "{\n",
      "    \"Name\": \"pooja\",\n",
      "    \"Qualification\": \"M-Tech\",\n",
      "    \"Stream\": \"PDM\"\n",
      "}\n",
      "Type of my_details_json is <class 'str'>\n",
      "{'Name': 'pooja', 'Qualification': 'M-Tech', 'Stream': 'PDM'}\n",
      "Type of my_details is <class 'dict'>\n"
     ]
    }
   ],
   "source": [
    "import json\n",
    "my_details_json ='''{\n",
    "    \"Name\": \"pooja\",\n",
    "    \"Qualification\": \"M-Tech\",\n",
    "    \"Stream\": \"PDM\"\n",
    "}'''\n",
    "print(my_details_json)\n",
    "print(f'Type of my_details_json is {type(my_details_json)}')\n",
    "my_details = json.loads(my_details_json)\n",
    "print(my_details)\n",
    "print(f'Type of my_details is {type(my_details)}')"
   ]
  },
  {
   "cell_type": "raw",
   "id": "27b355f4",
   "metadata": {},
   "source": [
    "7. What function takes a Python data structure and returns a string of JSON data?"
   ]
  },
  {
   "cell_type": "code",
   "execution_count": null,
   "id": "445db75f",
   "metadata": {},
   "outputs": [],
   "source": [
    "Ans: json.dumps()"
   ]
  },
  {
   "cell_type": "code",
   "execution_count": 24,
   "id": "297b9cd8",
   "metadata": {},
   "outputs": [
    {
     "name": "stdout",
     "output_type": "stream",
     "text": [
      "{'Name': 'pooja', 'Qualification': 'M-Tech', 'Stream': 'PDM'}\n",
      "Type of my_details is <class 'dict'>\n",
      "{\"Name\": \"pooja\", \"Qualification\": \"M-Tech\", \"Stream\": \"PDM\"}\n",
      "Type of my_details_json is <class 'str'>\n"
     ]
    }
   ],
   "source": [
    "import json\n",
    "my_details = {\n",
    "    \"Name\": \"pooja\",\n",
    "    \"Qualification\": \"M-Tech\",\n",
    "    \"Stream\": \"PDM\"\n",
    "}\n",
    "print(my_details)\n",
    "print(f'Type of my_details is {type(my_details)}')\n",
    "my_details_json = json.dumps(my_details)\n",
    "print(my_details_json)\n",
    "print(f'Type of my_details_json is {type(my_details_json)}')"
   ]
  }
 ],
 "metadata": {
  "kernelspec": {
   "display_name": "Python 3 (ipykernel)",
   "language": "python",
   "name": "python3"
  },
  "language_info": {
   "codemirror_mode": {
    "name": "ipython",
    "version": 3
   },
   "file_extension": ".py",
   "mimetype": "text/x-python",
   "name": "python",
   "nbconvert_exporter": "python",
   "pygments_lexer": "ipython3",
   "version": "3.10.9"
  }
 },
 "nbformat": 4,
 "nbformat_minor": 5
}
