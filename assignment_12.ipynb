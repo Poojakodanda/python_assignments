{
 "cells": [
  {
   "cell_type": "raw",
   "id": "1d893bc7",
   "metadata": {},
   "source": [
    "1. In what modes should the PdfFileReader() and PdfFileWriter() File objects will be opened?"
   ]
  },
  {
   "cell_type": "raw",
   "id": "5cb601fa",
   "metadata": {},
   "source": [
    "Ans: PdfFileReader() file objects should be opened in rb -> read binary mode\n",
    "     PdfFileWriter() file objects should be opened in wb -> write binary mode"
   ]
  },
  {
   "cell_type": "raw",
   "id": "daef7189",
   "metadata": {},
   "source": [
    "2. From a PdfFileReader object, how do you get a Page object for page 5?"
   ]
  },
  {
   "cell_type": "raw",
   "id": "40965c84",
   "metadata": {},
   "source": [
    "Ans: pdfreader.getpage(4)"
   ]
  },
  {
   "cell_type": "raw",
   "id": "4d54be8d",
   "metadata": {},
   "source": [
    "3. What PdfFileReader variable stores the number of pages in the PDF document?"
   ]
  },
  {
   "cell_type": "raw",
   "id": "2f146223",
   "metadata": {},
   "source": [
    "Ans: getNumPages(). The total number of pages in the document is stored in the numPages attribute of a PdfFileReader object."
   ]
  },
  {
   "cell_type": "raw",
   "id": "224a7fe8",
   "metadata": {},
   "source": [
    "4. If a PdfFileReader object’s PDF is encrypted with the password swordfish, what must you do before you can obtain Page objects from it?"
   ]
  },
  {
   "cell_type": "raw",
   "id": "c08d8979",
   "metadata": {},
   "source": [
    "pdfreader.decrypt(\"swordfish\") \n",
    "getpage(5)"
   ]
  },
  {
   "cell_type": "code",
   "execution_count": null,
   "id": "facfa29a",
   "metadata": {},
   "outputs": [],
   "source": [
    "5. What methods do you use to rotate a page?"
   ]
  },
  {
   "cell_type": "raw",
   "id": "8d8ace78",
   "metadata": {},
   "source": [
    "Ans: PyPDF2 Package provides 2 methods to rotate a page:\n",
    "\n",
    "rotateClockWise() -> For Clockwise rotation\n",
    "rotateCounterClockWise() -> For Counter Clockwise rotation\n",
    "The PyPDF2 package only allows you to rotate a page in increments of 90 degrees. You will receive an AssertionError otherwise."
   ]
  },
  {
   "cell_type": "raw",
   "id": "ca595a23",
   "metadata": {},
   "source": [
    "6. What is the difference between a Run object and a Paragraph object?"
   ]
  },
  {
   "cell_type": "raw",
   "id": "6fb3cf0b",
   "metadata": {},
   "source": [
    "Ans: The structure of a document is represented by three different data types in python-Docx. At the highest level, a Document object represents the entire document. The Document object contains a list of Paragraph objects for the paragraphs in the document. (A new paragraph begins whenever the user presses ENTER or RETURN while typing in a Word document.) Each of these Paragraph objects contains a list of one or more Run objects.\n",
    "\n",
    "The text in a Word document is more than just a string. It has font, size, color, and other styling information associated with it. A style in Word is a collection of these attributes. A Run object is a contiguous run of text with the same style. A new Run object is needed whenever the text style changes."
   ]
  },
  {
   "cell_type": "raw",
   "id": "0caa45e7",
   "metadata": {},
   "source": [
    "7. How do you obtain a list of Paragraph objects for a Document object that’s stored in a variable named doc?"
   ]
  },
  {
   "cell_type": "code",
   "execution_count": null,
   "id": "4671cb28",
   "metadata": {},
   "outputs": [],
   "source": [
    "from docx import Document\n",
    "doc = Document(\"sample_file.docx\") # Path of the Docx file\n",
    "print(doc.paragraphs) # Prints the list of Paragraph objects for a Document\n",
    "for paragraph in doc.paragraphs:\n",
    "    print(paragraph.text) # Prints the text in the paragraph"
   ]
  },
  {
   "cell_type": "raw",
   "id": "df8954ce",
   "metadata": {},
   "source": [
    "8. What type of object has bold, underline, italic, strike, and outline variables?"
   ]
  },
  {
   "cell_type": "raw",
   "id": "77cf345d",
   "metadata": {},
   "source": [
    "Ans: Run object has bold, underline, italic, strike, and outline variables. \n",
    " A Run object is a contiguous run of text with the same style. A new Run object is needed whenever the text style changes."
   ]
  },
  {
   "cell_type": "raw",
   "id": "238ddf75",
   "metadata": {},
   "source": [
    "9. What is the difference between False, True, and None for the bold variable?"
   ]
  },
  {
   "cell_type": "code",
   "execution_count": null,
   "id": "9f78b04f",
   "metadata": {},
   "outputs": [],
   "source": [
    "bold = True  # Style Set to Bold\n",
    "bold = False # Style Not Set to Bold\n",
    "bold = None # Style is Not Applicable"
   ]
  },
  {
   "cell_type": "raw",
   "id": "4d14ffd9",
   "metadata": {},
   "source": [
    "10. How do you create a Document object for a new Word document?"
   ]
  },
  {
   "cell_type": "code",
   "execution_count": null,
   "id": "1d158d4a",
   "metadata": {},
   "outputs": [],
   "source": [
    "from docx import Document\n",
    "doc = Document()\n",
    "doc.add_paragraph(\"iNeuron Full Stack DataScience Course\")\n",
    "doc.save('mydocument.docx')"
   ]
  },
  {
   "cell_type": "raw",
   "id": "532ebb94",
   "metadata": {},
   "source": [
    "11. How do you add a paragraph with the text 'Hello, there!' to a Document object stored in a variable named doc?"
   ]
  },
  {
   "cell_type": "code",
   "execution_count": null,
   "id": "bc49f23f",
   "metadata": {},
   "outputs": [],
   "source": [
    "from docx import Document\n",
    "doc = Document()\n",
    "doc.add_paragraph('Hello, there!')\n",
    "doc.save('hello.docx')"
   ]
  },
  {
   "cell_type": "raw",
   "id": "5fbe3ba8",
   "metadata": {},
   "source": [
    "12. What integers represent the levels of headings available in Word documents?"
   ]
  },
  {
   "cell_type": "raw",
   "id": "fbaf55e8",
   "metadata": {},
   "source": [
    "Ans: There are a total of 5 levels statring for 0 t0 4. where level 0 makes a headline with the horizontal line below the text, whereas the heading level 1 is the main heading. Similarly, the other headings are sub-heading with their's font-sizes in decreasing order."
   ]
  }
 ],
 "metadata": {
  "kernelspec": {
   "display_name": "Python 3 (ipykernel)",
   "language": "python",
   "name": "python3"
  },
  "language_info": {
   "codemirror_mode": {
    "name": "ipython",
    "version": 3
   },
   "file_extension": ".py",
   "mimetype": "text/x-python",
   "name": "python",
   "nbconvert_exporter": "python",
   "pygments_lexer": "ipython3",
   "version": "3.10.9"
  }
 },
 "nbformat": 4,
 "nbformat_minor": 5
}
