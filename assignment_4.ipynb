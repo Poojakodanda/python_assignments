{
 "cells": [
  {
   "cell_type": "raw",
   "id": "3ac7b014",
   "metadata": {},
   "source": [
    "1.What exactly is [ ]?\n",
    "\n",
    "Ans: The empty list represented by [] is a list that contains no items."
   ]
  },
  {
   "cell_type": "raw",
   "id": "f9674fa5",
   "metadata": {},
   "source": [
    "2.In a list of values stored in a variable called spam, how would you assign the value 'hello' as the third value? (Assume [2, 4, 6, 8, 10] are in spam.)"
   ]
  },
  {
   "cell_type": "code",
   "execution_count": 1,
   "id": "5e3a934f",
   "metadata": {},
   "outputs": [
    {
     "name": "stdout",
     "output_type": "stream",
     "text": [
      "[2, 4, 6, 8, 10]\n"
     ]
    }
   ],
   "source": [
    "spam=[2,4,6,8,10]\n",
    "print(spam)"
   ]
  },
  {
   "cell_type": "code",
   "execution_count": 2,
   "id": "e769c90d",
   "metadata": {},
   "outputs": [
    {
     "name": "stdout",
     "output_type": "stream",
     "text": [
      "[2, 4, 'hello', 8, 10]\n"
     ]
    }
   ],
   "source": [
    "spam[2]=\"hello\"\n",
    "print(spam)"
   ]
  },
  {
   "cell_type": "raw",
   "id": "6f652076",
   "metadata": {},
   "source": [
    "Let's pretend the spam includes the list ['a','b','c',d'] for the next three queries.\n",
    "\n",
    "3. What is the value of spam[int(int('3'*2)//11)] ?"
   ]
  },
  {
   "cell_type": "code",
   "execution_count": 3,
   "id": "39b51499",
   "metadata": {},
   "outputs": [
    {
     "data": {
      "text/plain": [
       "'d'"
      ]
     },
     "execution_count": 3,
     "metadata": {},
     "output_type": "execute_result"
    }
   ],
   "source": [
    "spam=[\"a\",\"b\",\"c\",\"d\"]\n",
    "spam[int(int('3'*2)//11)] "
   ]
  },
  {
   "cell_type": "raw",
   "id": "ad232710",
   "metadata": {},
   "source": [
    "4. What is the value of spam[-1]?"
   ]
  },
  {
   "cell_type": "code",
   "execution_count": 4,
   "id": "b5afe887",
   "metadata": {},
   "outputs": [
    {
     "data": {
      "text/plain": [
       "'d'"
      ]
     },
     "execution_count": 4,
     "metadata": {},
     "output_type": "execute_result"
    }
   ],
   "source": [
    "spam[-1]"
   ]
  },
  {
   "cell_type": "raw",
   "id": "259d6031",
   "metadata": {},
   "source": [
    "5. What is the value of spam[:2]?"
   ]
  },
  {
   "cell_type": "code",
   "execution_count": 5,
   "id": "3982efe1",
   "metadata": {},
   "outputs": [
    {
     "data": {
      "text/plain": [
       "['a', 'b']"
      ]
     },
     "execution_count": 5,
     "metadata": {},
     "output_type": "execute_result"
    }
   ],
   "source": [
    "spam[:2]"
   ]
  },
  {
   "cell_type": "raw",
   "id": "dff823a0",
   "metadata": {},
   "source": [
    "Let's pretend bacon has the list [3.14,'cat',11,'cat',True] for the next three question\n",
    "\n",
    "6. What is the value of bacon.index('cat')?"
   ]
  },
  {
   "cell_type": "code",
   "execution_count": 1,
   "id": "9b0f9a32",
   "metadata": {},
   "outputs": [
    {
     "data": {
      "text/plain": [
       "1"
      ]
     },
     "execution_count": 1,
     "metadata": {},
     "output_type": "execute_result"
    }
   ],
   "source": [
    "bacon=[3.14,'cat',11,'cat',True]\n",
    "bacon.index('cat')"
   ]
  },
  {
   "cell_type": "raw",
   "id": "4f3a7f85",
   "metadata": {},
   "source": [
    "7. How does bacon.append(99) change the look of the list value in bacon?"
   ]
  },
  {
   "cell_type": "code",
   "execution_count": 2,
   "id": "d4423726",
   "metadata": {},
   "outputs": [
    {
     "name": "stdout",
     "output_type": "stream",
     "text": [
      "[3.14, 'cat', 11, 'cat', True, 99]\n"
     ]
    }
   ],
   "source": [
    "bacon.append(99)\n",
    "print(bacon)"
   ]
  },
  {
   "cell_type": "raw",
   "id": "66fb3ef5",
   "metadata": {},
   "source": [
    "8. How does bacon.remove('cat') change the look of the list in bacon?"
   ]
  },
  {
   "cell_type": "code",
   "execution_count": 3,
   "id": "c1bf0ef5",
   "metadata": {},
   "outputs": [
    {
     "name": "stdout",
     "output_type": "stream",
     "text": [
      "[3.14, 11, 'cat', True, 99]\n"
     ]
    }
   ],
   "source": [
    "bacon.remove('cat')\n",
    "print(bacon)"
   ]
  },
  {
   "cell_type": "raw",
   "id": "e22af4f1",
   "metadata": {},
   "source": [
    "9.what are the list concatenation and list replication operations?\n",
    "\n",
    "Ans: The operator for list concatenation is +, while the operator for replication is *. (This is the same as for strings.)"
   ]
  },
  {
   "cell_type": "code",
   "execution_count": 6,
   "id": "b9abbec2",
   "metadata": {},
   "outputs": [
    {
     "name": "stdout",
     "output_type": "stream",
     "text": [
      "l1+l2 :[123, 213, 432, 564, 1, 3, 4, 5, 6, 7]\n",
      "l1*2 :[123, 213, 432, 564, 123, 213, 432, 564]\n",
      "l2*3 :[1, 3, 4, 5, 6, 7, 1, 3, 4, 5, 6, 7, 1, 3, 4, 5, 6, 7]\n"
     ]
    }
   ],
   "source": [
    "l1=[123,213,432,564]\n",
    "l2=[1,3,4,5,6,7]\n",
    "print(f\"l1+l2 :{l1+l2}\")\n",
    "print(f\"l1*2 :{l1*2}\")\n",
    "print(f\"l2*3 :{l2*3}\")"
   ]
  },
  {
   "cell_type": "raw",
   "id": "7d6dd1b1",
   "metadata": {},
   "source": [
    "10.what is the difference between the list method append() and insert()?\n",
    "\n",
    "Ans: While append() will add values only to the end of a list, insert() can add them anywhere in the list."
   ]
  },
  {
   "cell_type": "code",
   "execution_count": 10,
   "id": "c2d8cf1a",
   "metadata": {},
   "outputs": [
    {
     "name": "stdout",
     "output_type": "stream",
     "text": [
      "[1, 2, 3, 4, 5, 6, 7, 9, 8, 23]\n",
      "[1, 2, 432, 3, 4, 5, 6, 7, 9, 8, 23]\n"
     ]
    }
   ],
   "source": [
    "l=[1,2,3,4,5,6,7,9,8]\n",
    "l.append(23)\n",
    "print(l)\n",
    "l.insert(2,432)\n",
    "print(l)"
   ]
  },
  {
   "cell_type": "raw",
   "id": "c12dee78",
   "metadata": {},
   "source": [
    "11. What are the two methods for removing items from a list?"
   ]
  },
  {
   "cell_type": "raw",
   "id": "ae8fe1b9",
   "metadata": {},
   "source": [
    "remove() = it helps to remove the very first given element matching from the list. \n",
    "pop() = the pop() method removes an element from the list based on the index given.\n",
    "clear() = the clear() method will remove all the elements present in the list."
   ]
  },
  {
   "cell_type": "raw",
   "id": "b1a0d315",
   "metadata": {},
   "source": [
    "12. Describe how list values and string values are identical.\n",
    "\n",
    "Ans: Both lists and strings can be passed to len() function, have indexes and slices, be used in for loops, be concatenated or replicated, and be used with the in and not in operators."
   ]
  },
  {
   "cell_type": "raw",
   "id": "cbdb4e2e",
   "metadata": {},
   "source": [
    "13. What's the difference between tuples and lists?\n",
    "\n",
    "Ans: Lists are Mutable, Indexable and Slicable. they can have values added, removed, or changed. \n",
    "     Tuples are Immutable but Indexable and Slicable. the tuple values cannot be changed at all. Also, tuples are represented using parentheses, (), while lists use the square brackets, []."
   ]
  },
  {
   "cell_type": "raw",
   "id": "e118bada",
   "metadata": {},
   "source": [
    "14. How do you type a tuple value that only contains the integer 42?"
   ]
  },
  {
   "cell_type": "code",
   "execution_count": 11,
   "id": "906c735f",
   "metadata": {},
   "outputs": [
    {
     "name": "stdout",
     "output_type": "stream",
     "text": [
      "42 : <class 'int'>\n"
     ]
    }
   ],
   "source": [
    "t=(42)\n",
    "print(t, \":\", type(t))"
   ]
  },
  {
   "cell_type": "code",
   "execution_count": 12,
   "id": "0146663a",
   "metadata": {},
   "outputs": [
    {
     "name": "stdout",
     "output_type": "stream",
     "text": [
      "(42,) : <class 'tuple'>\n"
     ]
    }
   ],
   "source": [
    "t2=(42,)\n",
    "print(t2, \":\", type(t2))"
   ]
  },
  {
   "cell_type": "raw",
   "id": "f3b75749",
   "metadata": {},
   "source": [
    "15. How do you get a list value's tuple form? How do you get a tuple value's list form?\n",
    "\n",
    "Ans: The tuple() and list() functions, respectively are used to convert a list to tuple and vice versa"
   ]
  },
  {
   "cell_type": "code",
   "execution_count": 15,
   "id": "7b464dd5",
   "metadata": {},
   "outputs": [
    {
     "name": "stdout",
     "output_type": "stream",
     "text": [
      "[23, 34, 45, 56] : <class 'list'>\n",
      "(23, 34, 45, 56) : <class 'tuple'>\n"
     ]
    }
   ],
   "source": [
    "l= [23,34,45,56]\n",
    "print(l, \":\", type(l))\n",
    "t=tuple(l)\n",
    "print(t, \":\", type(t))"
   ]
  },
  {
   "cell_type": "code",
   "execution_count": 18,
   "id": "31a46ee1",
   "metadata": {},
   "outputs": [
    {
     "name": "stdout",
     "output_type": "stream",
     "text": [
      "(98, 56, 45, 'g') : <class 'tuple'>\n",
      "[98, 56, 45, 'g'] : <class 'list'>\n"
     ]
    }
   ],
   "source": [
    "t1=(98,56,45,\"g\")\n",
    "print(t1,\":\",type(t1))\n",
    "l1=list(t1)\n",
    "print(l1 , \":\", type(l1))"
   ]
  },
  {
   "cell_type": "raw",
   "id": "cc3bb382",
   "metadata": {},
   "source": [
    "16. Variables that \"contain\" list values are not necessarily lists themselves. Instead, what do they contain?\n",
    "\n",
    "Ans: They contain references to list values."
   ]
  },
  {
   "cell_type": "raw",
   "id": "761b2f95",
   "metadata": {},
   "source": [
    "17. How do you distinguish between copy.copy() and copy.deepcopy()?\n",
    "\n",
    "Ans: The copy.copy() function will do a shallow copy of a list, while the copy.deepcopy() function will do a deep copy of a list. That is, only copy.deepcopy() will duplicate any lists inside the list."
   ]
  },
  {
   "cell_type": "code",
   "execution_count": 21,
   "id": "ab76d945",
   "metadata": {},
   "outputs": [
    {
     "name": "stdout",
     "output_type": "stream",
     "text": [
      "l2 ID :1465439694016 value :[1, 2, [3, 4, 5], 8]\n",
      "l3 ID :1465439633088 value :[1, 2, [3, 4, 5], 8]\n"
     ]
    }
   ],
   "source": [
    "import copy\n",
    "l1=[1,2,[3,4,5],8]\n",
    "l2=copy.copy(l1)\n",
    "print(f\"l2 ID :{id(l2)} value :{l2}\")\n",
    "l3=copy.deepcopy(l1)\n",
    "print(f\"l3 ID :{id(l3)} value :{l3}\")"
   ]
  },
  {
   "cell_type": "code",
   "execution_count": null,
   "id": "c7298427",
   "metadata": {},
   "outputs": [],
   "source": []
  },
  {
   "cell_type": "code",
   "execution_count": null,
   "id": "9451334d",
   "metadata": {},
   "outputs": [],
   "source": []
  },
  {
   "cell_type": "code",
   "execution_count": null,
   "id": "1c92b6ef",
   "metadata": {},
   "outputs": [],
   "source": []
  }
 ],
 "metadata": {
  "kernelspec": {
   "display_name": "Python 3 (ipykernel)",
   "language": "python",
   "name": "python3"
  },
  "language_info": {
   "codemirror_mode": {
    "name": "ipython",
    "version": 3
   },
   "file_extension": ".py",
   "mimetype": "text/x-python",
   "name": "python",
   "nbconvert_exporter": "python",
   "pygments_lexer": "ipython3",
   "version": "3.10.9"
  }
 },
 "nbformat": 4,
 "nbformat_minor": 5
}
