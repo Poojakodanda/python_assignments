{
 "cells": [
  {
   "cell_type": "raw",
   "id": "f1e5ab24",
   "metadata": {},
   "source": [
    "1.Write a Python Program to check if the given number is a Disarium Number ?"
   ]
  },
  {
   "cell_type": "code",
   "execution_count": 2,
   "id": "bfc3e591",
   "metadata": {},
   "outputs": [
    {
     "name": "stdout",
     "output_type": "stream",
     "text": [
      "Enter a number : 135\n",
      "135 is a Disarium Number\n"
     ]
    }
   ],
   "source": [
    "def check_disarium_number():\n",
    "    n = input(\"Enter a number : \")\n",
    "    sum = 0\n",
    "    for i in range(len(n)):\n",
    "        sum = sum + int(n[i])**(i+1)\n",
    "    if sum == int(n):\n",
    "        print(f\"{n} is a Disarium Number\")\n",
    "    else:\n",
    "        print(f\"{n} is not a Disarium Number\")\n",
    "\n",
    "check_disarium_number()"
   ]
  },
  {
   "cell_type": "code",
   "execution_count": 3,
   "id": "84eec831",
   "metadata": {},
   "outputs": [
    {
     "name": "stdout",
     "output_type": "stream",
     "text": [
      "Enter a number : 24\n",
      "24 is not a Disarium Number\n"
     ]
    }
   ],
   "source": [
    "check_disarium_number()"
   ]
  },
  {
   "cell_type": "raw",
   "id": "9544135f",
   "metadata": {},
   "source": [
    "2.Write a Python Program to print all Disarium numbers between 1 to 100 ?"
   ]
  },
  {
   "cell_type": "code",
   "execution_count": 6,
   "id": "4d422b2b",
   "metadata": {},
   "outputs": [
    {
     "data": {
      "text/plain": [
       "[0, 1, 2, 3, 4, 5, 6, 7, 8, 9, 89]"
      ]
     },
     "execution_count": 6,
     "metadata": {},
     "output_type": "execute_result"
    }
   ],
   "source": [
    "def Disarium_Number(start,end):\n",
    "    output = []\n",
    "    for n in range(start, end+1):\n",
    "        sum = 0\n",
    "        for i in range(len(str(n))):\n",
    "            sum = sum + int(str(n)[i])**(i+1)\n",
    "        if sum == n:\n",
    "            output.append(n)\n",
    "    return output\n",
    "\n",
    "Disarium_Number(0,100)"
   ]
  },
  {
   "cell_type": "raw",
   "id": "26ae560b",
   "metadata": {},
   "source": [
    "3.Write a Python Program to check if the given number is Happy Number ?"
   ]
  },
  {
   "cell_type": "code",
   "execution_count": 2,
   "id": "86f19f95",
   "metadata": {},
   "outputs": [
    {
     "name": "stdout",
     "output_type": "stream",
     "text": [
      "Enter a number : 45\n",
      "45 is not a happy number\n"
     ]
    }
   ],
   "source": [
    "def check_happy_number():\n",
    "    n = input(\"Enter a number : \")\n",
    "    n_duplicate = n\n",
    "    trackNumber = set()\n",
    "    while True:\n",
    "        if n!=\"1\" and str(n) not in trackNumber:\n",
    "            trackNumber.add(n)\n",
    "            sum = 0\n",
    "            for i in range(len(n)):\n",
    "                sum = sum + int(n[i])**2\n",
    "            n = str(sum)\n",
    "        elif str(n) in trackNumber:\n",
    "            print(f\"{n_duplicate} is not a happy number\")\n",
    "            break\n",
    "        else:\n",
    "            print(f\"{n_duplicate} is a happy number\")\n",
    "            break\n",
    "\n",
    "check_happy_number()"
   ]
  },
  {
   "cell_type": "code",
   "execution_count": 3,
   "id": "82bf3b96",
   "metadata": {},
   "outputs": [
    {
     "name": "stdout",
     "output_type": "stream",
     "text": [
      "Enter a number : 1\n",
      "1 is a happy number\n"
     ]
    }
   ],
   "source": [
    "check_happy_number()"
   ]
  },
  {
   "cell_type": "raw",
   "id": "98f2aa4e",
   "metadata": {},
   "source": [
    "4.Write a Python Program to print all Happy numbers between 1 and 100 ?"
   ]
  },
  {
   "cell_type": "code",
   "execution_count": 8,
   "id": "ebece3bf",
   "metadata": {},
   "outputs": [
    {
     "name": "stdout",
     "output_type": "stream",
     "text": [
      "The happy number between 0 and 100 are [1, 7, 10, 13, 19, 23, 28, 31, 32, 44, 49, 68, 70, 79, 82, 86, 91, 94, 97, 100]\n"
     ]
    }
   ],
   "source": [
    "def happy_number(start, end):\n",
    "    happynumber=[]\n",
    "    for n in range(start,end+1):\n",
    "        n=str(n)\n",
    "        n_duplicate = n\n",
    "        trackNumber = set()\n",
    "        while True:\n",
    "            if n!=\"1\" and str(n) not in trackNumber:\n",
    "                trackNumber.add(n)\n",
    "                sum = 0\n",
    "                for i in range(len(n)):\n",
    "                    sum = sum + int(n[i])**2\n",
    "                n=str(sum)\n",
    "            elif str(n) in trackNumber:\n",
    "                break\n",
    "            else:\n",
    "                happynumber.append(int(n_duplicate))\n",
    "                break\n",
    "    print(f\"The happy number between {start} and {end} are {happynumber}\")\n",
    "        \n",
    "happy_number(0,100)"
   ]
  },
  {
   "cell_type": "raw",
   "id": "dcf4d21f",
   "metadata": {},
   "source": [
    "5.Write a Python Program to determine whether the given number is a Harshad Number ?"
   ]
  },
  {
   "cell_type": "code",
   "execution_count": 9,
   "id": "c1f89c4e",
   "metadata": {},
   "outputs": [
    {
     "name": "stdout",
     "output_type": "stream",
     "text": [
      "Enter a number : 34\n",
      "34 is not a harshad number\n"
     ]
    }
   ],
   "source": [
    "def check_harshad_number():\n",
    "    n =input(\"Enter a number : \")\n",
    "    sum = 0\n",
    "    for i in range(len(n)):\n",
    "        sum = sum + int(n[i])\n",
    "    if int(n)%sum == 0:\n",
    "        print(f\"{n} is a harshad number\")\n",
    "    else:\n",
    "        print(f\"{n} is not a harshad number\")\n",
    "        \n",
    "check_harshad_number()"
   ]
  },
  {
   "cell_type": "code",
   "execution_count": 10,
   "id": "fd6577f6",
   "metadata": {},
   "outputs": [
    {
     "name": "stdout",
     "output_type": "stream",
     "text": [
      "Enter a number : 1\n",
      "1 is a harshad number\n"
     ]
    }
   ],
   "source": [
    "check_harshad_number()"
   ]
  },
  {
   "cell_type": "raw",
   "id": "062befdf",
   "metadata": {},
   "source": [
    "6.Write a Python Program to print all pronic numbers between 1 and 100 ?"
   ]
  },
  {
   "cell_type": "code",
   "execution_count": 13,
   "id": "6d740050",
   "metadata": {},
   "outputs": [
    {
     "name": "stdout",
     "output_type": "stream",
     "text": [
      "[0, 2, 6, 12, 20, 30, 42, 56, 72, 90, 110, 132, 156, 182, 210, 240, 272, 306, 342, 380, 420, 462, 506, 552, 600, 650, 702, 756, 812, 870, 930, 992, 1056, 1122, 1190, 1260, 1332, 1406, 1482, 1560, 1640, 1722, 1806, 1892, 1980, 2070, 2162, 2256, 2352, 2450, 2550, 2652, 2756, 2862, 2970, 3080, 3192, 3306, 3422, 3540, 3660, 3782, 3906, 4032, 4160, 4290, 4422, 4556, 4692, 4830, 4970, 5112, 5256, 5402, 5550, 5700, 5852, 6006, 6162, 6320, 6480, 6642, 6806, 6972, 7140, 7310, 7482, 7656, 7832, 8010, 8190, 8372, 8556, 8742, 8930, 9120, 9312, 9506, 9702, 9900, 10100]\n"
     ]
    }
   ],
   "source": [
    "def print_pronic_number(start,end):\n",
    "    pronicNumber = []\n",
    "    for i in range(start,end+1):\n",
    "        pronicNumber.append(i*(i+1))\n",
    "    print(pronicNumber)\n",
    "    \n",
    "print_pronic_number(0,100)"
   ]
  }
 ],
 "metadata": {
  "kernelspec": {
   "display_name": "Python 3 (ipykernel)",
   "language": "python",
   "name": "python3"
  },
  "language_info": {
   "codemirror_mode": {
    "name": "ipython",
    "version": 3
   },
   "file_extension": ".py",
   "mimetype": "text/x-python",
   "name": "python",
   "nbconvert_exporter": "python",
   "pygments_lexer": "ipython3",
   "version": "3.10.9"
  }
 },
 "nbformat": 4,
 "nbformat_minor": 5
}
