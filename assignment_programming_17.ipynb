{
 "cells": [
  {
   "cell_type": "raw",
   "id": "9eea95e4",
   "metadata": {},
   "source": [
    "1.Create a function that takes three arguments a, b, c and returns the sum of the numbers that are evenly divided by c from the range a, b inclusive ?\n",
    "Examples:\n",
    "evenly_divisible(1, 10, 20) ➞ 0 # No number between 1 and 10 can be evenly divided by 20. evenly_divisible(1, 10, 2) ➞ 30 # 2 + 4 + 6 + 8 + 10 = 30 evenly_divisible(1, 10, 3) ➞ 18 # 3 + 6 + 9 = 18"
   ]
  },
  {
   "cell_type": "code",
   "execution_count": 3,
   "id": "470eb044",
   "metadata": {},
   "outputs": [
    {
     "name": "stdout",
     "output_type": "stream",
     "text": [
      "Evenly divisible b/w 1 and 10 by 4 is 12\n"
     ]
    }
   ],
   "source": [
    "def even_divisible(a,b,c):\n",
    "    div = []\n",
    "    for i in range(a,b+1):\n",
    "        if i%c == 0:\n",
    "            div.append(i)\n",
    "    if div == []:\n",
    "        print(f\"No number b/w {a} and {b} can ve evenly divided by {c}\")\n",
    "    else:\n",
    "        print(f\"Evenly divisible b/w {a} and {b} by {c} is {sum(div)}\")\n",
    "        \n",
    "        \n",
    "even_divisible(1,10,4)"
   ]
  },
  {
   "cell_type": "code",
   "execution_count": 4,
   "id": "9359c0da",
   "metadata": {},
   "outputs": [
    {
     "name": "stdout",
     "output_type": "stream",
     "text": [
      "No number b/w 1 and 20 can ve evenly divided by 40\n"
     ]
    }
   ],
   "source": [
    "even_divisible(1,20,40)"
   ]
  },
  {
   "cell_type": "raw",
   "id": "255bcf2f",
   "metadata": {},
   "source": [
    "2.Create a function that returns True if a given inequality expression is correct and False otherwise ?\n",
    "Examples:\n",
    "correct_signs(\"3 < 7 < 11\") ➞ True\n",
    "correct_signs(\"13 > 44 > 33 > 1\") ➞ False\n",
    "correct_signs(\"1 < 2 < 6 < 9 > 3\") ➞ True"
   ]
  },
  {
   "cell_type": "code",
   "execution_count": 2,
   "id": "f9352e63",
   "metadata": {},
   "outputs": [
    {
     "name": "stdout",
     "output_type": "stream",
     "text": [
      "Enter the inequality : 3>4>5>8\n",
      "False\n"
     ]
    }
   ],
   "source": [
    "def check_equality():\n",
    "    string = eval(input(\"Enter the inequality : \"))\n",
    "    print(f\"{string}\")\n",
    "    \n",
    "check_equality()"
   ]
  },
  {
   "cell_type": "code",
   "execution_count": 3,
   "id": "639585ac",
   "metadata": {},
   "outputs": [
    {
     "name": "stdout",
     "output_type": "stream",
     "text": [
      "Enter the inequality : 9>7>3>1\n",
      "True\n"
     ]
    }
   ],
   "source": [
    "check_equality()"
   ]
  },
  {
   "cell_type": "raw",
   "id": "82c5e76a",
   "metadata": {},
   "source": [
    "3.Create a function that replaces all the vowels in a string with a specified character ?\n",
    "Examples:\n",
    "replace_vowels(\"the aardvark\", \"#\") ➞ \"th# ##rdv#rk\"\n",
    "replace_vowels(\"minnie mouse\", \"?\") ➞ \"m?nn?? m??s?\"\n",
    "replace_vowels(\"shakespeare\", \"*\") ➞ \"shksp**r\""
   ]
  },
  {
   "cell_type": "code",
   "execution_count": 5,
   "id": "b3cb2310",
   "metadata": {},
   "outputs": [
    {
     "name": "stdout",
     "output_type": "stream",
     "text": [
      "Enter the string : i am charvee\n",
      "Enter the replacement character for vowels : *\n",
      "The given string is i am charvee, the relacement character for vowels is * ----> * *m ch*rv**\n"
     ]
    }
   ],
   "source": [
    "def replace_vowels():\n",
    "    vowels = ['a','e','i','o','u','A','E','I','O','U']\n",
    "    string = input(\"Enter the string : \")\n",
    "    string2 = string\n",
    "    char = input(\"Enter the replacement character for vowels : \")\n",
    "    for i in string:\n",
    "        if i in vowels:\n",
    "            string = string.replace(i, char)\n",
    "    print(f\"The given string is {string2}, the relacement character for vowels is {char} ----> {string}\")\n",
    "    \n",
    "replace_vowels()           "
   ]
  },
  {
   "cell_type": "raw",
   "id": "8a33a6fb",
   "metadata": {},
   "source": [
    "4.Write a function that calculates the factorial of a number recursively ?\n",
    "Examples:\n",
    "factorial(5) ➞ 120\n",
    "factorial(3) ➞ 6\n",
    "factorial(1) ➞ 1\n",
    "factorial(0) ➞ 1"
   ]
  },
  {
   "cell_type": "code",
   "execution_count": 6,
   "id": "36ffe21a",
   "metadata": {},
   "outputs": [
    {
     "data": {
      "text/plain": [
       "362880"
      ]
     },
     "execution_count": 6,
     "metadata": {},
     "output_type": "execute_result"
    }
   ],
   "source": [
    "def factorial(n):\n",
    "    if n==0:\n",
    "        return 1\n",
    "    return n*factorial(n-1)\n",
    "\n",
    "factorial(9)"
   ]
  },
  {
   "cell_type": "code",
   "execution_count": 7,
   "id": "0a58b5f9",
   "metadata": {},
   "outputs": [
    {
     "data": {
      "text/plain": [
       "6"
      ]
     },
     "execution_count": 7,
     "metadata": {},
     "output_type": "execute_result"
    }
   ],
   "source": [
    "factorial(3)"
   ]
  },
  {
   "cell_type": "raw",
   "id": "2925a46a",
   "metadata": {},
   "source": [
    "5.Hamming distance is the number of characters that differ between two strings ?\n",
    "To illustrate:\n",
    "String1: \"abcbba\"\n",
    "String2: \"abcbda\"\n",
    "Hamming Distance: 1 - \"b\" vs. \"d\" is the only difference.\n",
    "Create a function that computes the hamming distance between two strings.\n",
    "Examples:\n",
    "hamming_distance(\"abcde\", \"bcdef\") ➞ 5\n",
    "hamming_distance(\"abcde\", \"abcde\") ➞ 0\n",
    "hamming_distance(\"strong\", \"strung\") ➞ 1"
   ]
  },
  {
   "cell_type": "code",
   "execution_count": 8,
   "id": "aa848a5f",
   "metadata": {},
   "outputs": [
    {
     "name": "stdout",
     "output_type": "stream",
     "text": [
      "Enter the string1 : poo123\n",
      "Enter the string2 : poo124\n",
      "Hamning Distance b/w poo123 and poo124 ----> 1\n"
     ]
    }
   ],
   "source": [
    "def gen_hamning_distance():\n",
    "    string1 = input(\"Enter the string1 : \")\n",
    "    string2  = input(\"Enter the string2 : \")\n",
    "    if len(string1) ==len(string2):\n",
    "        count = 0\n",
    "        for i in range(len(string1)):\n",
    "            if string1[i]!=string2[i]:\n",
    "                count = count+1\n",
    "        print(f\"Hamning Distance b/w {string1} and {string2} ----> {count}\")\n",
    "    else:\n",
    "        print(f\"Both string must have same length\")\n",
    "        \n",
    "gen_hamning_distance()"
   ]
  },
  {
   "cell_type": "code",
   "execution_count": 9,
   "id": "f5d31f45",
   "metadata": {},
   "outputs": [
    {
     "name": "stdout",
     "output_type": "stream",
     "text": [
      "Enter the string1 : charvee\n",
      "Enter the string2 : charved\n",
      "Hamning Distance b/w charvee and charved ----> 1\n"
     ]
    }
   ],
   "source": [
    "gen_hamning_distance()"
   ]
  }
 ],
 "metadata": {
  "kernelspec": {
   "display_name": "Python 3 (ipykernel)",
   "language": "python",
   "name": "python3"
  },
  "language_info": {
   "codemirror_mode": {
    "name": "ipython",
    "version": 3
   },
   "file_extension": ".py",
   "mimetype": "text/x-python",
   "name": "python",
   "nbconvert_exporter": "python",
   "pygments_lexer": "ipython3",
   "version": "3.10.9"
  }
 },
 "nbformat": 4,
 "nbformat_minor": 5
}
