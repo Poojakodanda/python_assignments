{
 "cells": [
  {
   "cell_type": "raw",
   "id": "1a0dcec2",
   "metadata": {},
   "source": [
    "1.Write a program that calculates and prints the value according to the given formula:\n",
    "Q = Square root of [(2 * C * D)/H]\n",
    "Following are the fixed values of C and H:\n",
    "C is 50. H is 30.\n",
    "D is the variable whose values should be input to your program in a comma-separated sequence.\n",
    "Example: Let us assume the following comma separated input sequence is given to the program:100,150,180\n",
    "The output of the program should be: 18,22,24"
   ]
  },
  {
   "cell_type": "code",
   "execution_count": 3,
   "id": "29fb837a",
   "metadata": {},
   "outputs": [
    {
     "name": "stdout",
     "output_type": "stream",
     "text": [
      "Enter the input : 100,150,200\n",
      "The Q values for the given equation is [18, 22, 25] \n"
     ]
    }
   ],
   "source": [
    "from math import sqrt\n",
    "def sqrt_fun():\n",
    "    n = eval(input(\"Enter the input : \"))\n",
    "    output = []\n",
    "    C = 50\n",
    "    H = 30 \n",
    "    for i in n:\n",
    "        Q = int(sqrt((2*C*i)/H))\n",
    "        output.append(Q)\n",
    "    print(f\"The Q values for the given equation is {output} \")\n",
    "    \n",
    "sqrt_fun()\n"
   ]
  },
  {
   "cell_type": "raw",
   "id": "b1148c20",
   "metadata": {},
   "source": [
    "2.Write a program which takes 2 digits, X,Y as input and generates a 2-dimensional array. The element value in the i-th row and j-th column of the array should be i*j.\n",
    "Note: i=0,1.., X-1; j=0,1,¡Y-1.\n",
    "Example: Suppose the following inputs are given to the program: 3,5\n",
    "Then, the output of the program should be:[[0, 0, 0, 0, 0], [0, 1, 2, 3, 4], [0, 2, 4, 6, 8]]"
   ]
  },
  {
   "cell_type": "code",
   "execution_count": 7,
   "id": "81549c89",
   "metadata": {},
   "outputs": [
    {
     "name": "stdout",
     "output_type": "stream",
     "text": [
      "Enter the number of rows : 4\n",
      "Enter the number of columns : 6\n",
      "[[0, 0, 0, 0, 0, 0], [0, 1, 2, 3, 4, 5], [0, 2, 4, 6, 8, 10], [0, 3, 6, 9, 12, 15]]\n"
     ]
    }
   ],
   "source": [
    "import array as arr\n",
    "def gen_array():\n",
    "    x = int(input(\"Enter the number of rows : \"))\n",
    "    y = int(input(\"Enter the number of columns : \"))\n",
    "    output = []\n",
    "    for i in range(x):\n",
    "        output.insert(x,[])\n",
    "        for j in range(y):\n",
    "            output[i].append(i*j)\n",
    "    print(output)\n",
    "    \n",
    "gen_array()"
   ]
  },
  {
   "cell_type": "raw",
   "id": "1bd46698",
   "metadata": {},
   "source": [
    "3.Write a program that accepts a comma separated sequence of words as input and prints the words in a comma-separated sequence after sorting them alphabetically ?\n",
    "Suppose the following input is supplied to the program: without,hello,bag,world\n",
    "Then, the output should be: bag,hello,without,world"
   ]
  },
  {
   "cell_type": "code",
   "execution_count": 8,
   "id": "4e1b5fc7",
   "metadata": {},
   "outputs": [
    {
     "name": "stdout",
     "output_type": "stream",
     "text": [
      "Enter the input string : hi,darling,baby,world\n",
      " Output string : baby,darling,hi,world\n"
     ]
    }
   ],
   "source": [
    "def sort_string():\n",
    "    string = input('Enter the input string : ')\n",
    "    output = \",\".join(sorted(string.split(\",\")))\n",
    "    print(f\" Output string : {output}\")\n",
    "    \n",
    "sort_string()"
   ]
  },
  {
   "cell_type": "raw",
   "id": "f04d32e1",
   "metadata": {},
   "source": [
    "4.Write a program that accepts a sequence of whitespace separated words as input and prints the words after removing all duplicate words and sorting them alphanumerically.\n",
    "Suppose the following input is supplied to the program: hello world and practice makes perfect and hello world again\n",
    "Then, the output should be: again and hello makes perfect practice world"
   ]
  },
  {
   "cell_type": "code",
   "execution_count": 1,
   "id": "ed6eb0d4",
   "metadata": {},
   "outputs": [
    {
     "name": "stdout",
     "output_type": "stream",
     "text": [
      "Enter the input string : hi baby and how are you and how is your life going on\n",
      "The output string of this function is : and are baby going hi how is life on you your\n"
     ]
    }
   ],
   "source": [
    "def sort_alpha_remove_duplicate_words():\n",
    "    string = input(\"Enter the input string : \")\n",
    "    output = \" \".join(sorted(list(set(string.split(\" \")))))\n",
    "    print(f\"The output string of this function is : {output}\")\n",
    "    \n",
    "sort_alpha_remove_duplicate_words()    "
   ]
  },
  {
   "cell_type": "raw",
   "id": "cb76286e",
   "metadata": {},
   "source": [
    "5.Write a program that accepts a sentence and calculate the number of letters and digits.\n",
    "Suppose the following input is supplied to the program: hello world! 123\n",
    "Then, the output should be:\n",
    "LETTERS 10\n",
    "DIGITS 3"
   ]
  },
  {
   "cell_type": "code",
   "execution_count": 4,
   "id": "925fb7db",
   "metadata": {},
   "outputs": [
    {
     "name": "stdout",
     "output_type": "stream",
     "text": [
      "Enter the input as string : pooja and punith are siblings from 27 years \n",
      "Number of letters = 34 \n",
      " Number of digits = 2\n"
     ]
    }
   ],
   "source": [
    "def count_letters_and_digits():\n",
    "    string = input(\"Enter the input as string : \")\n",
    "    letters_list = 'ABCDEFGHIJKLMNOPQRSTUVWXYZabcdefghijklmnopqrstuvwxyz'\n",
    "    digits_list = '0123456789'\n",
    "    letters = 0\n",
    "    digits = 0\n",
    "    for i in string:\n",
    "        if i in letters_list:\n",
    "            letters = letters+1\n",
    "        elif i in digits_list:\n",
    "            digits =digits+1\n",
    "    print(f\"Number of letters = {letters} \\n Number of digits = {digits}\")\n",
    "    \n",
    "count_letters_and_digits()"
   ]
  },
  {
   "cell_type": "raw",
   "id": "55ad02ff",
   "metadata": {},
   "source": [
    "6.A website requires the users to input username and password to register. Write a program to check the validity of password input by users.\n",
    "Following are the criteria for checking the password:\n",
    "\n",
    "At least 1 letter between [a-z]\n",
    "At least 1 number between [0-9]\n",
    "At least 1 letter between [A-Z]\n",
    "At least 1 character from [$#@]\n",
    "Minimum length of transaction password: 6\n",
    "Maximum length of transaction password: 12\n",
    "Your program should accept a sequence of comma separated passwords and will check them according to the above criteria. Passwords that match the criteria are to be printed, each separated by a comma.\n",
    "\n",
    "Example:\n",
    "If the following passwords are given as input to the program: ABd1234@1,a F1#,2w3E*,2We3345\n",
    "Then, the output of the program should be:ABd1234@1"
   ]
  },
  {
   "cell_type": "code",
   "execution_count": 1,
   "id": "cae91b30",
   "metadata": {},
   "outputs": [
    {
     "name": "stdout",
     "output_type": "stream",
     "text": [
      "Enter the input string : aaA@dwfg23\n",
      "aaA@dwfg23\n"
     ]
    }
   ],
   "source": [
    "def check_password():\n",
    "    string = input(\"Enter the input string : \")\n",
    "    small_char = \"abcdefghijklmnopqrstuvwxyz\"\n",
    "    cap_char = \"ABCDEFGHIJKLMNOPQRSTUVWXYZ\"\n",
    "    num_list = \"0123456789\"\n",
    "    special_char = \"$#@\"\n",
    "    for i in string.split(\",\"):\n",
    "        if len(i)<=12 and len(i)>=6:\n",
    "            if any(j.isupper() for j in i):\n",
    "                if any(j.islower() for j in  i):\n",
    "                    if any(j for j in i if j in special_char):\n",
    "                        print(i)\n",
    "                        \n",
    "check_password()"
   ]
  },
  {
   "cell_type": "code",
   "execution_count": 2,
   "id": "2a1e1610",
   "metadata": {},
   "outputs": [
    {
     "name": "stdout",
     "output_type": "stream",
     "text": [
      "Enter the input string : sd@fhAS123, DG#kajsd1, AS!edhj123, DF@asmd3\n",
      "sd@fhAS123\n",
      " DG#kajsd1\n",
      " DF@asmd3\n"
     ]
    }
   ],
   "source": [
    "check_password()"
   ]
  }
 ],
 "metadata": {
  "kernelspec": {
   "display_name": "Python 3 (ipykernel)",
   "language": "python",
   "name": "python3"
  },
  "language_info": {
   "codemirror_mode": {
    "name": "ipython",
    "version": 3
   },
   "file_extension": ".py",
   "mimetype": "text/x-python",
   "name": "python",
   "nbconvert_exporter": "python",
   "pygments_lexer": "ipython3",
   "version": "3.10.9"
  }
 },
 "nbformat": 4,
 "nbformat_minor": 5
}
