{
 "cells": [
  {
   "cell_type": "raw",
   "id": "5b5c1be8",
   "metadata": {},
   "source": [
    "1. Write a Python program to find words which are greater than given length k ?"
   ]
  },
  {
   "cell_type": "code",
   "execution_count": 8,
   "id": "e20bbf9a",
   "metadata": {},
   "outputs": [
    {
     "name": "stdout",
     "output_type": "stream",
     "text": [
      "Enter the string : hi raja baby how was your day\n",
      "Enter the k value3\n",
      "raja,baby,your\n"
     ]
    }
   ],
   "source": [
    "def words_greater_than_given_k():\n",
    "    string = input(\"Enter the string : \")\n",
    "    k = int(input(\"Enter the k value\"))\n",
    "    output = []\n",
    "    for i in string.split(\" \"):\n",
    "        if len(i)>k:\n",
    "            output.append(i)\n",
    "    print(f\"{','.join(output)}\")\n",
    "\n",
    "words_greater_than_given_k()"
   ]
  },
  {
   "cell_type": "raw",
   "id": "c2048b57",
   "metadata": {},
   "source": [
    "2. Write a Python program for removing i-th character from a string ?"
   ]
  },
  {
   "cell_type": "code",
   "execution_count": 14,
   "id": "cff01a23",
   "metadata": {},
   "outputs": [
    {
     "name": "stdout",
     "output_type": "stream",
     "text": [
      "Enter the string : \"hi darling\"\n",
      "Enter the ith character need to be removed : 5\n",
      "\"hi drling\"\n"
     ]
    }
   ],
   "source": [
    "def remove_ith_char():\n",
    "    string = input(\"Enter the string : \")\n",
    "    ith_num = int(input(\"Enter the ith character need to be removed : \"))\n",
    "    output= ''\n",
    "    for i in range(len(string)):\n",
    "        if i!=ith_num:\n",
    "            output = output + string[i]\n",
    "    print(output)\n",
    "    \n",
    "remove_ith_char()"
   ]
  },
  {
   "cell_type": "raw",
   "id": "1bc888b7",
   "metadata": {},
   "source": [
    "3. Write a Python program to split and join a string ?"
   ]
  },
  {
   "cell_type": "code",
   "execution_count": 17,
   "id": "d11aca9d",
   "metadata": {},
   "outputs": [
    {
     "name": "stdout",
     "output_type": "stream",
     "text": [
      "Enter the string : \"hi baby good morning, have a nice day\"\n",
      "Spliting string : ['\"hi', 'baby', 'good', 'morning,', 'have', 'a', 'nice', 'day\"']\n",
      "After joining the split string : \"hi baby good morning, have a nice day\"\n"
     ]
    }
   ],
   "source": [
    "def split_and_join_string():\n",
    "    string = input(\"Enter the string : \")\n",
    "    print(f\"Spliting string : {string.split(' ')}\")\n",
    "    print(f\"After joining the split string : {' '.join(string.split(' '))}\")\n",
    "    \n",
    "split_and_join_string()"
   ]
  },
  {
   "cell_type": "raw",
   "id": "a88e97ae",
   "metadata": {},
   "source": [
    "4. Write a Python to check if a given string is binary string or not ?"
   ]
  },
  {
   "cell_type": "code",
   "execution_count": 28,
   "id": "d9c7b46d",
   "metadata": {},
   "outputs": [
    {
     "name": "stdout",
     "output_type": "stream",
     "text": [
      "Enter the string: hi\n",
      "hi is not a binary string\n"
     ]
    }
   ],
   "source": [
    "def check_Binary():\n",
    "    string = input('Enter the string: ')\n",
    "    m = 0\n",
    "    for i in string:\n",
    "        if i in ['0','1']:\n",
    "            m = 1\n",
    "            continue\n",
    "        else:\n",
    "            m = 0\n",
    "            break\n",
    "    if m == 1:\n",
    "        print(f\"{string} is a binary string\")\n",
    "    elif m == 0:\n",
    "        print(f\"{string} is not a binary string\")\n",
    "        \n",
    "check_Binary()"
   ]
  },
  {
   "cell_type": "code",
   "execution_count": 29,
   "id": "a0e3623f",
   "metadata": {},
   "outputs": [
    {
     "name": "stdout",
     "output_type": "stream",
     "text": [
      "Enter the string: 0\n",
      "0 is a binary string\n"
     ]
    }
   ],
   "source": [
    "check_Binary()"
   ]
  },
  {
   "cell_type": "raw",
   "id": "24207acd",
   "metadata": {},
   "source": [
    "5. Write a Python program to find uncommon words from two Strings ?"
   ]
  },
  {
   "cell_type": "code",
   "execution_count": 30,
   "id": "f4c3ee06",
   "metadata": {},
   "outputs": [
    {
     "name": "stdout",
     "output_type": "stream",
     "text": [
      "Enter the string 1  : hi baby how are you\n",
      "Enter the string 2 : hi darling how are you\n",
      "{'darling', 'baby'}\n"
     ]
    }
   ],
   "source": [
    "def uncommon_words():\n",
    "    string1 = set(input(\"Enter the string 1  : \").split(' '))\n",
    "    string2 = set(input(\"Enter the string 2 : \").split(' '))\n",
    "    output_string = (string1.union(string2)).difference(string1.intersection(string2))\n",
    "    print(output_string)\n",
    "    \n",
    "uncommon_words()"
   ]
  },
  {
   "cell_type": "raw",
   "id": "eea3ebb1",
   "metadata": {},
   "source": [
    "6. Write a Python to find all duplicate characters in string ?"
   ]
  },
  {
   "cell_type": "code",
   "execution_count": 31,
   "id": "0c24b23c",
   "metadata": {},
   "outputs": [
    {
     "name": "stdout",
     "output_type": "stream",
     "text": [
      "Enter the string : hi good morning have a nice day\n",
      "Duplicate characters are : ['h', 'e', 'o', 'a', 'i', 'n', ' ', 'g', 'd']\n"
     ]
    }
   ],
   "source": [
    "def duplicate_char():\n",
    "    string = input(\"Enter the string : \")\n",
    "    non_duplicate_list = []\n",
    "    duplicate_list = []\n",
    "    for i in string:\n",
    "        if i not in non_duplicate_list:\n",
    "            non_duplicate_list.append(i)\n",
    "        else:\n",
    "            duplicate_list.append(i)\n",
    "    print(f\"Duplicate characters are : {list(set(duplicate_list))}\")\n",
    "    \n",
    "duplicate_char()"
   ]
  },
  {
   "cell_type": "raw",
   "id": "277c3833",
   "metadata": {},
   "source": [
    "7. Write a Python Program to check if a string contains any special character?"
   ]
  },
  {
   "cell_type": "code",
   "execution_count": 32,
   "id": "1f617c1e",
   "metadata": {},
   "outputs": [
    {
     "name": "stdout",
     "output_type": "stream",
     "text": [
      "Enter the string : wow!, what beautiful  day.\n",
      "There are 3 number of speical characters in given string wow!, what beautiful  day. they are ['!', ',', '.']\n"
     ]
    }
   ],
   "source": [
    "def check_special_char():\n",
    "    spl_cha = \"[]()!@#$%^&*~`:;'',.\\?<>\"\n",
    "    string = input(\"Enter the string : \")\n",
    "    count = 0\n",
    "    sp_chr = []\n",
    "    for i in string:\n",
    "        if i in spl_cha:\n",
    "            sp_chr.append(i)\n",
    "            count = count+1\n",
    "    print(f\"There are {count} number of speical characters in given string {string} they are {sp_chr}\")\n",
    "    \n",
    "    \n",
    "check_special_char()"
   ]
  },
  {
   "cell_type": "code",
   "execution_count": 33,
   "id": "b76fe832",
   "metadata": {},
   "outputs": [
    {
     "name": "stdout",
     "output_type": "stream",
     "text": [
      "Enter the string : *you are looking so good, have a nice day*\n",
      "There are 3 number of speical characters in given string *you are looking so good, have a nice day* they are ['*', ',', '*']\n"
     ]
    }
   ],
   "source": [
    "check_special_char()"
   ]
  }
 ],
 "metadata": {
  "kernelspec": {
   "display_name": "Python 3 (ipykernel)",
   "language": "python",
   "name": "python3"
  },
  "language_info": {
   "codemirror_mode": {
    "name": "ipython",
    "version": 3
   },
   "file_extension": ".py",
   "mimetype": "text/x-python",
   "name": "python",
   "nbconvert_exporter": "python",
   "pygments_lexer": "ipython3",
   "version": "3.10.9"
  }
 },
 "nbformat": 4,
 "nbformat_minor": 5
}
