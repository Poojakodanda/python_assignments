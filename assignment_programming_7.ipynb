{
 "cells": [
  {
   "cell_type": "raw",
   "id": "f7e06f60",
   "metadata": {},
   "source": [
    "1. Write a Python Program to find sum of Array ?"
   ]
  },
  {
   "cell_type": "code",
   "execution_count": 3,
   "id": "50a01622",
   "metadata": {},
   "outputs": [
    {
     "name": "stdout",
     "output_type": "stream",
     "text": [
      "ENter the array : np.array([1,2,3,4])\n",
      "The sum of [1 2 3 4] is 10\n"
     ]
    }
   ],
   "source": [
    "import numpy as np\n",
    "def sum_of_array():\n",
    "    array = eval(input(\"ENter the array : \"))\n",
    "    print(f\"The sum of {array} is {sum(array)}\")\n",
    "    \n",
    "sum_of_array()"
   ]
  },
  {
   "cell_type": "raw",
   "id": "94f49189",
   "metadata": {},
   "source": [
    "2. Write a Python Program to find Largest element in an Array ?"
   ]
  },
  {
   "cell_type": "code",
   "execution_count": 6,
   "id": "15bc560d",
   "metadata": {},
   "outputs": [
    {
     "name": "stdout",
     "output_type": "stream",
     "text": [
      "Enter the array : np.array([4,8,23,6,89])\n",
      " The largest element in [ 4  8 23  6 89] is 89\n"
     ]
    }
   ],
   "source": [
    "def largest_ele():\n",
    "    array = eval(input(\"Enter the array : \"))\n",
    "    print(f\" The largest element in {array} is {sorted(array, reverse = True)[0]}\")\n",
    "    \n",
    "largest_ele()"
   ]
  },
  {
   "cell_type": "raw",
   "id": "a8e66e8b",
   "metadata": {},
   "source": [
    "3. Write a Python Program for array rotation ?"
   ]
  },
  {
   "cell_type": "code",
   "execution_count": 7,
   "id": "ca06d57e",
   "metadata": {},
   "outputs": [
    {
     "name": "stdout",
     "output_type": "stream",
     "text": [
      "Enter the array : np.array([8,5,9,2,0])\n",
      "The reverse of array [8 5 9 2 0] is [0 2 9 5 8]\n"
     ]
    }
   ],
   "source": [
    "def reverse_array():\n",
    "    array = eval(input(\"Enter the array : \"))\n",
    "    print(f\"The reverse of array {array} is {array[::-1]}\")\n",
    "    \n",
    "reverse_array()"
   ]
  },
  {
   "cell_type": "raw",
   "id": "315b2a3e",
   "metadata": {},
   "source": [
    "4. Write a Python Program to Split the array and add the first part to the end ?"
   ]
  },
  {
   "cell_type": "code",
   "execution_count": 9,
   "id": "81293522",
   "metadata": {},
   "outputs": [
    {
     "name": "stdout",
     "output_type": "stream",
     "text": [
      "Enter the array : np.array([2,3,4,8,9,7])\n",
      " The sum of first and last element of array [2 3 4 8 9 7] is 9\n"
     ]
    }
   ],
   "source": [
    "def sum_of_first_and_last():\n",
    "    array = eval(input(\"Enter the array : \"))\n",
    "    print(f\" The sum of first and last element of array {array} is {array[0]+array[-1]}\")\n",
    "    \n",
    "sum_of_first_and_last()"
   ]
  },
  {
   "cell_type": "raw",
   "id": "1fe8d9b4",
   "metadata": {},
   "source": [
    "5. Write a Python Program to check if given array is Monotonic ?"
   ]
  },
  {
   "cell_type": "code",
   "execution_count": 18,
   "id": "65cbb656",
   "metadata": {},
   "outputs": [
    {
     "name": "stdout",
     "output_type": "stream",
     "text": [
      "Enter the array : np.array([8,6,9,4])\n",
      " Array [8 6 9 4] is not monotonic\n"
     ]
    }
   ],
   "source": [
    "def check_monotonic():\n",
    "    array = eval(input(\"Enter the array : \"))\n",
    "    if (all(array[i]<=array[i+1] for i in range(len(array)-1))) or (all(array[i]>=array[i+1] for i in range(len(array)-1))):\n",
    "        print(f\" Array {array} is monotonic\")\n",
    "    else:\n",
    "        print(f\" Array {array} is not monotonic\")\n",
    "        \n",
    "check_monotonic()"
   ]
  },
  {
   "cell_type": "code",
   "execution_count": 19,
   "id": "cf0d4780",
   "metadata": {},
   "outputs": [
    {
     "name": "stdout",
     "output_type": "stream",
     "text": [
      "Enter the array : np.array([3,6,9,44])\n",
      " Array [ 3  6  9 44] is monotonic\n"
     ]
    }
   ],
   "source": [
    "check_monotonic()"
   ]
  }
 ],
 "metadata": {
  "kernelspec": {
   "display_name": "Python 3 (ipykernel)",
   "language": "python",
   "name": "python3"
  },
  "language_info": {
   "codemirror_mode": {
    "name": "ipython",
    "version": 3
   },
   "file_extension": ".py",
   "mimetype": "text/x-python",
   "name": "python",
   "nbconvert_exporter": "python",
   "pygments_lexer": "ipython3",
   "version": "3.10.9"
  }
 },
 "nbformat": 4,
 "nbformat_minor": 5
}
