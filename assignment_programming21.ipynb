{
 "cells": [
  {
   "cell_type": "markdown",
   "id": "e4c207e7",
   "metadata": {},
   "source": [
    "1.Write a function that takes a list and a number as arguments. Add the number to the end of the list, then remove the first element of the list. The function should then return the updated list.\n",
    "Examples:\n",
    "next_in_line([5, 6, 7, 8, 9], 1) ➞ [6, 7, 8, 9, 1]\n",
    "next_in_line([7, 6, 3, 23, 17], 10) ➞ [6, 3, 23, 17, 10]\n",
    "next_in_line([1, 10, 20, 42 ], 6) ➞ [10, 20, 42, 6]\n",
    "next_in_line([], 6) ➞ \"No list has been selected\""
   ]
  },
  {
   "cell_type": "code",
   "execution_count": 2,
   "id": "1728c700",
   "metadata": {},
   "outputs": [
    {
     "name": "stdout",
     "output_type": "stream",
     "text": [
      "Output of this function is [34, 45, 56, 87, 788888888]\n"
     ]
    }
   ],
   "source": [
    "def next_in_line(list1,n):\n",
    "    if len(list1)>1:\n",
    "        list1.append(n)\n",
    "        list1.remove(list1[0])\n",
    "        print(f'Output of this function is {list1}')\n",
    "    else:\n",
    "        print(\"Please dont enter empty list\")\n",
    "\n",
    "next_in_line([23,34,45,56,87],788888888)       "
   ]
  },
  {
   "cell_type": "markdown",
   "id": "5b588264",
   "metadata": {},
   "source": [
    "2.Create the function that takes a list of dictionaries and returns the sum of people's budgets.\n",
    "Examples:\n",
    "get_budgets([ { \"name\": \"John\", \"age\": 21, \"budget\": 23000 }, { \"name\": \"Steve\", \"age\": 32, \"budget\": 40000 }, { \"name\": \"Martin\", \"age\": 16, \"budget\": 2700 } ]) ➞ 65700\n",
    "\n",
    "get_budgets([ { \"name\": \"John\", \"age\": 21, \"budget\": 29000 }, { \"name\": \"Steve\", \"age\": 32, \"budget\": 32000 }, { \"name\": \"Martin\", \"age\": 16, \"budget\": 1600 } ]) ➞ 62600"
   ]
  },
  {
   "cell_type": "code",
   "execution_count": 3,
   "id": "9865a2ee",
   "metadata": {},
   "outputs": [
    {
     "name": "stdout",
     "output_type": "stream",
     "text": [
      "output --> 65700\n"
     ]
    }
   ],
   "source": [
    "def get_budgets(dict1):\n",
    "    sum = 0\n",
    "    for i in dict1:\n",
    "        sum = sum+i['budget']\n",
    "    print(f'output --> {sum}')\n",
    "    \n",
    "    \n",
    "get_budgets([\n",
    "{ \"name\": \"John\", \"age\": 21, \"budget\": 23000 },\n",
    "{ \"name\": \"Steve\", \"age\": 32, \"budget\": 40000 },\n",
    "{ \"name\": \"Martin\", \"age\": 16, \"budget\": 2700 }\n",
    "])"
   ]
  },
  {
   "cell_type": "code",
   "execution_count": 5,
   "id": "f4bb3d8d",
   "metadata": {},
   "outputs": [
    {
     "name": "stdout",
     "output_type": "stream",
     "text": [
      "output --> 62600\n"
     ]
    }
   ],
   "source": [
    "get_budgets([\n",
    "{ \"name\": \"John\", \"age\": 21, \"budget\": 29000 },\n",
    "{ \"name\": \"Steve\", \"age\": 32, \"budget\": 32000 },\n",
    "{ \"name\": \"Martin\", \"age\": 16, \"budget\": 1600 }\n",
    "])"
   ]
  },
  {
   "cell_type": "markdown",
   "id": "89cd0bc9",
   "metadata": {},
   "source": [
    "3.Create a function that takes a string and returns a string with its letters in alphabetical order.\n",
    "Examples:\n",
    "alphabet_soup(\"hello\") ➞ \"ehllo\"\n",
    "alphabet_soup(\"edabit\") ➞ \"abdeit\"\n",
    "alphabet_soup(\"hacker\") ➞ \"acehkr\"\n",
    "alphabet_soup(\"geek\") ➞ \"eegk\"\n",
    "alphabet_soup(\"javascript\") ➞ \"aacijprstv\""
   ]
  },
  {
   "cell_type": "code",
   "execution_count": 6,
   "id": "c84b8aef",
   "metadata": {},
   "outputs": [
    {
     "name": "stdout",
     "output_type": "stream",
     "text": [
      "pooja --> ajoop\n"
     ]
    }
   ],
   "source": [
    "def alphabet_soup(string):\n",
    "    out = ''.join(sorted(string))\n",
    "    print(f'{string} --> {out}')\n",
    "    \n",
    "alphabet_soup(\"pooja\")"
   ]
  },
  {
   "cell_type": "code",
   "execution_count": 8,
   "id": "ec0b4b8c",
   "metadata": {},
   "outputs": [
    {
     "name": "stdout",
     "output_type": "stream",
     "text": [
      "charvee --> aceehrv\n"
     ]
    }
   ],
   "source": [
    "alphabet_soup(\"charvee\")"
   ]
  },
  {
   "cell_type": "markdown",
   "id": "825e2d84",
   "metadata": {},
   "source": [
    "4.What will be the value of your investment at the end of the 10 year period?\n",
    "Create a function that accepts the principal p, the term in years t, the interest rate r, and the number of compounding periods per year n. The function returns the value at the end of term rounded to the nearest cent.\n",
    "\n",
    "For the example above:\n",
    "compound_interest(10000, 10, 0.06, 12) ➞ 18193.97\n",
    "Note that the interest rate is given as a decimal and n=12 because with monthly compounding there are 12 periods per year. Compounding can also be done annually, quarterly, weekly, or daily.\n",
    "\n",
    "Examples:\n",
    "compound_interest(100, 1, 0.05, 1) ➞ 105.0\n",
    "compound_interest(3500, 15, 0.1, 4) ➞ 15399.26\n",
    "compound_interest(100000, 20, 0.15, 365) ➞ 2007316.26"
   ]
  },
  {
   "cell_type": "code",
   "execution_count": 11,
   "id": "cd8002bc",
   "metadata": {},
   "outputs": [
    {
     "name": "stdout",
     "output_type": "stream",
     "text": [
      "Compound Interest --> 181.94\n"
     ]
    }
   ],
   "source": [
    "def compound_interest(p,t,r,n):\n",
    "    CI = p*(1+(r/n))**(n*t)\n",
    "    print(f\"Compound Interest --> {CI:.2f}\")\n",
    "    \n",
    "compound_interest(100,10,0.06,12)"
   ]
  },
  {
   "cell_type": "code",
   "execution_count": 16,
   "id": "4e31eb57",
   "metadata": {},
   "outputs": [
    {
     "name": "stdout",
     "output_type": "stream",
     "text": [
      "Output ➞ 1539.93\n"
     ]
    }
   ],
   "source": [
    "compound_interest(350,15, 0.1,4)"
   ]
  },
  {
   "cell_type": "markdown",
   "id": "cb52bf03",
   "metadata": {},
   "source": [
    "5.Write a function that takes a list of elements and returns only the integers.\n",
    "Examples:\n",
    "return_only_integer([9, 2, \"space\", \"car\", \"lion\", 16]) ➞ [9, 2, 16]\n",
    "return_only_integer([\"hello\", 81, \"basketball\", 123, \"fox\"]) ➞ [81, 123]\n",
    "return_only_integer([10, \"121\", 56, 20, \"car\", 3, \"lion\"]) ➞ [10, 56, 20,3]\n",
    "return_only_integer([\"String\", True, 3.3, 1]) ➞ [1]"
   ]
  },
  {
   "cell_type": "code",
   "execution_count": 18,
   "id": "254c9f43",
   "metadata": {},
   "outputs": [
    {
     "name": "stdout",
     "output_type": "stream",
     "text": [
      "List containing only integer : [12, 34, 56, 34, 100]\n"
     ]
    }
   ],
   "source": [
    "def return_only_integer(list1):\n",
    "    out = []\n",
    "    for i in list1:\n",
    "        if type(i)==int:\n",
    "            out.append(i)\n",
    "    print(f\"List containing only integer : {out}\")\n",
    "        \n",
    "return_only_integer([12,\"poo\",34,\"char\",\"vedh\",56,78.9,34,\"hi\",100])"
   ]
  }
 ],
 "metadata": {
  "kernelspec": {
   "display_name": "Python 3 (ipykernel)",
   "language": "python",
   "name": "python3"
  },
  "language_info": {
   "codemirror_mode": {
    "name": "ipython",
    "version": 3
   },
   "file_extension": ".py",
   "mimetype": "text/x-python",
   "name": "python",
   "nbconvert_exporter": "python",
   "pygments_lexer": "ipython3",
   "version": "3.10.9"
  }
 },
 "nbformat": 4,
 "nbformat_minor": 5
}
