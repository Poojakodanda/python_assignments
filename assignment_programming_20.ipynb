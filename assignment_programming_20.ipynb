{
 "cells": [
  {
   "cell_type": "raw",
   "id": "972d8ff6",
   "metadata": {},
   "source": [
    "1.Create a function that takes a list of strings and integers, and filters out the list so that it returns a list of integers only.\n",
    "Examples:\n",
    "filter_list([1, 2, 3, \"a\", \"b\", 4]) ➞ [1, 2, 3, 4]\n",
    "filter_list([\"A\", 0, \"Edabit\", 1729, \"Python\", \"1729\"]) ➞ [0, 1729]\n",
    "filter_list([\"Nothing\", \"here\"]) ➞ []"
   ]
  },
  {
   "cell_type": "code",
   "execution_count": 2,
   "id": "a2c6c131",
   "metadata": {},
   "outputs": [
    {
     "name": "stdout",
     "output_type": "stream",
     "text": [
      "[12, 56, 8, 34]\n"
     ]
    }
   ],
   "source": [
    "def filter_list(list):\n",
    "    out = []\n",
    "    for i in list:\n",
    "        if type(i)==int:\n",
    "            out.append(i)\n",
    "    print(out)\n",
    "            \n",
    "filter_list([12,'rt',56,23.5,'poo','hi',8,'good',34])"
   ]
  },
  {
   "cell_type": "raw",
   "id": "bf379279",
   "metadata": {},
   "source": [
    "2.Given a list of numbers, create a function which returns the list but with each element's index in the list added to itself. This means you add 0 to the number at index 0, add 1 to the number at index 1, etc...\n",
    "Examples:\n",
    "add_indexes([0, 0, 0, 0, 0]) ➞ [0, 1, 2, 3, 4]\n",
    "add_indexes([1, 2, 3, 4, 5]) ➞ [1, 3, 5, 7, 9]\n",
    "add_indexes([5, 4, 3, 2, 1]) ➞ [5, 5, 5, 5, 5]"
   ]
  },
  {
   "cell_type": "code",
   "execution_count": 5,
   "id": "8ebcc6f4",
   "metadata": {},
   "outputs": [
    {
     "name": "stdout",
     "output_type": "stream",
     "text": [
      "[3, 5, 7, 9] --> [3, 6, 9, 12] \n"
     ]
    }
   ],
   "source": [
    "def add_indexes_each_element(list):\n",
    "    out = []\n",
    "    for i in range(len(list)):\n",
    "        out.append(list[i]+i)\n",
    "    print(f'{list} --> {out} ')\n",
    "    \n",
    "add_indexes_each_element([3,5,7,9])"
   ]
  },
  {
   "cell_type": "code",
   "execution_count": 6,
   "id": "7b561aaa",
   "metadata": {},
   "outputs": [
    {
     "name": "stdout",
     "output_type": "stream",
     "text": [
      "[45, 23, 56, 78] --> [45, 24, 58, 81] \n"
     ]
    }
   ],
   "source": [
    "add_indexes_each_element([45,23,56,78])"
   ]
  },
  {
   "cell_type": "raw",
   "id": "a36dabfd",
   "metadata": {},
   "source": [
    "3.Create a function that takes the height and radius of a cone as arguments and returns the volume of the cone rounded to the nearest hundredth. See the resources tab for the formula.\n",
    "Examples:\n",
    "cone_volume(3, 2) ➞ 12.57\n",
    "cone_volume(15, 6) ➞ 565.49\n",
    "cone_volume(18, 0) ➞ 0"
   ]
  },
  {
   "cell_type": "code",
   "execution_count": 7,
   "id": "6efdb8d3",
   "metadata": {},
   "outputs": [
    {
     "name": "stdout",
     "output_type": "stream",
     "text": [
      "volume of cone having radius 3 and height 8 is 75.39822368615503\n"
     ]
    }
   ],
   "source": [
    "import math\n",
    "\n",
    "def volume_of_cone(r,h):\n",
    "    vol = (math.pi)*(r*r)*h/3\n",
    "    print(f\"volume of cone having radius {r} and height {h} is {vol}\")\n",
    "\n",
    "volume_of_cone(3,8)"
   ]
  },
  {
   "cell_type": "code",
   "execution_count": 9,
   "id": "0e45a580",
   "metadata": {},
   "outputs": [
    {
     "name": "stdout",
     "output_type": "stream",
     "text": [
      "volume of cone having radius 4 and height 6 is 100.53096491487338\n"
     ]
    }
   ],
   "source": [
    "volume_of_cone(4,6)"
   ]
  },
  {
   "cell_type": "raw",
   "id": "2d54fb55",
   "metadata": {},
   "source": [
    "4.This Triangular Number Sequence is generated from a pattern of dots that form a triangle.\n",
    "The first 5 numbers of the sequence, or dots, are: 1, 3, 6, 10, 15\n",
    "This means that the first triangle has just one dot, the second one has three dots, the third one has 6 dots and so on. Write a function that gives the number of dots with its corresponding triangle number of the sequence.\n",
    "\n",
    "Examples:\n",
    "triangle(1) ➞ 1\n",
    "triangle(6) ➞ 21\n",
    "triangle(215) ➞ 23220"
   ]
  },
  {
   "cell_type": "code",
   "execution_count": 10,
   "id": "9bdd20f4",
   "metadata": {},
   "outputs": [
    {
     "name": "stdout",
     "output_type": "stream",
     "text": [
      "output --> 1.0\n",
      "output --> 21.0\n",
      "output --> 23220.0\n"
     ]
    }
   ],
   "source": [
    "def triangle(n):\n",
    "    print(f'output --> {int(n)*((n+1)/2)}')\n",
    "    \n",
    "triangle(1)\n",
    "triangle(6)\n",
    "triangle(215)"
   ]
  },
  {
   "cell_type": "raw",
   "id": "f43acf9f",
   "metadata": {},
   "source": [
    "5.Create a function that takes a list of numbers between 1 and 10 (excluding one number) and returns the missing number.\n",
    "Examples:\n",
    "missing_num([1, 2, 3, 4, 6, 7, 8, 9, 10]) ➞ 5\n",
    "missing_num([7, 2, 3, 6, 5, 9, 1, 4, 8]) ➞ 10\n",
    "missing_num([10, 5, 1, 2, 4, 6, 8, 3, 9]) ➞ 7"
   ]
  },
  {
   "cell_type": "code",
   "execution_count": 11,
   "id": "7c06ad8b",
   "metadata": {},
   "outputs": [
    {
     "name": "stdout",
     "output_type": "stream",
     "text": [
      "[1, 2, 3, 4, 6, 7, 8, 9, 10] --> 5\n"
     ]
    }
   ],
   "source": [
    "def missing_num(list):\n",
    "    for i in range(1,11):\n",
    "        if i not in list:\n",
    "            print(f'{list} --> {i}')\n",
    "            \n",
    "missing_num([1,2,3,4,6,7,8,9,10])"
   ]
  },
  {
   "cell_type": "code",
   "execution_count": 12,
   "id": "18aee625",
   "metadata": {},
   "outputs": [
    {
     "name": "stdout",
     "output_type": "stream",
     "text": [
      "[1, 3, 4, 5, 6, 7, 8, 9, 10] --> 2\n"
     ]
    }
   ],
   "source": [
    "missing_num([1,3,4,5,6,7,8,9,10])"
   ]
  }
 ],
 "metadata": {
  "kernelspec": {
   "display_name": "Python 3 (ipykernel)",
   "language": "python",
   "name": "python3"
  },
  "language_info": {
   "codemirror_mode": {
    "name": "ipython",
    "version": 3
   },
   "file_extension": ".py",
   "mimetype": "text/x-python",
   "name": "python",
   "nbconvert_exporter": "python",
   "pygments_lexer": "ipython3",
   "version": "3.10.9"
  }
 },
 "nbformat": 4,
 "nbformat_minor": 5
}
