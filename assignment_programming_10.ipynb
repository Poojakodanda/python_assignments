{
 "cells": [
  {
   "cell_type": "raw",
   "id": "36fa3ec3",
   "metadata": {},
   "source": [
    "1.Write a Python Program to find sum of elements in a list ?"
   ]
  },
  {
   "cell_type": "code",
   "execution_count": 2,
   "id": "793164a4",
   "metadata": {},
   "outputs": [
    {
     "name": "stdout",
     "output_type": "stream",
     "text": [
      "Enter the number of Entries in a list : 5\n",
      "enter a element : 23\n",
      "enter a element : 45\n",
      "enter a element : 67\n",
      "enter a element : 78\n",
      "enter a element : 89\n",
      "sum of elements : 302\n"
     ]
    }
   ],
   "source": [
    "def sum_of_list():\n",
    "    n = int(input(\"Enter the number of Entries in a list : \"))\n",
    "    list1 = []\n",
    "    for i in range(n):\n",
    "        list1.append(int(input(\"enter a element : \")))\n",
    "    print(f\"sum of elements : {sum(list1)}\")\n",
    "    \n",
    "sum_of_list()"
   ]
  },
  {
   "cell_type": "raw",
   "id": "6b9477e5",
   "metadata": {},
   "source": [
    "2.Write a Python Program to multiply all numbers in the list ?"
   ]
  },
  {
   "cell_type": "code",
   "execution_count": 4,
   "id": "9d9bd1e4",
   "metadata": {},
   "outputs": [
    {
     "name": "stdout",
     "output_type": "stream",
     "text": [
      "Enter the number of entries in a list : 5\n",
      "Enter a element : 23\n",
      "Enter a element : 34\n",
      "Enter a element : 5\n",
      "Enter a element : 6\n",
      "Enter a element : 18\n",
      "product of all the list elements is 422280\n"
     ]
    }
   ],
   "source": [
    "def mul_of_list():\n",
    "    n = int(input(\"Enter the number of entries in a list : \"))\n",
    "    list2 = []\n",
    "    for i in range(n):\n",
    "        list2.append(int(input(\"Enter a element : \")))\n",
    "    mul = 1\n",
    "    for j in list2:\n",
    "        mul = mul* j\n",
    "    print(f\"product of all the list elements is {mul}\")\n",
    "    \n",
    "mul_of_list()"
   ]
  },
  {
   "cell_type": "raw",
   "id": "0cbc31b1",
   "metadata": {},
   "source": [
    "3.Write a Python Program to find smallest number in the list ?"
   ]
  },
  {
   "cell_type": "code",
   "execution_count": 5,
   "id": "4384a2c6",
   "metadata": {},
   "outputs": [
    {
     "name": "stdout",
     "output_type": "stream",
     "text": [
      "Enter the number of element in a list : 5\n",
      "Enter a Element : 34\n",
      "Enter a Element : 56\n",
      "Enter a Element : 78\n",
      "Enter a Element : 23\n",
      "Enter a Element : 48\n",
      "the smallest element in [34, 56, 78, 23, 48] is 23\n"
     ]
    }
   ],
   "source": [
    "def smallest_num():\n",
    "    n = int(input(\"Enter the number of element in a list : \"))\n",
    "    list3 = []\n",
    "    for i in range(n):\n",
    "        list3.append(int(input(\"Enter a Element : \")))\n",
    "    print(f\"the smallest element in {list3} is {sorted(list3)[0]}\")\n",
    "\n",
    "smallest_num()"
   ]
  },
  {
   "cell_type": "raw",
   "id": "d5368c39",
   "metadata": {},
   "source": [
    "4.Write a Python Program to find largest number in the list ?"
   ]
  },
  {
   "cell_type": "code",
   "execution_count": 7,
   "id": "5fb34e09",
   "metadata": {},
   "outputs": [
    {
     "name": "stdout",
     "output_type": "stream",
     "text": [
      "Enter the number elements into the list : 5\n",
      "enter a element : 34\n",
      "enter a element : 56\n",
      "enter a element : 89\n",
      "enter a element : 24\n",
      "enter a element : 56\n",
      "The largest element of list [34, 56, 89, 24, 56] is 89\n"
     ]
    }
   ],
   "source": [
    "def largest_num():\n",
    "    n = int(input(\"Enter the number elements into the list : \"))\n",
    "    list4 =[]\n",
    "    for i in range(n):\n",
    "        list4.append(int(input(\"enter a element : \")))\n",
    "    print(f\"The largest element of list {list4} is {sorted(list4)[-1]}\")\n",
    "\n",
    "largest_num()"
   ]
  },
  {
   "cell_type": "raw",
   "id": "bcf53db4",
   "metadata": {},
   "source": [
    "5.Write a Python Program to find second largest number in the list ?"
   ]
  },
  {
   "cell_type": "code",
   "execution_count": 10,
   "id": "14b564e9",
   "metadata": {},
   "outputs": [
    {
     "name": "stdout",
     "output_type": "stream",
     "text": [
      "Enter the number of elements in alist  : 5\n",
      "enter a element23\n",
      "enter a element56\n",
      "enter a element78\n",
      "enter a element90\n",
      "enter a element34\n",
      "The second largest element int the list [23, 56, 78, 90, 34] is 78\n"
     ]
    }
   ],
   "source": [
    "def second_largest_num():\n",
    "    n = int(input(\"Enter the number of elements in alist  : \"))\n",
    "    list5 = []\n",
    "    for i in range(n):\n",
    "        list5.append(int(input(\"enter a element\")))\n",
    "    print(f\"The second largest element int the list {list5} is {sorted(list5)[-2]}\")\n",
    "\n",
    "second_largest_num()"
   ]
  },
  {
   "cell_type": "raw",
   "id": "d0a9a0de",
   "metadata": {},
   "source": [
    "6.Write a Python Program to find N largest elements in the list ?"
   ]
  },
  {
   "cell_type": "code",
   "execution_count": 1,
   "id": "30fdbabe",
   "metadata": {},
   "outputs": [
    {
     "name": "stdout",
     "output_type": "stream",
     "text": [
      "Enter the number of elements in a list : 6\n",
      "Enter the which nth largest element need to found : 3\n",
      "Enter a element23\n",
      "Enter a element34\n",
      "Enter a element45\n",
      "Enter a element56\n",
      "Enter a element67\n",
      "Enter a element7\n",
      "The 3th largest element of the given list [23, 34, 45, 56, 67, 7] is 45\n"
     ]
    }
   ],
   "source": [
    "def n_largest_element():\n",
    "    m = int(input(\"Enter the number of elements in a list : \"))\n",
    "    list6 = []\n",
    "    n = int(input(\"Enter the which nth largest element need to found : \"))\n",
    "    for i in range(m):\n",
    "        list6.append(int(input(\"Enter a element\")))\n",
    "    print(f\"The {n}th largest element of the given list {list6} is {sorted(list6)[-n]}\")\n",
    "    \n",
    "n_largest_element()"
   ]
  },
  {
   "cell_type": "raw",
   "id": "832208b9",
   "metadata": {},
   "source": [
    "7.Write a Python Program to find even numbers in the list ?"
   ]
  },
  {
   "cell_type": "code",
   "execution_count": 3,
   "id": "eb5983e6",
   "metadata": {},
   "outputs": [
    {
     "name": "stdout",
     "output_type": "stream",
     "text": [
      "Enter the number of elements in a list : 6\n",
      "Enter the elements : 34\n",
      "Enter the elements : 56\n",
      "Enter the elements : 67\n",
      "Enter the elements : 79\n",
      "Enter the elements : 21\n",
      "Enter the elements : 42\n",
      "The even elements in the list [34, 56, 67, 79, 21, 42] is [34, 56, 42]\n"
     ]
    }
   ],
   "source": [
    "def even_num_in_list():\n",
    "    n = int(input(\"Enter the number of elements in a list : \"))\n",
    "    list7 = []\n",
    "    even_list = []\n",
    "    for i in range(n):\n",
    "        list7.append(int(input(\"Enter the elements : \")))\n",
    "    for i in list7:\n",
    "        if i%2 == 0:\n",
    "            even_list.append(i)\n",
    "    print(f\"The even elements in the list {list7} is {even_list}\")\n",
    "    \n",
    "even_num_in_list()"
   ]
  },
  {
   "cell_type": "raw",
   "id": "78f9f9fd",
   "metadata": {},
   "source": [
    "8.Write a Python Program to find odd numbers in the list ?"
   ]
  },
  {
   "cell_type": "code",
   "execution_count": 6,
   "id": "d0047005",
   "metadata": {},
   "outputs": [
    {
     "name": "stdout",
     "output_type": "stream",
     "text": [
      "Enter the number of elements in a list : 6\n",
      "Enter the elements : 23\n",
      "Enter the elements : 35\n",
      "Enter the elements : 44\n",
      "Enter the elements : 56\n",
      "Enter the elements : 78\n",
      "Enter the elements : 91\n",
      "The odd elements in the list [23, 35, 44, 56, 78, 91] is [23, 35, 91]\n"
     ]
    }
   ],
   "source": [
    "def odd_num_in_list():\n",
    "    n = int(input(\"Enter the number of elements in a list : \"))\n",
    "    list8 = []\n",
    "    odd_list = []\n",
    "    for i in range(n):\n",
    "        list8.append(int(input(\"Enter the elements : \")))\n",
    "    for i in list8:\n",
    "        if i%2 != 0:\n",
    "            odd_list.append(i)\n",
    "    print(f\"The odd elements in the list {list8} is {odd_list}\")\n",
    "    \n",
    "odd_num_in_list()"
   ]
  },
  {
   "cell_type": "raw",
   "id": "4de1799a",
   "metadata": {},
   "source": [
    "9.Write a Python Program to remove empty list from list ?"
   ]
  },
  {
   "cell_type": "code",
   "execution_count": 7,
   "id": "cfca441e",
   "metadata": {},
   "outputs": [
    {
     "name": "stdout",
     "output_type": "stream",
     "text": [
      "Enter all elements of the list : [23,34,56.3,[],5678,[567,341.4],\"hi\",5]\n",
      "There is an empty list in [23, 34, 56.3, [], 5678, [567, 341.4], 'hi', 5] at position 3\n",
      "The list after removing [] is [23, 34, 56.3, 5678, [567, 341.4], 'hi', 5]\n"
     ]
    }
   ],
   "source": [
    "def remove_empty_list():\n",
    "    list9 = eval(input(\"Enter all elements of the list : \"))\n",
    "    if [] in list9:\n",
    "        print(f\"There is an empty list in {list9} at position {list9.index([])}\")\n",
    "        list9.remove([])\n",
    "        print(f\"The list after removing [] is {list9}\")\n",
    "    else:\n",
    "        print(f\"There is no [] list in the list {list9}\")\n",
    "        \n",
    "remove_empty_list()"
   ]
  },
  {
   "cell_type": "raw",
   "id": "19c42c23",
   "metadata": {},
   "source": [
    "10.Write a Python Program to Cloning or Copying a list ?"
   ]
  },
  {
   "cell_type": "code",
   "execution_count": 9,
   "id": "dd0125c9",
   "metadata": {},
   "outputs": [
    {
     "name": "stdout",
     "output_type": "stream",
     "text": [
      "Enter a list : [34,45,567.78,\"kjegf\",23]\n",
      " list : [34, 45, 567.78, 'kjegf', 23] ,  : ID : 2181722048448 \n",
      "cloned list : [34, 45, 567.78, 'kjegf', 23] , ID : 2181721671360\n"
     ]
    }
   ],
   "source": [
    "import copy\n",
    "\n",
    "def cloning_list():\n",
    "    list10 = eval(input(\"Enter a list : \"))\n",
    "    print(f\" list : {list10} ,  : ID : {id(list10)} \")\n",
    "    cloned_list = list10.copy()\n",
    "    print(f\"cloned list : {cloned_list} , ID : {id(cloned_list)}\")\n",
    "    \n",
    "cloning_list()"
   ]
  },
  {
   "cell_type": "raw",
   "id": "e9bd968d",
   "metadata": {},
   "source": [
    "11.Write a Python Program to count occurences of an element in a list ?"
   ]
  },
  {
   "cell_type": "code",
   "execution_count": 10,
   "id": "3a023b35",
   "metadata": {},
   "outputs": [
    {
     "name": "stdout",
     "output_type": "stream",
     "text": [
      "Enter the elements of the list : [23,3,56.7,78,\"sjfh\",34,3]\n",
      "enter the element to be find : 3\n",
      "There are 2 occurences of 3 in [23, 3, 56.7, 78, 'sjfh', 34, 3]\n"
     ]
    }
   ],
   "source": [
    "def count_occurence():\n",
    "    list11 = eval(input(\"Enter the elements of the list : \"))\n",
    "    n = eval(input(\"enter the element to be find : \"))\n",
    "    count = 0\n",
    "    if n in list11:\n",
    "        for i in list11:\n",
    "            if i==n:\n",
    "                count = count+1\n",
    "    print(f\"There are {count} occurences of {n} in {list11}\")\n",
    "    \n",
    "count_occurence()"
   ]
  }
 ],
 "metadata": {
  "kernelspec": {
   "display_name": "Python 3 (ipykernel)",
   "language": "python",
   "name": "python3"
  },
  "language_info": {
   "codemirror_mode": {
    "name": "ipython",
    "version": 3
   },
   "file_extension": ".py",
   "mimetype": "text/x-python",
   "name": "python",
   "nbconvert_exporter": "python",
   "pygments_lexer": "ipython3",
   "version": "3.10.9"
  }
 },
 "nbformat": 4,
 "nbformat_minor": 5
}
