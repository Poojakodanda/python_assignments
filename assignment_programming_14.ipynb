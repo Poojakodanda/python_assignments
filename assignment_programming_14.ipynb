{
 "cells": [
  {
   "cell_type": "raw",
   "id": "750a7e50",
   "metadata": {},
   "source": [
    "1.Define a class with a generator which can iterate the numbers, which are divisible by 7, between a given range 0 and n. ?"
   ]
  },
  {
   "cell_type": "code",
   "execution_count": 1,
   "id": "9bfa6f2a",
   "metadata": {},
   "outputs": [
    {
     "name": "stdout",
     "output_type": "stream",
     "text": [
      "[0, 7, 14, 21, 28, 35, 42, 49, 56, 63, 70, 77, 84, 91, 98, 105, 112, 119, 126, 133, 140, 147, 154, 161, 168, 175, 182, 189, 196, 203, 210, 217, 224, 231, 238, 245, 252, 259, 266, 273, 280, 287, 294]\n"
     ]
    }
   ],
   "source": [
    "class gen_div_7:\n",
    "    def __init__(self,num):\n",
    "        self.num = num\n",
    "    def get_numbers(self):\n",
    "        l = []\n",
    "        for i in range(0, self.num+1):\n",
    "            if i%7 == 0:\n",
    "                l.append(i)\n",
    "        print(l)\n",
    "                \n",
    "output = gen_div_7(300)\n",
    "output.get_numbers()\n",
    "        "
   ]
  },
  {
   "cell_type": "raw",
   "id": "8ba10893",
   "metadata": {},
   "source": [
    "2.Write a program to compute the frequency of the words from the input. The output should output after sorting the key alphanumerically.\n",
    "Suppose the following input is supplied to the program:\n",
    "New to Python or choosing between Python 2 and Python 3? Read Python 2 or Python 3.\n",
    "Then, the output should be:\n",
    "2:2 3.:1 3?:1 New:1 Python:5 Read:1 and:1 between:1 choosing:1 or:2 to:1"
   ]
  },
  {
   "cell_type": "code",
   "execution_count": 2,
   "id": "c26ab3f5",
   "metadata": {},
   "outputs": [
    {
     "name": "stdout",
     "output_type": "stream",
     "text": [
      "Enter the input string : hi good morning. how is your day. when are going to native, its already 5th today\n",
      "5th:1 already:1 are:1 day.:1 going:1 good:1 hi:1 how:1 is:1 its:1 morning.:1 native,:1 to:1 today:1 when:1 your:1 "
     ]
    }
   ],
   "source": [
    "def check_frequency():\n",
    "    string = input(\"Enter the input string : \")\n",
    "    frequency = {}\n",
    "    for i in string.split(\" \"):\n",
    "        if(frequency.get(i) == None):\n",
    "            frequency[i] = 1\n",
    "        else:\n",
    "            frequency[i] = frequency[i]+1\n",
    "    for i in sorted(frequency):\n",
    "        print(f'{i}:{frequency[i]}', end = \" \")\n",
    "        \n",
    "check_frequency()"
   ]
  },
  {
   "cell_type": "raw",
   "id": "7d716c9b",
   "metadata": {},
   "source": [
    "3.Define a class Person and its two child classes: Male and Female. All classes have a method \"getGender\" which can print \"Male\" for Male class and \"Female\" for Female class. ?\n",
    "cl"
   ]
  },
  {
   "cell_type": "code",
   "execution_count": 3,
   "id": "0f861f90",
   "metadata": {},
   "outputs": [
    {
     "name": "stdout",
     "output_type": "stream",
     "text": [
      "Male\n",
      "Female\n"
     ]
    }
   ],
   "source": [
    "class Person():\n",
    "    def getGender():\n",
    "        pass\n",
    "    \n",
    "class Male(Person):\n",
    "    def getGender():\n",
    "        print(\"Male\")\n",
    "        \n",
    "class Female(Person):\n",
    "    def getGender():\n",
    "        print('Female')\n",
    "        \n",
    "Male.getGender()\n",
    "Female.getGender()"
   ]
  },
  {
   "cell_type": "raw",
   "id": "c018d56a",
   "metadata": {},
   "source": [
    "4.Please write a program to generate all sentences where subject is in [\"I\", \"You\"] and verb is in [\"Play\", \"Love\"] and the object is in [\"Hockey\",\"Football\"] ?"
   ]
  },
  {
   "cell_type": "code",
   "execution_count": 5,
   "id": "47ccb0d4",
   "metadata": {},
   "outputs": [
    {
     "name": "stdout",
     "output_type": "stream",
     "text": [
      "I play Hockey\n",
      "I play Football\n",
      "I love Hockey\n",
      "I love Football\n",
      "You play Hockey\n",
      "You play Football\n",
      "You love Hockey\n",
      "You love Football\n"
     ]
    }
   ],
   "source": [
    "def generate_sentences():\n",
    "    subject = ['I','You']\n",
    "    verb = ['play', 'love']\n",
    "    object = ['Hockey', 'Football']\n",
    "    for i in subject:\n",
    "        for j in verb:\n",
    "            for k in object:\n",
    "                print(f'{i} {j} {k}')\n",
    "                \n",
    "generate_sentences()"
   ]
  },
  {
   "cell_type": "raw",
   "id": "7930a8f5",
   "metadata": {},
   "source": [
    "5.Please write a program to compress and decompress the string \"hello world!hello world!hello world!hello world!\" ?"
   ]
  },
  {
   "cell_type": "code",
   "execution_count": 16,
   "id": "cd3f97b9",
   "metadata": {
    "scrolled": true
   },
   "outputs": [
    {
     "name": "stdout",
     "output_type": "stream",
     "text": [
      "b'x\\x9c+\\xc9\\xc8,V(.)\\xca\\xccKW\\xc8KMM)VH\\xce\\xcf-(J-.\\x06\\x8a\\x00\\x00\\xa8\\xe5\\x0bi'\n"
     ]
    }
   ],
   "source": [
    "import zlib\n",
    "\n",
    "a = \"this string needs compressing\"\n",
    "a = zlib.compress(a.encode())\n",
    "print(a)"
   ]
  },
  {
   "cell_type": "code",
   "execution_count": 9,
   "id": "04d8eb69",
   "metadata": {},
   "outputs": [
    {
     "name": "stdout",
     "output_type": "stream",
     "text": [
      "this string needs compressing\n"
     ]
    }
   ],
   "source": [
    "print(zlib.decompress(a).decode()) "
   ]
  },
  {
   "cell_type": "code",
   "execution_count": 18,
   "id": "f478d9ae",
   "metadata": {},
   "outputs": [
    {
     "name": "stdout",
     "output_type": "stream",
     "text": [
      "b'x\\x9c\\xcbH\\xcd\\xc9\\xc9W(\\xcf/\\xcaIQ\\xcc \\x82\\r\\x00\\xbd[\\x11\\xf5'\n"
     ]
    }
   ],
   "source": [
    "import zlib\n",
    "\n",
    "b = \"hello world!hello world!hello world!hello world!\"\n",
    "b = zlib.compress(b.encode())\n",
    "print(b)"
   ]
  },
  {
   "cell_type": "code",
   "execution_count": 19,
   "id": "3033d204",
   "metadata": {},
   "outputs": [
    {
     "name": "stdout",
     "output_type": "stream",
     "text": [
      "hello world!hello world!hello world!hello world!\n"
     ]
    }
   ],
   "source": [
    "print(zlib.decompress(b).decode())"
   ]
  },
  {
   "cell_type": "raw",
   "id": "b475d999",
   "metadata": {},
   "source": [
    "6.Please write a binary search function which searches an item in a sorted list. The function should return the index of element to be searched in the list ?"
   ]
  },
  {
   "cell_type": "code",
   "execution_count": 40,
   "id": "ac4852c7",
   "metadata": {},
   "outputs": [
    {
     "name": "stdout",
     "output_type": "stream",
     "text": [
      "45 is present at 2\n"
     ]
    }
   ],
   "source": [
    "sorted_list = [23,34,45,5,56,2,3,34,46,23,12,874]\n",
    "def binary_search(list1, n):\n",
    "    if (n) in sorted_list:\n",
    "        print(f\"{n} is present at {sorted_list.index(n)}\")\n",
    "    else:\n",
    "        print(\"Input Element not in list\")\n",
    "\n",
    "binary_search(sorted_list, 45)\n",
    "        "
   ]
  },
  {
   "cell_type": "code",
   "execution_count": 41,
   "id": "765aee52",
   "metadata": {},
   "outputs": [
    {
     "name": "stdout",
     "output_type": "stream",
     "text": [
      "46 is present at 8\n"
     ]
    }
   ],
   "source": [
    "binary_search(sorted_list, 46)"
   ]
  },
  {
   "cell_type": "code",
   "execution_count": null,
   "id": "d3a7de1f",
   "metadata": {},
   "outputs": [],
   "source": []
  }
 ],
 "metadata": {
  "kernelspec": {
   "display_name": "Python 3 (ipykernel)",
   "language": "python",
   "name": "python3"
  },
  "language_info": {
   "codemirror_mode": {
    "name": "ipython",
    "version": 3
   },
   "file_extension": ".py",
   "mimetype": "text/x-python",
   "name": "python",
   "nbconvert_exporter": "python",
   "pygments_lexer": "ipython3",
   "version": "3.10.9"
  }
 },
 "nbformat": 4,
 "nbformat_minor": 5
}
