{
 "cells": [
  {
   "cell_type": "raw",
   "id": "c6773603",
   "metadata": {},
   "source": [
    "1.Write a Python program to print 'Hello Python' ?"
   ]
  },
  {
   "cell_type": "code",
   "execution_count": 1,
   "id": "407f57cd",
   "metadata": {},
   "outputs": [
    {
     "name": "stdout",
     "output_type": "stream",
     "text": [
      "Hello python\n"
     ]
    }
   ],
   "source": [
    "print('Hello python')"
   ]
  },
  {
   "cell_type": "raw",
   "id": "94dba32e",
   "metadata": {},
   "source": [
    "2.Write a Python program to do arithmetic operations addition and division ?"
   ]
  },
  {
   "cell_type": "code",
   "execution_count": 2,
   "id": "a0439b4e",
   "metadata": {},
   "outputs": [
    {
     "name": "stdout",
     "output_type": "stream",
     "text": [
      "Enter which arithmetic operation need to be perform, Addition, Subtraction, Multiplication, Division :Addition\n",
      "Enter a first number4\n",
      "Enter a second number5\n",
      "9\n"
     ]
    }
   ],
   "source": [
    "operation=input(\"Enter which arithmetic operation need to be perform, Addition, Subtraction, Multiplication, Division :\" )\n",
    "a = int(input(\"Enter a first number\"))\n",
    "b = int(input(\"Enter a second number\"))\n",
    "if operation == 'Addition':\n",
    "    print(a+b)\n",
    "elif operation == 'subtraction':\n",
    "    print(a-b)\n",
    "elif operation == 'Multiplication':\n",
    "    print(a*b)\n",
    "elif operation == 'Division':\n",
    "    print(a/b)"
   ]
  },
  {
   "cell_type": "code",
   "execution_count": 2,
   "id": "c722bd38",
   "metadata": {},
   "outputs": [
    {
     "name": "stdout",
     "output_type": "stream",
     "text": [
      "Enter which arithmetic operation need to be perform, Addition, Subtraction, Multiplication, Division :Multiplication\n",
      "Enter a first number3\n",
      "Enter a second number4\n",
      "12\n"
     ]
    }
   ],
   "source": [
    "operation=input(\"Enter which arithmetic operation need to be perform, Addition, Subtraction, Multiplication, Division :\" )\n",
    "a = int(input(\"Enter a first number\"))\n",
    "b = int(input(\"Enter a second number\"))\n",
    "if operation == 'Addition':\n",
    "    print(a+b)\n",
    "elif operation == 'subtraction':\n",
    "    print(a-b)\n",
    "elif operation == 'Multiplication':\n",
    "    print(a*b)\n",
    "elif operation == 'Division':\n",
    "    print(a/b)"
   ]
  },
  {
   "cell_type": "code",
   "execution_count": 3,
   "id": "9dc86c87",
   "metadata": {},
   "outputs": [
    {
     "name": "stdout",
     "output_type": "stream",
     "text": [
      "Enter which arithmetic operation need to be perform, Addition, Subtraction, Multiplication, Division :Division\n",
      "Enter a first number3\n",
      "Enter a second number2\n",
      "1.5\n"
     ]
    }
   ],
   "source": [
    "operation=input(\"Enter which arithmetic operation need to be perform, Addition, Subtraction, Multiplication, Division :\" )\n",
    "a = int(input(\"Enter a first number\"))\n",
    "b = int(input(\"Enter a second number\"))\n",
    "if operation == 'Addition':\n",
    "    print(a+b)\n",
    "elif operation == 'subtraction':\n",
    "    print(a-b)\n",
    "elif operation == 'Multiplication':\n",
    "    print(a*b)\n",
    "elif operation == 'Division':\n",
    "    print(a/b)"
   ]
  },
  {
   "cell_type": "raw",
   "id": "9fe5b6cb",
   "metadata": {},
   "source": [
    "3.Write a Python program to find the area of a triangle ?"
   ]
  },
  {
   "cell_type": "code",
   "execution_count": 5,
   "id": "984e8fc3",
   "metadata": {},
   "outputs": [
    {
     "name": "stdout",
     "output_type": "stream",
     "text": [
      "Enter height of triangle :7\n",
      "Enter base of triangle : 8\n",
      "Area of triangle :  28.0\n"
     ]
    }
   ],
   "source": [
    "height=int(input(\"Enter height of triangle :\"))\n",
    "base = int(input(\"Enter base of triangle : \"))\n",
    "\n",
    "print(\"Area of triangle : \", 1/2*(height*base))"
   ]
  },
  {
   "cell_type": "raw",
   "id": "a67d4449",
   "metadata": {},
   "source": [
    "4.Write a Python program to swap two variables ?"
   ]
  },
  {
   "cell_type": "code",
   "execution_count": 6,
   "id": "991e22c2",
   "metadata": {},
   "outputs": [
    {
     "name": "stdout",
     "output_type": "stream",
     "text": [
      "Enter first number : 5\n",
      "Enter second number : 10\n",
      " Numbers before swaping first number : 5, second number : 10\n",
      " Numbers after swaping fisrst number : 10, second number : 5\n"
     ]
    }
   ],
   "source": [
    "num1 = int(input(\"Enter first number : \"))\n",
    "num2 = int(input(\"Enter second number : \"))\n",
    "\n",
    "print(f\" Numbers before swaping first number : {num1}, second number : {num2}\")\n",
    "temp = num1\n",
    "num1=num2\n",
    "num2=temp\n",
    "print(f\" Numbers after swaping fisrst number : {num1}, second number : {num2}\")"
   ]
  },
  {
   "cell_type": "raw",
   "id": "88e87b28",
   "metadata": {},
   "source": [
    "5.Write a Python program to generate a random number ?"
   ]
  },
  {
   "cell_type": "code",
   "execution_count": 8,
   "id": "75d15bbb",
   "metadata": {},
   "outputs": [
    {
     "data": {
      "text/plain": [
       "2"
      ]
     },
     "execution_count": 8,
     "metadata": {},
     "output_type": "execute_result"
    }
   ],
   "source": [
    "import numpy as np\n",
    "np.random.randint(1,10)"
   ]
  },
  {
   "cell_type": "code",
   "execution_count": 11,
   "id": "af03adf8",
   "metadata": {},
   "outputs": [
    {
     "name": "stdout",
     "output_type": "stream",
     "text": [
      "2\n"
     ]
    }
   ],
   "source": [
    "import numpy as np\n",
    " \n",
    "def random_num(start,end):\n",
    "    print(np.random.randint(start,end))\n",
    "    \n",
    "random_num(1,10)"
   ]
  },
  {
   "cell_type": "code",
   "execution_count": 12,
   "id": "7350f40e",
   "metadata": {},
   "outputs": [
    {
     "name": "stdout",
     "output_type": "stream",
     "text": [
      "28\n"
     ]
    }
   ],
   "source": [
    "random_num(20,30)"
   ]
  },
  {
   "cell_type": "code",
   "execution_count": null,
   "id": "37841d4b",
   "metadata": {},
   "outputs": [],
   "source": []
  }
 ],
 "metadata": {
  "kernelspec": {
   "display_name": "Python 3 (ipykernel)",
   "language": "python",
   "name": "python3"
  },
  "language_info": {
   "codemirror_mode": {
    "name": "ipython",
    "version": 3
   },
   "file_extension": ".py",
   "mimetype": "text/x-python",
   "name": "python",
   "nbconvert_exporter": "python",
   "pygments_lexer": "ipython3",
   "version": "3.10.9"
  }
 },
 "nbformat": 4,
 "nbformat_minor": 5
}
