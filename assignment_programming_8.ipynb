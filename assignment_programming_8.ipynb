{
 "cells": [
  {
   "cell_type": "raw",
   "id": "107f0a83",
   "metadata": {},
   "source": [
    "1. Write a Python Program to Add two Matrices ?"
   ]
  },
  {
   "cell_type": "code",
   "execution_count": 4,
   "id": "e80cac7b",
   "metadata": {},
   "outputs": [
    {
     "name": "stdout",
     "output_type": "stream",
     "text": [
      "Input are : [[1, 2, 3, 4], [2, 3, 4, 5], [3, 4, 5, 6]] , [[5, 6, 7, 8], [6, 7, 8, 9], [3, 4, 5, 6]]\n",
      "Output : [[6, 8, 10, 12], [8, 10, 12, 14], [6, 8, 10, 12]]\n"
     ]
    }
   ],
   "source": [
    "def add_matrices(a,b):\n",
    "    print(f\"Input are : {a} , {b}\")\n",
    "    if len(a) == len(b):\n",
    "        out_matrix = []\n",
    "        for i in range(len(a)):\n",
    "            if len(a[i]) == len(b[i]):\n",
    "                out_matrix.append([])\n",
    "                for j in range(len(a[i])):\n",
    "                    out_matrix[i].append(a[i][j]+b[i][j])\n",
    "            else:\n",
    "                print(\"Both matrices must contains same number of rows and columns\")\n",
    "    else:\n",
    "        print(\"Both matrices must contains same number of rows and columns\")\n",
    "    print(f\"Output : {out_matrix}\")\n",
    "    \n",
    "\n",
    "add_matrices([[1,2,3,4],[2,3,4,5],[3,4,5,6]],[[5,6,7,8],[6,7,8,9],[3,4,5,6]])"
   ]
  },
  {
   "cell_type": "raw",
   "id": "ebe57511",
   "metadata": {},
   "source": [
    "2. Write a Python Program to Multiply two Matrices ?"
   ]
  },
  {
   "cell_type": "code",
   "execution_count": 7,
   "id": "68822786",
   "metadata": {},
   "outputs": [
    {
     "name": "stdout",
     "output_type": "stream",
     "text": [
      "[[19, 42, 59], [31, 70, 95], [33, 70, 105]]\n"
     ]
    }
   ],
   "source": [
    "a= [[2,3,4],[4,5,6],[2,5,8]]\n",
    "b=[[1,4,2],[3,6,9],[2,4,7]]\n",
    "\n",
    "def multiply_matrice(a,b):\n",
    "    output = []\n",
    "    if len(a[0]) == len(b):\n",
    "        for x in range(len(a[0])):\n",
    "            output.append([0 for y in range(len(b[0]))])\n",
    "        for i in range(len(a)):\n",
    "            for j in range(len(b[0])):\n",
    "                for k in range(len(b)):\n",
    "                    output[i][j] = output[i][j] + a[i][k]*b[k][j]\n",
    "        print(output)\n",
    "    else:\n",
    "        print(\"Matrix multiplication is not possible\")\n",
    "        \n",
    "multiply_matrice(a,b)"
   ]
  },
  {
   "cell_type": "raw",
   "id": "1bdc90b6",
   "metadata": {},
   "source": [
    "3. Write a Python Program to transpose a Matrix ?"
   ]
  },
  {
   "cell_type": "code",
   "execution_count": 8,
   "id": "dcac2cd9",
   "metadata": {},
   "outputs": [
    {
     "name": "stdout",
     "output_type": "stream",
     "text": [
      "[[2 3 4]\n",
      " [5 7 9]\n",
      " [1 6 3]] matrix transpose is [[2, 5, 1], [3, 7, 6], [4, 9, 3]]\n"
     ]
    }
   ],
   "source": [
    "import numpy as np\n",
    "\n",
    "def gen_transpose(matrix):\n",
    "    out_matrix = []\n",
    "    for x in range(len(matrix[0])):\n",
    "        out_matrix.append([0 for y in range(len(matrix)) ])\n",
    "    for i in range(len(matrix)):\n",
    "        for j in range(len(matrix[0])):\n",
    "            out_matrix[i][j] = matrix[j][i]\n",
    "    print(f\"{matrix} matrix transpose is {out_matrix}\")\n",
    "    \n",
    "gen_transpose(np.array([[2,3,4],[5,7,9],[1,6,3]]))"
   ]
  },
  {
   "cell_type": "raw",
   "id": "dead79e7",
   "metadata": {},
   "source": [
    "4. Write a Python Program to sort Words in an Alphabatical Order ?"
   ]
  },
  {
   "cell_type": "code",
   "execution_count": 13,
   "id": "1e51d629",
   "metadata": {},
   "outputs": [
    {
     "name": "stdout",
     "output_type": "stream",
     "text": [
      "Enter a string : charvee\n",
      "['a', 'c', 'e', 'e', 'h', 'r', 'v']\n",
      "aceehrv\n"
     ]
    }
   ],
   "source": [
    "def  sortstr():\n",
    "    string = input(\"Enter a string : \")\n",
    "    sorted_string = sorted(string)\n",
    "    print(sorted_string)\n",
    "    final = \"\".join(sorted_string)\n",
    "    print(final)\n",
    "    \n",
    "sortstr()"
   ]
  },
  {
   "cell_type": "raw",
   "id": "f76c2c6f",
   "metadata": {},
   "source": [
    "5. Write a Python Program to remove Punctuations From a String ?"
   ]
  },
  {
   "cell_type": "code",
   "execution_count": 15,
   "id": "ac1af9d7",
   "metadata": {},
   "outputs": [
    {
     "name": "stdout",
     "output_type": "stream",
     "text": [
      "Enter a string :kjdhkj&jegdfs$sdj^kjdgfh@jhgdehj!med\n",
      " kjdhkjjegdfssdjkjdgfhjhgdehjmed\n"
     ]
    }
   ],
   "source": [
    "def removing_punctuations():\n",
    "    punctuation = '''!@#$%^&*(){}[],.<>_+=~`'\":;'''\n",
    "    string = input(\"Enter a string :\")\n",
    "    output_string = \" \"\n",
    "    for i in string:\n",
    "        if i not in punctuation:\n",
    "            output_string = output_string+i\n",
    "    print(output_string)\n",
    "    \n",
    "removing_punctuations()"
   ]
  }
 ],
 "metadata": {
  "kernelspec": {
   "display_name": "Python 3 (ipykernel)",
   "language": "python",
   "name": "python3"
  },
  "language_info": {
   "codemirror_mode": {
    "name": "ipython",
    "version": 3
   },
   "file_extension": ".py",
   "mimetype": "text/x-python",
   "name": "python",
   "nbconvert_exporter": "python",
   "pygments_lexer": "ipython3",
   "version": "3.10.9"
  }
 },
 "nbformat": 4,
 "nbformat_minor": 5
}
