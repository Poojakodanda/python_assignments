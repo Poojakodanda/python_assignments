{
 "cells": [
  {
   "cell_type": "raw",
   "id": "5921f4b7",
   "metadata": {},
   "source": [
    "1. Write a Python Program to find LCM ?"
   ]
  },
  {
   "cell_type": "code",
   "execution_count": 4,
   "id": "56093bcb",
   "metadata": {},
   "outputs": [
    {
     "name": "stdout",
     "output_type": "stream",
     "text": [
      "LCM of 3 and 7 is 21\n"
     ]
    }
   ],
   "source": [
    "def lcm(n1,n2):\n",
    "    if n1>n2:\n",
    "        greater = n1\n",
    "    else:\n",
    "        greater = n2\n",
    "    while True:\n",
    "        if ((greater%n1==0) and (greater%n2==0)):\n",
    "            break\n",
    "        else:\n",
    "            greater = greater+1\n",
    "    print(f\"LCM of {n1} and {n2} is {greater}\")\n",
    "\n",
    "lcm(3,7)"
   ]
  },
  {
   "cell_type": "code",
   "execution_count": 7,
   "id": "6d3a232e",
   "metadata": {},
   "outputs": [
    {
     "name": "stdout",
     "output_type": "stream",
     "text": [
      "LCM of 34 and 56 is 952\n"
     ]
    }
   ],
   "source": [
    "lcm(34,56)"
   ]
  },
  {
   "cell_type": "code",
   "execution_count": 6,
   "id": "2f3ece9b",
   "metadata": {},
   "outputs": [
    {
     "name": "stdout",
     "output_type": "stream",
     "text": [
      "LCM of 3 and 6 is 6\n"
     ]
    }
   ],
   "source": [
    "lcm(3,6)"
   ]
  },
  {
   "cell_type": "raw",
   "id": "49d3db0f",
   "metadata": {},
   "source": [
    "2. Write a Python Program to find HCF ?"
   ]
  },
  {
   "cell_type": "code",
   "execution_count": 8,
   "id": "9fc04012",
   "metadata": {},
   "outputs": [
    {
     "name": "stdout",
     "output_type": "stream",
     "text": [
      "the HCF of 5 and 10 is 5\n"
     ]
    }
   ],
   "source": [
    "def hcf(n1,n2):\n",
    "    if n1>n2:\n",
    "        smaller = n2\n",
    "    else:\n",
    "        smaller = n1\n",
    "    for i in range(1,smaller+1):\n",
    "        if ((n1%i == 0) and (n2%i ==0)):\n",
    "            hcf = i\n",
    "    print(f\"the HCF of {n1} and {n2} is {hcf}\")\n",
    "    \n",
    "hcf(5,10)\n"
   ]
  },
  {
   "cell_type": "code",
   "execution_count": 10,
   "id": "29e25e98",
   "metadata": {},
   "outputs": [
    {
     "name": "stdout",
     "output_type": "stream",
     "text": [
      "the HCF of 25 and 15 is 5\n"
     ]
    }
   ],
   "source": [
    "hcf(25,15)"
   ]
  },
  {
   "cell_type": "code",
   "execution_count": 11,
   "id": "078b59c7",
   "metadata": {},
   "outputs": [
    {
     "name": "stdout",
     "output_type": "stream",
     "text": [
      "the HCF of 36 and 20 is 4\n"
     ]
    }
   ],
   "source": [
    "hcf(36,20)"
   ]
  },
  {
   "cell_type": "raw",
   "id": "b2956bc7",
   "metadata": {},
   "source": [
    "3. Write a Python Program to Convert Decimal to Binary, Octal and Hexadecimal ?"
   ]
  },
  {
   "cell_type": "code",
   "execution_count": 13,
   "id": "9c4dacdb",
   "metadata": {},
   "outputs": [
    {
     "name": "stdout",
     "output_type": "stream",
     "text": [
      "enter a number : 6\n",
      "Binary Number : 0b110\n",
      "Octal NUmber : 0o6\n",
      "Hexadecimal Number : 0x6\n"
     ]
    }
   ],
   "source": [
    "def decimal_other():\n",
    "    n = int(input(\"enter a number : \"))\n",
    "    print(f\"Binary Number : {bin(n)}\")\n",
    "    print(f\"Octal NUmber : {oct(n)}\")\n",
    "    print(f\"Hexadecimal Number : {hex(n)}\")\n",
    "    \n",
    "decimal_other()"
   ]
  },
  {
   "cell_type": "code",
   "execution_count": 15,
   "id": "be513ba2",
   "metadata": {},
   "outputs": [
    {
     "name": "stdout",
     "output_type": "stream",
     "text": [
      "enter a number : 78\n",
      "Binary Number : 0b1001110\n",
      "Octal NUmber : 0o116\n",
      "Hexadecimal Number : 0x4e\n"
     ]
    }
   ],
   "source": [
    "decimal_other()"
   ]
  },
  {
   "cell_type": "raw",
   "id": "ca0f71b5",
   "metadata": {},
   "source": [
    "4. Write a Python Program to Find the ASCII value of a Character ?"
   ]
  },
  {
   "cell_type": "code",
   "execution_count": 17,
   "id": "b947d7cc",
   "metadata": {},
   "outputs": [
    {
     "name": "stdout",
     "output_type": "stream",
     "text": [
      "Enter a character : y\n",
      "ASCII character of y is 121\n"
     ]
    }
   ],
   "source": [
    "def ascii_value_char():\n",
    "    char = input(\"Enter a character : \")\n",
    "    if len(char)>1:\n",
    "        print(\"please enter a single character\")\n",
    "    else:\n",
    "        print(f\"ASCII character of {char} is {ord(char)}\")\n",
    "        \n",
    "ascii_value_char()"
   ]
  },
  {
   "cell_type": "code",
   "execution_count": 18,
   "id": "dfa33e16",
   "metadata": {},
   "outputs": [
    {
     "name": "stdout",
     "output_type": "stream",
     "text": [
      "Enter a character : d\n",
      "ASCII character of d is 100\n"
     ]
    }
   ],
   "source": [
    "ascii_value_char()"
   ]
  },
  {
   "cell_type": "raw",
   "id": "105039d7",
   "metadata": {},
   "source": [
    "5. Write a Python Program to Make a Simple Calculator with 4 Basic Mathematical operations ?"
   ]
  },
  {
   "cell_type": "code",
   "execution_count": 1,
   "id": "cb552ddf",
   "metadata": {},
   "outputs": [
    {
     "name": "stdout",
     "output_type": "stream",
     "text": [
      "select mathematical operation:\n",
      "Addition(+)\n",
      "Subtraction(-)\n",
      "Multiplication(*)\n",
      "Division(/)\n",
      "stop(0)\n",
      "\n",
      " Enter a arithmetic operation : +\n",
      "Enter first number : 23\n",
      "Enter second number : 34\n",
      "23 + 34 = 57\n",
      " Enter a arithmetic operation : -\n",
      "Enter first number : 34\n",
      "Enter second number : 12\n",
      "34 - 12 = 22\n",
      " Enter a arithmetic operation : *\n",
      "Enter first number : 23\n",
      "Enter second number : 4\n",
      "23 * 4 = 92\n",
      " Enter a arithmetic operation : /\n",
      "Enter first number : 2\n",
      "Enter second number : 7\n",
      "2 / 7 = 0.2857142857142857\n",
      " Enter a arithmetic operation : h\\\n",
      "Please enter a valid operator\n",
      " Enter a arithmetic operation : 0\n",
      "program stopped successfully\n"
     ]
    }
   ],
   "source": [
    "import operator\n",
    "\n",
    "ops = {\"+\" : operator.add, \"-\" : operator.sub, \"*\": operator.mul, \"/\": operator.truediv}\n",
    "print(\"\"\"select mathematical operation:\n",
    "Addition(+)\n",
    "Subtraction(-)\n",
    "Multiplication(*)\n",
    "Division(/)\n",
    "stop(0)\n",
    "\"\"\")\n",
    "\n",
    "while True:\n",
    "    operator = input(\" Enter a arithmetic operation : \")\n",
    "    if operator == \"0\":\n",
    "        print(\"program stopped successfully\")\n",
    "        break\n",
    "    elif operator not in ['+','-','*','/']:\n",
    "        print(\"Please enter a valid operator\")\n",
    "    else:\n",
    "        n1 = int(input(\"Enter first number : \"))\n",
    "        n2 = int(input(\"Enter second number : \"))\n",
    "        print(f\"{n1} {operator} {n2} = {ops[operator](n1,n2)}\")"
   ]
  }
 ],
 "metadata": {
  "kernelspec": {
   "display_name": "Python 3 (ipykernel)",
   "language": "python",
   "name": "python3"
  },
  "language_info": {
   "codemirror_mode": {
    "name": "ipython",
    "version": 3
   },
   "file_extension": ".py",
   "mimetype": "text/x-python",
   "name": "python",
   "nbconvert_exporter": "python",
   "pygments_lexer": "ipython3",
   "version": "3.10.9"
  }
 },
 "nbformat": 4,
 "nbformat_minor": 5
}
