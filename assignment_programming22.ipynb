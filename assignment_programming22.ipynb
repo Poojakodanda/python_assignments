{
 "cells": [
  {
   "cell_type": "markdown",
   "id": "15f8fd39",
   "metadata": {},
   "source": [
    "1.Create a function that takes three parameters where:\n",
    "x is the start of the range (inclusive).\n",
    "y is the end of the range (inclusive).\n",
    "n is the divisor to be checked against.\n",
    "\n",
    "Return an ordered list with numbers in the range that are divisible by the third parameter n. Return an empty list if there are no numbers that are divisible by n. Examples:\n",
    "list_operation(1, 10, 3) ➞ [3, 6, 9]\n",
    "list_operation(7, 9, 2) ➞ [8]\n",
    "list_operation(15, 20, 7) ➞ []"
   ]
  },
  {
   "cell_type": "code",
   "execution_count": 1,
   "id": "f61f88ff",
   "metadata": {},
   "outputs": [
    {
     "name": "stdout",
     "output_type": "stream",
     "text": [
      "out put list is [3, 6, 9]\n"
     ]
    }
   ],
   "source": [
    "def list_operation(start, end, divisor):\n",
    "    out_put_list = []\n",
    "    for i in range(start, end+1):\n",
    "        if i%divisor == 0:\n",
    "            out_put_list.append(i)\n",
    "    print(f'out put list is {out_put_list}')\n",
    "    \n",
    "list_operation(1,10,3)"
   ]
  },
  {
   "cell_type": "code",
   "execution_count": 2,
   "id": "c18332ad",
   "metadata": {},
   "outputs": [
    {
     "name": "stdout",
     "output_type": "stream",
     "text": [
      "out put list is [20, 24, 28, 32, 36, 40]\n"
     ]
    }
   ],
   "source": [
    "list_operation(20,40,4)"
   ]
  },
  {
   "cell_type": "markdown",
   "id": "41b269fd",
   "metadata": {},
   "source": [
    "2.Create a function that takes in two lists and returns True if the second list follows the first list by one element, and False otherwise. In other words, determine if the second list is the first list shifted to the right by 1.\n",
    "Examples:\n",
    "simon_says([1, 2], [5, 1]) ➞ True\n",
    "simon_says([1, 2], [5, 5]) ➞ False\n",
    "simon_says([1, 2, 3, 4, 5], [0, 1, 2, 3, 4]) ➞ True\n",
    "simon_says([1, 2, 3, 4, 5], [5, 5, 1, 2, 3]) ➞ False\n",
    "\n",
    "Notes:\n",
    "1. Both input lists will be of the same length, and will have a minimum length of 2.\n",
    "2. The values of the 0-indexed element in the second list and the n-1th indexed element in the first list do not matter."
   ]
  },
  {
   "cell_type": "code",
   "execution_count": 2,
   "id": "e56ce1d2",
   "metadata": {},
   "outputs": [
    {
     "name": "stdout",
     "output_type": "stream",
     "text": [
      "[1, 2, 3, 4],[9, 1, 2, 3] = True\n"
     ]
    }
   ],
   "source": [
    "def simon_says(list1,list2):\n",
    "    if len(list1)==len(list2):\n",
    "        if len(list1)>=2:\n",
    "            if list1[:-1]==list2[1:]:\n",
    "                print(f'{list1},{list2} = {True}')\n",
    "            else:\n",
    "                print(f'{list1},{list2} = {False}')\n",
    "                \n",
    "simon_says([1,2,3,4],[9,1,2,3])                   \n",
    "                "
   ]
  },
  {
   "cell_type": "code",
   "execution_count": 3,
   "id": "bd9afda0",
   "metadata": {},
   "outputs": [
    {
     "name": "stdout",
     "output_type": "stream",
     "text": [
      "[23, 34, 45, 56, 67],[100, 23, 34, 45, 56] = True\n"
     ]
    }
   ],
   "source": [
    "simon_says([23,34,45,56,67],[100,23,34,45,56])"
   ]
  },
  {
   "cell_type": "code",
   "execution_count": 4,
   "id": "8c9d7c93",
   "metadata": {},
   "outputs": [
    {
     "name": "stdout",
     "output_type": "stream",
     "text": [
      "['a', 'b', 'c'],['z', 'a', 'b'] = True\n"
     ]
    }
   ],
   "source": [
    "simon_says(['a','b','c'],['z','a','b'])"
   ]
  },
  {
   "cell_type": "markdown",
   "id": "dac5d31e",
   "metadata": {},
   "source": [
    "3.A group of friends have decided to start a secret society. The name will be the first letter of each of their names, sorted in a alphabetical order ? Create a function that takes in a list of names and returns the name of the secret society ?\n",
    "Examples:\n",
    "society_name([\"Adam\", \"Sarah\", \"Malcolm\"]) ➞ \"AMS\"\n",
    "society_name([\"Harry\", \"Newt\", \"Luna\", \"Cho\"]) ➞ \"CHLN\"\n",
    "society_name([\"Phoebe\", \"Chandler\", \"Rachel\", \"Ross\", \"Monica\", \"Joey\"])"
   ]
  },
  {
   "cell_type": "code",
   "execution_count": 5,
   "id": "216a89e0",
   "metadata": {},
   "outputs": [
    {
     "name": "stdout",
     "output_type": "stream",
     "text": [
      "['Adam', 'Sarah', 'Malcolm'] = AMS\n"
     ]
    }
   ],
   "source": [
    "def society_name(list1):\n",
    "    out = []\n",
    "    for i in list1:\n",
    "        out.append(i[0])\n",
    "    output = ''.join(sorted(out))\n",
    "    print(f'{list1} = {output}')\n",
    "    \n",
    "society_name([\"Adam\", \"Sarah\", \"Malcolm\"]) "
   ]
  },
  {
   "cell_type": "code",
   "execution_count": 6,
   "id": "ca563082",
   "metadata": {},
   "outputs": [
    {
     "name": "stdout",
     "output_type": "stream",
     "text": [
      "['Harry', 'Newt', 'Luna', 'Cho'] = CHLN\n"
     ]
    }
   ],
   "source": [
    "society_name([\"Harry\", \"Newt\", \"Luna\", \"Cho\"])"
   ]
  },
  {
   "cell_type": "code",
   "execution_count": 7,
   "id": "ef9cfa19",
   "metadata": {},
   "outputs": [
    {
     "name": "stdout",
     "output_type": "stream",
     "text": [
      "['Phoebe', 'Chandler', 'Rachel', 'Ross', 'Monica', 'Joey'] = CJMPRR\n"
     ]
    }
   ],
   "source": [
    " society_name([\"Phoebe\", \"Chandler\", \"Rachel\", \"Ross\", \"Monica\", \"Joey\"])"
   ]
  },
  {
   "cell_type": "markdown",
   "id": "52bfdcc7",
   "metadata": {},
   "source": [
    "4.An isogram is a word that has no duplicate letters. Create a function that takes a string and returns either True or False depending on whether or not it's an \"isogram\".\n",
    "Examples:\n",
    "is_isogram(\"Algorism\") ➞ True\n",
    "is_isogram(\"PasSword\") ➞ False\n",
    "##### Not case sensitive.\n",
    "is_isogram(\"Consecutive\") ➞ False\n",
    "\n",
    "Notes:\n",
    "Ignore letter case (should not be case sensitive).\n",
    "All test cases contain valid one word strings."
   ]
  },
  {
   "cell_type": "code",
   "execution_count": 8,
   "id": "31542397",
   "metadata": {},
   "outputs": [
    {
     "name": "stdout",
     "output_type": "stream",
     "text": [
      "Algorism --> True\n"
     ]
    }
   ],
   "source": [
    "def is_isogram(string):\n",
    "    lower_case=string.lower()\n",
    "    if len(lower_case) == len(set(lower_case)):\n",
    "        print(f'{string} --> {True}')\n",
    "    else:\n",
    "        print(f'{string} --> {False}')\n",
    "        \n",
    "is_isogram(\"Algorism\")"
   ]
  },
  {
   "cell_type": "code",
   "execution_count": 10,
   "id": "3ad9596a",
   "metadata": {},
   "outputs": [
    {
     "name": "stdout",
     "output_type": "stream",
     "text": [
      "PasSword --> False\n"
     ]
    }
   ],
   "source": [
    "is_isogram(\"PasSword\")"
   ]
  },
  {
   "cell_type": "code",
   "execution_count": 11,
   "id": "ef0ecefd",
   "metadata": {},
   "outputs": [
    {
     "name": "stdout",
     "output_type": "stream",
     "text": [
      "Pooja --> False\n"
     ]
    }
   ],
   "source": [
    "is_isogram('Pooja')"
   ]
  },
  {
   "cell_type": "markdown",
   "id": "b57abcef",
   "metadata": {},
   "source": [
    "5.Create a function that takes a string and returns True or False, depending on whether the characters are in order or not ?\n",
    "Examples:\n",
    "is_in_order(\"abc\") ➞ True\n",
    "is_in_order(\"edabit\") ➞ False\n",
    "is_in_order(\"123\") ➞ True\n",
    "is_in_order(\"xyzz\") ➞ True\n",
    "\n",
    "Notes:\n",
    "You don't have to handle empty strings."
   ]
  },
  {
   "cell_type": "code",
   "execution_count": 12,
   "id": "9ab1b485",
   "metadata": {},
   "outputs": [
    {
     "name": "stdout",
     "output_type": "stream",
     "text": [
      "abcdef --> True\n"
     ]
    }
   ],
   "source": [
    "def is_in_order(string):\n",
    "    string_sorted = \"\".join(sorted(string))\n",
    "    if string_sorted == string:\n",
    "        print(f'{string} --> {True}')\n",
    "    else:\n",
    "        print(f'{string} --> {False}')\n",
    "        \n",
    "is_in_order(\"abcdef\")"
   ]
  },
  {
   "cell_type": "code",
   "execution_count": 14,
   "id": "af7989e7",
   "metadata": {},
   "outputs": [
    {
     "name": "stdout",
     "output_type": "stream",
     "text": [
      "123456 --> True\n"
     ]
    }
   ],
   "source": [
    "is_in_order(\"123456\")"
   ]
  },
  {
   "cell_type": "code",
   "execution_count": 15,
   "id": "1e07bd01",
   "metadata": {},
   "outputs": [
    {
     "name": "stdout",
     "output_type": "stream",
     "text": [
      "zxcfse --> False\n"
     ]
    }
   ],
   "source": [
    "is_in_order(\"zxcfse\")"
   ]
  }
 ],
 "metadata": {
  "kernelspec": {
   "display_name": "Python 3 (ipykernel)",
   "language": "python",
   "name": "python3"
  },
  "language_info": {
   "codemirror_mode": {
    "name": "ipython",
    "version": 3
   },
   "file_extension": ".py",
   "mimetype": "text/x-python",
   "name": "python",
   "nbconvert_exporter": "python",
   "pygments_lexer": "ipython3",
   "version": "3.10.9"
  }
 },
 "nbformat": 4,
 "nbformat_minor": 5
}
