{
 "cells": [
  {
   "cell_type": "raw",
   "id": "0c57195c",
   "metadata": {},
   "source": [
    "1.Write a function that stutters a word as if someone is struggling to read it. The first two letters are repeated twice with an ellipsis ... and space after each, and then the word is pronounced with a question mark ?\n",
    "Examples: stutter(\"incredible\") ➞ \"in... in... incredible?\"\n",
    "stutter(\"enthusiastic\") ➞ \"en... en... enthusiastic?\"\n",
    "stutter(\"outstanding\") ➞ \"ou... ou... outstanding?\"\n",
    "\n",
    "Hint :- Assume all input is in lower case and at least two characters long."
   ]
  },
  {
   "cell_type": "code",
   "execution_count": 4,
   "id": "98b04809",
   "metadata": {},
   "outputs": [
    {
     "name": "stdout",
     "output_type": "stream",
     "text": [
      "Enter the world : outstanding\n",
      "outstanding --> ou.....ou.....outstanding?\n"
     ]
    }
   ],
   "source": [
    "def stutter_words():\n",
    "    string  = input(\"Enter the world : \")\n",
    "    output = string[0:2]+\".....\"+string[0:2]+\".....\"+string+\"?\"\n",
    "    print(f\"{string} --> {output}\")\n",
    "    \n",
    "stutter_words()"
   ]
  },
  {
   "cell_type": "raw",
   "id": "313c7c43",
   "metadata": {},
   "source": [
    "2..Create a function that takes an angle in radians and returns the corresponding angle in degrees rounded to one decimal place ?\n",
    "Examples: radians_to_degrees(1) ➞ 57.3\n",
    "radians_to_degrees(20) ➞ 1145.9\n",
    "radians_to_degrees(50) ➞ 2864.8"
   ]
  },
  {
   "cell_type": "code",
   "execution_count": 1,
   "id": "7bdc2d97",
   "metadata": {
    "scrolled": true
   },
   "outputs": [
    {
     "name": "stdout",
     "output_type": "stream",
     "text": [
      "Enter thE angle in radians : 23\n",
      "23 randians --> 1317.8 degrees\n"
     ]
    }
   ],
   "source": [
    "import math\n",
    "def Radian_to_Degree():\n",
    "    n = int(input(\"Enter thE angle in radians : \"))\n",
    "    output = (180/math.pi)*n\n",
    "    print(f\"{n} randians --> {output:.1f} degrees\")\n",
    "    \n",
    "Radian_to_Degree()"
   ]
  },
  {
   "cell_type": "raw",
   "id": "7897e7cc",
   "metadata": {},
   "source": [
    "3.In this challenge, establish if a given integer num is a Curzon number. If 1 plus 2 elevated to num is exactly divisible by 1 plus 2 multiplied by num, then num is a Curzon number. Given a non-negative integer num, implement a function that returns True if num is a Curzon number, or False otherwise.\n",
    "Examples: is_curzon(5) ➞ True # 2 ** 5 + 1 = 33 # 2 * 5 + 1 = 11 # 33 is a multiple of 11 is_curzon(10) ➞ False # 2 ** 10 + 1 = 1025 # 2 * 10 + 1 = 21 # 1025 is not a multiple of 21 is_curzon(14) ➞ True # 2 ** 14 + 1 = 16385 # 2 * 14 + 1 = 29 # 16385 is a multiple of 29"
   ]
  },
  {
   "cell_type": "code",
   "execution_count": 2,
   "id": "55ca30a4",
   "metadata": {
    "scrolled": false
   },
   "outputs": [
    {
     "name": "stdout",
     "output_type": "stream",
     "text": [
      "Enter a number : 7\n",
      "7 is not a Curzon Number\n"
     ]
    }
   ],
   "source": [
    "def check_curzon():\n",
    "    n = int(input(\"Enter a number : \"))\n",
    "    if ((2**n)+1)%((2*n)+1) == 0 :\n",
    "        print(f\"{n} is a Curzon Number\")\n",
    "    else:\n",
    "        print(f\"{n} is not a Curzon Number\")\n",
    "        \n",
    "check_curzon()"
   ]
  },
  {
   "cell_type": "code",
   "execution_count": 3,
   "id": "4142b328",
   "metadata": {},
   "outputs": [
    {
     "name": "stdout",
     "output_type": "stream",
     "text": [
      "Enter a number : 5\n",
      "5 is a Curzon Number\n"
     ]
    }
   ],
   "source": [
    "check_curzon()"
   ]
  },
  {
   "cell_type": "raw",
   "id": "a1d85898",
   "metadata": {},
   "source": [
    "4.Given the side length x find the area of a hexagon ?\n",
    "Examples: area_of_hexagon(1) ➞ 2.6\n",
    "area_of_hexagon(2) ➞ 10.4\n",
    "area_of_hexagon(3) ➞ 23.4"
   ]
  },
  {
   "cell_type": "code",
   "execution_count": 4,
   "id": "9aef1be6",
   "metadata": {},
   "outputs": [
    {
     "name": "stdout",
     "output_type": "stream",
     "text": [
      "Enter the side length of a hexagon : 4\n",
      "Area for hexagon of sidelength 4 is 41.569219381653056\n"
     ]
    }
   ],
   "source": [
    "import math\n",
    "\n",
    "def area_of_hexagon():\n",
    "    len_side = int(input(\"Enter the side length of a hexagon : \"))\n",
    "    area = (3/2)*(math.sqrt(3))*(len_side**2)\n",
    "    print(f\"Area for hexagon of sidelength {len_side} is {area}\")\n",
    "    \n",
    "area_of_hexagon()"
   ]
  },
  {
   "cell_type": "raw",
   "id": "4b39d816",
   "metadata": {},
   "source": [
    "5.Create a function that returns a base-2 (binary) representation of a base-10 (decimal) string number. To convert is simple:\n",
    "((2) means base-2 and (10) means base-10)\n",
    "010101001(2) = 1 + 8 + 32 + 128.\n",
    "Going from right to left, the value of the most right bit is 1, now from that every bit to the left will be x2 the value, value of an 8 bit binary numbers are (256, 128, 64, 32, 16, 8, 4, 2, 1).\n",
    "Examples:\n",
    "binary(1) ➞ \"1\" # 1* 1 = 1 binary(5) ➞ \"101\" # 1 1 + 1 4 = 5 binary(10) ➞ \"1010\" # 1 2 + 1 8 = 10"
   ]
  },
  {
   "cell_type": "code",
   "execution_count": 10,
   "id": "2a22f40e",
   "metadata": {},
   "outputs": [
    {
     "name": "stdout",
     "output_type": "stream",
     "text": [
      "101"
     ]
    }
   ],
   "source": [
    "def get_binary(n):\n",
    "    l = []\n",
    "    if n>1:\n",
    "        get_binary(n//2)\n",
    "    print(n % 2, end = \"\")\n",
    "\n",
    "\n",
    "get_binary(5)"
   ]
  },
  {
   "cell_type": "code",
   "execution_count": null,
   "id": "a5895c9c",
   "metadata": {},
   "outputs": [],
   "source": []
  }
 ],
 "metadata": {
  "kernelspec": {
   "display_name": "Python 3 (ipykernel)",
   "language": "python",
   "name": "python3"
  },
  "language_info": {
   "codemirror_mode": {
    "name": "ipython",
    "version": 3
   },
   "file_extension": ".py",
   "mimetype": "text/x-python",
   "name": "python",
   "nbconvert_exporter": "python",
   "pygments_lexer": "ipython3",
   "version": "3.10.9"
  }
 },
 "nbformat": 4,
 "nbformat_minor": 5
}
