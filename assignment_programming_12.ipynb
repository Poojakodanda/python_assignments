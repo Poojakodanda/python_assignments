{
 "cells": [
  {
   "cell_type": "raw",
   "id": "ae6dc5f8",
   "metadata": {},
   "source": [
    "1.Write a Python program to Extract Unique values in dictionary values?"
   ]
  },
  {
   "cell_type": "code",
   "execution_count": 2,
   "id": "c9888e99",
   "metadata": {},
   "outputs": [
    {
     "name": "stdout",
     "output_type": "stream",
     "text": [
      "Dict_values : dict_values(['!', '@', '#', '$', '@', '^', '$', '*'])\n",
      "Unique Values in dictionary : ['@', '!', '#', '*', '^', '$']\n"
     ]
    }
   ],
   "source": [
    "dict = {1:\"!\", 2:\"@\", 3:\"#\",4:\"$\",5:\"@\",6:\"^\",7:\"$\",8:\"*\"}\n",
    "print(f\"Dict_values : {dict.values()}\")\n",
    "print(f\"Unique Values in dictionary : {list(set(dict.values()))}\")"
   ]
  },
  {
   "cell_type": "raw",
   "id": "babfcc06",
   "metadata": {},
   "source": [
    "2.Write a Python program to find the sum of all items in a dictionary?"
   ]
  },
  {
   "cell_type": "code",
   "execution_count": 9,
   "id": "9ae779a3",
   "metadata": {},
   "outputs": [
    {
     "name": "stdout",
     "output_type": "stream",
     "text": [
      "Sum of all items : 230\n"
     ]
    }
   ],
   "source": [
    "dict = {\"Broccoli\" : 40,\"Cucumber\": 20, \"Bitter gourd\" : 30, \"Carrot\" : 60, 'Spring onions' : 20, 'Potato' : 30 ,'Capsicum' : 30}\n",
    "print(f\"Sum of all items : {sum(dict.values())}\")"
   ]
  },
  {
   "cell_type": "raw",
   "id": "06d78906",
   "metadata": {},
   "source": [
    "3.Write a Python program to Merging two Dictionaries?"
   ]
  },
  {
   "cell_type": "code",
   "execution_count": 11,
   "id": "04c668c4",
   "metadata": {},
   "outputs": [
    {
     "name": "stdout",
     "output_type": "stream",
     "text": [
      "{'R V school': 'classes', 'charvee': 'Pre-kg', 'vedhanth': 'LKG'}\n"
     ]
    }
   ],
   "source": [
    "school = {\"R V school\" : \"classes\"}\n",
    "student = {\"charvee\" : \"Pre-kg\", \"vedhanth\" : \"LKG\"}\n",
    "school.update(student)\n",
    "print(school)"
   ]
  },
  {
   "cell_type": "raw",
   "id": "2d4157e6",
   "metadata": {},
   "source": [
    "4.Write a Python program to convert key-values list to flat dictionary?"
   ]
  },
  {
   "cell_type": "code",
   "execution_count": 15,
   "id": "126b7390",
   "metadata": {},
   "outputs": [
    {
     "name": "stdout",
     "output_type": "stream",
     "text": [
      "{'A': 1, 'B': 2, 'C': 3, 'D': 4, 'E': 5, 'F': 6, 'G': 7, 'H': 8}\n"
     ]
    }
   ],
   "source": [
    "list1 = [('A', 1), ('B',2),('C',3),('D',4),('E',5),('F',6),('G',7),('H',8)]\n",
    "dict1 = {}\n",
    "for i in list1:\n",
    "    dict1[i[0]] = i[1]\n",
    "print(dict1)"
   ]
  },
  {
   "cell_type": "raw",
   "id": "d17d8f93",
   "metadata": {},
   "source": [
    "5.Write a Python program to insertion at the beginning in OrderedDict?"
   ]
  },
  {
   "cell_type": "code",
   "execution_count": 8,
   "id": "d777f305",
   "metadata": {
    "scrolled": true
   },
   "outputs": [
    {
     "name": "stdout",
     "output_type": "stream",
     "text": [
      "dictionary :- OrderedDict([('A', 1), ('B', 2), ('C', 3), ('D', 4)])\n",
      "dictionary :- OrderedDict([('A', 1), ('B', 2), ('C', 3), ('D', 4), ('c1', 9)])\n",
      "Diction : - OrderedDict([('c1', 9), ('A', 1), ('B', 2), ('C', 3), ('D', 4)])\n"
     ]
    }
   ],
   "source": [
    "from collections import OrderedDict\n",
    "\n",
    "dict5 = OrderedDict([('A', 1), ('B',2), ('C', 3), ('D', 4)])\n",
    "print(f\"dictionary :- {dict5}\")\n",
    "\n",
    "dict5[\"c1\"]=9\n",
    "print(f\"dictionary :- {dict5}\")\n",
    "\n",
    "dict5.move_to_end(\"c1\",last = False)\n",
    "print(f\"Diction : - {dict5}\")"
   ]
  },
  {
   "cell_type": "raw",
   "id": "a6a46232",
   "metadata": {},
   "source": [
    "6.Write a Python program to check order of character in string using OrderedDict()?"
   ]
  },
  {
   "cell_type": "code",
   "execution_count": 1,
   "id": "03729ea2",
   "metadata": {},
   "outputs": [
    {
     "name": "stdout",
     "output_type": "stream",
     "text": [
      "{'a': 1000, 'f': 200, 'd': 300, 'c': 400, 'b': 500, 'e': 600}\n",
      "OrderedDict([('a', 1000), ('b', 500), ('c', 400), ('d', 300), ('e', 600), ('f', 200)])\n"
     ]
    }
   ],
   "source": [
    "from collections import OrderedDict\n",
    "\n",
    "initial_list = [('a', 1000), ('f', 200), ('d', 300), ('c', 400), ('b', 500), ('e', 600)]\n",
    "initial_dict = {'a': 1000, 'f': 200, 'd': 300, 'c': 400, 'b': 500, 'e': 600}\n",
    "print(initial_dict)\n",
    "\n",
    "final_list = OrderedDict(sorted(initial_list, key=lambda x: x[0]))\n",
    "print(final_list)"
   ]
  },
  {
   "cell_type": "raw",
   "id": "cae5dd4d",
   "metadata": {},
   "source": [
    "7.Write a Python program to sort Python Dictionaries by Key or Value?"
   ]
  },
  {
   "cell_type": "code",
   "execution_count": 3,
   "id": "82dee4f3",
   "metadata": {},
   "outputs": [
    {
     "name": "stdout",
     "output_type": "stream",
     "text": [
      "{'Banana': 60, 'Grape': 13, 'Mango': 100, 'PineApple': 22}\n",
      "{'Grape': 13, 'PineApple': 22, 'Banana': 60, 'Mango': 100}\n"
     ]
    }
   ],
   "source": [
    "d_items = {'Mango':100,'PineApple':22,'Banana':60,'Grape':13}\n",
    "\n",
    "def sort_dict(in_dict,sort_type):\n",
    "    if sort_type == 'key':\n",
    "        print(dict(sorted(in_dict.items(), key=lambda x:x[0], reverse=False)))\n",
    "    else:\n",
    "        print(dict(sorted(in_dict.items(), key=lambda x:x[1], reverse=False)))\n",
    "        \n",
    "sort_dict(d_items,'key')        \n",
    "sort_dict(d_items,'value')"
   ]
  },
  {
   "cell_type": "code",
   "execution_count": null,
   "id": "68a7fe49",
   "metadata": {},
   "outputs": [],
   "source": []
  }
 ],
 "metadata": {
  "kernelspec": {
   "display_name": "Python 3 (ipykernel)",
   "language": "python",
   "name": "python3"
  },
  "language_info": {
   "codemirror_mode": {
    "name": "ipython",
    "version": 3
   },
   "file_extension": ".py",
   "mimetype": "text/x-python",
   "name": "python",
   "nbconvert_exporter": "python",
   "pygments_lexer": "ipython3",
   "version": "3.10.9"
  }
 },
 "nbformat": 4,
 "nbformat_minor": 5
}
