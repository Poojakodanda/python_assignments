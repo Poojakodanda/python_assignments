{
 "cells": [
  {
   "cell_type": "markdown",
   "id": "93d44d64",
   "metadata": {},
   "source": [
    "1.Create a function that takes a string and returns a string in which each character is repeated once.\n",
    "Examples:\n",
    "double_char(\"String\") ➞ \"SSttrriinngg\"\n",
    "double_char(\"Hello World!\") ➞ \"HHeelllloo WWoorrlldd!!\"\n",
    "doublechar(\"1234!_\") ➞ \"11223344!!__\""
   ]
  },
  {
   "cell_type": "code",
   "execution_count": 3,
   "id": "4ad82b89",
   "metadata": {},
   "outputs": [
    {
     "data": {
      "text/plain": [
       "'ppoooo'"
      ]
     },
     "execution_count": 3,
     "metadata": {},
     "output_type": "execute_result"
    }
   ],
   "source": [
    "def double_char(string):\n",
    "    out_put =''\n",
    "    for i in string:\n",
    "        out_put = out_put+i*2\n",
    "    return out_put\n",
    "\n",
    "double_char(\"poo\")"
   ]
  },
  {
   "cell_type": "code",
   "execution_count": 4,
   "id": "790adb7b",
   "metadata": {},
   "outputs": [
    {
     "data": {
      "text/plain": [
       "'cchhaarrvveeee'"
      ]
     },
     "execution_count": 4,
     "metadata": {},
     "output_type": "execute_result"
    }
   ],
   "source": [
    "double_char(\"charvee\")"
   ]
  },
  {
   "cell_type": "markdown",
   "id": "384385ce",
   "metadata": {},
   "source": [
    "2.Create a function that reverses a boolean value and returns the string \"boolean expected\" if another variable type is given.\n",
    "Examples:\n",
    "reverse(True) ➞ False\n",
    "reverse(False) ➞ True\n",
    "reverse(0) ➞ \"boolean expected\"\n",
    "reverse(None) ➞ \"boolean expected\""
   ]
  },
  {
   "cell_type": "code",
   "execution_count": 8,
   "id": "475b1970",
   "metadata": {},
   "outputs": [
    {
     "data": {
      "text/plain": [
       "False"
      ]
     },
     "execution_count": 8,
     "metadata": {},
     "output_type": "execute_result"
    }
   ],
   "source": [
    "def reverse(in_bool):\n",
    "    if type(in_bool)==bool:\n",
    "        return not in_bool\n",
    "    else:\n",
    "        return \"Boolean Expected\"\n",
    "    \n",
    "    \n",
    "reverse(True)"
   ]
  },
  {
   "cell_type": "code",
   "execution_count": 9,
   "id": "b2b94190",
   "metadata": {},
   "outputs": [
    {
     "data": {
      "text/plain": [
       "True"
      ]
     },
     "execution_count": 9,
     "metadata": {},
     "output_type": "execute_result"
    }
   ],
   "source": [
    "reverse(False)"
   ]
  },
  {
   "cell_type": "code",
   "execution_count": 11,
   "id": "f1ce07cb",
   "metadata": {},
   "outputs": [
    {
     "data": {
      "text/plain": [
       "'Boolean Expected'"
      ]
     },
     "execution_count": 11,
     "metadata": {},
     "output_type": "execute_result"
    }
   ],
   "source": [
    "reverse(None)"
   ]
  },
  {
   "cell_type": "code",
   "execution_count": 12,
   "id": "e8cf3b2f",
   "metadata": {},
   "outputs": [
    {
     "data": {
      "text/plain": [
       "'Boolean Expected'"
      ]
     },
     "execution_count": 12,
     "metadata": {},
     "output_type": "execute_result"
    }
   ],
   "source": [
    "reverse(0)"
   ]
  },
  {
   "cell_type": "code",
   "execution_count": 13,
   "id": "3ba9a2a0",
   "metadata": {},
   "outputs": [
    {
     "data": {
      "text/plain": [
       "'Boolean Expected'"
      ]
     },
     "execution_count": 13,
     "metadata": {},
     "output_type": "execute_result"
    }
   ],
   "source": [
    "reverse(5)"
   ]
  },
  {
   "cell_type": "markdown",
   "id": "972fe7eb",
   "metadata": {},
   "source": [
    "3. Create a function that returns the thickness (in meters) of a piece of paper after folding it n number of times. The paper starts off with a thickness of 0.5mm.\n",
    "Examples:\n",
    "num_layers(1) ➞ \"0.001m\" # Paper folded once is 1mm (equal to 0.001m) num_layers(4) ➞ \"0.008m\" # Paper folded 4 times is 8mm (equal to 0.008m) num_layers(21) ➞ \"1048.576m\" # Paper folded 21 times is 1048576mm (equal to 1048.576m)"
   ]
  },
  {
   "cell_type": "code",
   "execution_count": 17,
   "id": "87694707",
   "metadata": {},
   "outputs": [
    {
     "name": "stdout",
     "output_type": "stream",
     "text": [
      "output ---> 0.001m\n"
     ]
    }
   ],
   "source": [
    "def num_layers(n):\n",
    "    out_num = 0.5\n",
    "    for i in range(n):\n",
    "        out_num = out_num*2\n",
    "    print(f\"output ---> {out_num/1000}m\")\n",
    "    \n",
    "num_layers(1)"
   ]
  },
  {
   "cell_type": "code",
   "execution_count": 19,
   "id": "100f4616",
   "metadata": {},
   "outputs": [
    {
     "name": "stdout",
     "output_type": "stream",
     "text": [
      "output ---> 0.032m\n"
     ]
    }
   ],
   "source": [
    "num_layers(6)"
   ]
  },
  {
   "cell_type": "markdown",
   "id": "b641e8d3",
   "metadata": {},
   "source": [
    "4.Create a function that takes a single string as argument and returns an ordered list containing the indices of all capital letters in the string.\n",
    "Examples:\n",
    "index_of_caps(\"eDaBiT\") ➞ [1, 3, 5]\n",
    "index_of_caps(\"eQuINoX\") ➞ [1, 3, 4, 6]\n",
    "index_of_caps(\"determine\") ➞ []\n",
    "index_of_caps(\"STRIKE\") ➞ [0, 1, 2, 3, 4, 5]\n",
    "index_of_caps(\"sUn\") ➞ [1]"
   ]
  },
  {
   "cell_type": "code",
   "execution_count": 20,
   "id": "8512a5d7",
   "metadata": {},
   "outputs": [],
   "source": [
    "def index_of_caps(string):\n",
    "    out_put =[]\n",
    "    for i in string:\n",
    "        if i.isupper():\n",
    "            out_put.append(string.index(i))\n",
    "    print(f'{string} --> {out_put}')"
   ]
  },
  {
   "cell_type": "code",
   "execution_count": 21,
   "id": "d45d0bd3",
   "metadata": {},
   "outputs": [
    {
     "name": "stdout",
     "output_type": "stream",
     "text": [
      "aBcDeF --> [1, 3, 5]\n"
     ]
    }
   ],
   "source": [
    "index_of_caps('aBcDeF')"
   ]
  },
  {
   "cell_type": "code",
   "execution_count": 22,
   "id": "1b640bb3",
   "metadata": {},
   "outputs": [
    {
     "name": "stdout",
     "output_type": "stream",
     "text": [
      "VeDAnTH --> [0, 2, 3, 5, 6]\n"
     ]
    }
   ],
   "source": [
    "index_of_caps('VeDAnTH')"
   ]
  },
  {
   "cell_type": "code",
   "execution_count": 23,
   "id": "b38dcd37",
   "metadata": {},
   "outputs": [
    {
     "name": "stdout",
     "output_type": "stream",
     "text": [
      "ChaRVEE --> [0, 3, 4, 5, 5]\n"
     ]
    }
   ],
   "source": [
    "index_of_caps('ChaRVEE')"
   ]
  },
  {
   "cell_type": "markdown",
   "id": "5dbec46f",
   "metadata": {},
   "source": [
    "5.Using list comprehensions, create a function that finds all even numbers from 1 to the given number.\n",
    "Examples:\n",
    "find_even_nums(8) ➞ [2, 4, 6, 8]\n",
    "find_even_nums(4) ➞ [2, 4]\n",
    "find_even_nums(2) ➞ [2]"
   ]
  },
  {
   "cell_type": "code",
   "execution_count": 24,
   "id": "1a497be3",
   "metadata": {},
   "outputs": [],
   "source": [
    "def find_even_number(n):\n",
    "    out_list =[i for i in range(0,n+1) if i%2==0]\n",
    "    print(f'Output --> {out_list}')"
   ]
  },
  {
   "cell_type": "code",
   "execution_count": 26,
   "id": "520e6df7",
   "metadata": {},
   "outputs": [
    {
     "name": "stdout",
     "output_type": "stream",
     "text": [
      "Output --> [0, 2, 4, 6, 8]\n"
     ]
    }
   ],
   "source": [
    "find_even_number(8)"
   ]
  }
 ],
 "metadata": {
  "kernelspec": {
   "display_name": "Python 3 (ipykernel)",
   "language": "python",
   "name": "python3"
  },
  "language_info": {
   "codemirror_mode": {
    "name": "ipython",
    "version": 3
   },
   "file_extension": ".py",
   "mimetype": "text/x-python",
   "name": "python",
   "nbconvert_exporter": "python",
   "pygments_lexer": "ipython3",
   "version": "3.10.9"
  }
 },
 "nbformat": 4,
 "nbformat_minor": 5
}
